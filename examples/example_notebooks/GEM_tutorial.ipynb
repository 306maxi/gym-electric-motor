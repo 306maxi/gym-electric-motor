{
 "cells": [
  {
   "cell_type": "markdown",
   "metadata": {},
   "source": [
    "# Tutorial to create a customized PMSM motor environment\n",
    "\n",
    "This example notebook aims to provide an introduction to the usage of the gym-electric-motor (GEM) toolbox. The first section provides a quick start guide to use the GEM toolbox.\n",
    "Further sections provide a step by step guide to customize the different features offered by the toolbox and its application. In this example, a guide to create a customized discrete permanent magnet synchronous motor (PMSM) environment is presented.\n",
    "\n",
    "<!-- The following code snippets are only needed if you are executing this file directly from a cloned GitHub repository where you don't have GEM installed -->"
   ]
  },
  {
   "cell_type": "markdown",
   "metadata": {},
   "source": [
    "## 1.    A Brief Introduction to GEM\n",
    "\n",
    "The gym-electric-motor (GEM) package is a software toolbox for the simulation of different electric motors.\n",
    "The toolbox is built upon the OpenAI gym environments for reinforcement learning. Therefore, the toolbox is specifically designed for running reinforcement learning algorithms to train agents controlling electric motors.\n",
    "Besides electrical motors, converters and load models are also implemented.\n",
    "\n",
    "The components of GEM are structured as shown in the figure below:\n",
    "\n",
    "![Motor Setup](img/SCML_Setting.svg)\n",
    "\n",
    "\n",
    "### 1.1  Installation\n",
    "Before you can start, you need to make sure that you have gym-electric-motor installed. You can install it easily using pip:\n",
    "\n",
    "<code>\n",
    "pip install gym-electric-motor\n",
    "</code>\n",
    "    \n",
    "Alternatively, you can install them and their latest developer version directly from GitHub:\n",
    "https://github.com/upb-lea/gym-electric-motor\n",
    "\n",
    "\n",
    "### 1.2 Basic PMSM environment\n",
    "As a quick start guide, the following example provides a method to create a basic motor environment . \n",
    "By simply calling the gem.make() function with the motor environment ID of the required electric motor, one can create a basic motor environment with default parameters and settings for all the relevant sub-components.\n",
    "More information on the motor environment ID and the default parameters can be found in the [documentation.](https://upb-lea.github.io/gym-electric-motor/parts/environments/environment.html)\n",
    "\n",
    "However, further sections provide a detailed guide to customize individual sub-components of the motor environment.\n"
   ]
  },
  {
   "cell_type": "code",
   "execution_count": 2,
   "metadata": {},
   "outputs": [
    {
     "data": {
      "text/plain": [
       "<gym_electric_motor.envs.gym_pmsm.perm_mag_syn_motor_env.DiscPermanentMagnetSynchronousMotorEnvironment at 0x7f2e20848320>"
      ]
     },
     "execution_count": 2,
     "metadata": {},
     "output_type": "execute_result"
    }
   ],
   "source": [
    "import gym_electric_motor as gem\n",
    "\n",
    "basic_env = gem.make(\"PMSMDisc-v1\")  # pass the motor environment ID as an arguement to the gem.make()\n",
    "basic_env"
   ]
  },
  {
   "cell_type": "markdown",
   "metadata": {},
   "source": [
    "## 2.  Physical System\n",
    "The system consists of a voltage supply, a power electronic converter, an electrical motor and the mechanical load (SCML) as shown in the above figure . Additionally, each SCML-system has got an ODE-solver for the simulation.\n",
    "\n",
    "\n",
    "### 2.1 Voltage Supply\n",
    "\n",
    "The voltage supply module of the GEM toolbox provides both DC and AC voltage supplies. \n",
    "- The DC supplies provided are ideal and non-Ideal DC voltage sources.\n",
    "- The AC supplies provided are single phase and 3-phase AC sources.  <br>\n",
    "\n",
    "More documentation regarding the voltage supplies of GEM can be found [here.](https://upb-lea.github.io/gym-electric-motor/parts/physical_systems/voltage_supplies/voltage_supply.html)  \n",
    "For the PMSM environment example, a non-ideal DC voltage supply is created. \n",
    "Here, the DC-link is modeled as an RC-circuit loaded from an ideal DC voltage source. This is illustrated in the below figure. \n",
    "\n",
    "\n",
    "<img src=\"img/non-ideal-supply.png\" alt=\"non-ideal-supply\" style=\"width: 600px;\"/>\n",
    "\n",
    "The non-ideal DC supply in GEM is named 'RCVoltageSupply' and the supply_parameter(dict) consists of resistance R in ohm and capacitance C in farad\n"
   ]
  },
  {
   "cell_type": "code",
   "execution_count": 3,
   "metadata": {},
   "outputs": [],
   "source": [
    "supply = 'RCVoltageSupply'\n",
    "supply_parameter=dict(R=10, C=4e-3)  # R and C values here are not realistic. \n",
    "                                     # Values here are just for reference"
   ]
  },
  {
   "cell_type": "markdown",
   "metadata": {},
   "source": [
    "### 2.2 Converter and Motor\n",
    "The converters are divided into two classes: The continuously controlled  and the discretely controlled converters.\n",
    "\n",
    "In the continuous case, the converter's output voltage is modulated directly through means of duty cycling. In the discrete case, the converter's output voltage is determined by the state of the converter switches at a given instant. Therefore, only a discrete amount of options are available. For this environment, the discrete B6 bridge converter which has three switches which amounts to a total of eight possible actions is used.\n",
    "<!-- ![Motor Setup](img/B6.svg) -->\n",
    "<img src=\"img/B6.svg\" alt=\"non-ideal-supply\" style=\"width: 400px;\"/>\n",
    "<br>\n",
    "<br>\n",
    "\n",
    "\n",
    "The electric motor is the **Permanent Magnet Synchronous Motor**.\n",
    "The motor schematic is the following:\n",
    "\n",
    "\n",
    "<!-- ![Motor Setup](img/ESBdq1.svg) -->\n",
    "<img src=\"img/ESBdq1.svg\" alt=\"non-ideal-supply\" style=\"width: 400px;\"/>\n",
    "\n",
    "<br>\n",
    "<br>\n",
    "\n",
    "And the electrical ODEs for that motor are:\n",
    "\n",
    "<h3 align=\"center\">\n",
    "\n",
    "$\\frac{\\mathrm{d}i_{sq}}{\\mathrm{d}t} = \\frac{u_{sq}-pL_d\\omega_{me}i_{sd}-R_si_{sq}}{L_q}$\n",
    "\n",
    "$\\frac{\\mathrm{d}i_{sd}}{\\mathrm{d}t} = \\frac{u_{sd}-pL_q\\omega_{me}i_{sq}-R_si_{sd}}{L_d}$\n",
    "\n",
    "$\\frac{\\mathrm{d}\\epsilon_{el}}{\\mathrm{d}t} = p\\omega_{me}$\n",
    "\n",
    "</h3>\n",
    "\n",
    "\n",
    "The motor environment ID for the discrete PMSM motor is **\"PMSMDisc-v1\"**. This is later passed to the 'make' function to create the motor environment. The environment IDs for other available motor environments can be found in the [documentation.](https://upb-lea.github.io/gym-electric-motor/parts/environments/environment.html)\n",
    "The parameters of the specific motor is to be passed by the user as a motor parameter dictionary. Default parameters will be considered in case the motor parameters are not provided by the user. The default converter for the environment ID used here is the discrete B6 bridge converter. More details can be found in the [documentation.](https://upb-lea.github.io/gym-electric-motor/parts/physical_systems/converters/B6C.html) <br>\n",
    "The nominal and limit values which define the operating region of the motor is also passed as a dictionary."
   ]
  },
  {
   "cell_type": "code",
   "execution_count": 4,
   "metadata": {},
   "outputs": [],
   "source": [
    "motor_env_id = \"PMSMDisc-v1\"\n",
    "tau = 1e-5    # The duration of each sampling step\n",
    "motor_parameter = dict(p=3,  # [p] = 1, nb of pole pairs\n",
    "                       r_s=17.932e-3,  # [r_s] = Ohm, stator resistance\n",
    "                       l_d=0.37e-3,  # [l_d] = H, d-axis inductance\n",
    "                       l_q=1.2e-3,  # [l_q] = H, q-axis inductance\n",
    "                       psi_p=65.65e-3,  # [psi_p] = Vs, magnetic flux of the permanent magnet\n",
    "                       )  # BRUSA\n",
    "\n",
    "nominal_values=dict(omega=4000*2*np.pi/60,  # angular velocity in RPM\n",
    "                    i=230,                  # motor current in amps\n",
    "                    u=350                   # nominal voltage in volts\n",
    "                    )\n",
    "# limit values are taken as 1.3 times the nominal values in this case.\n",
    "limit_values = {key: 1.3 * nomin for key, nomin in nominal_values.items()}\n"
   ]
  },
  {
   "cell_type": "markdown",
   "metadata": {},
   "source": [
    "### 2.3 Motor state initializer\n",
    "By default, the motor states (e.g. motor currents, rotational speed) are always set to zero whenever the motor environment is reset. In order to generate diverse expisodes, the motor state initializer can be used to draw the initial state values from a given probability distribution within the nominal operating range of the given motor. \n",
    "\n",
    "The 'motor_initializer' is a dictionary that consists of the type of distribution, for example, uniform or gaussian distribution and the interval of values within the nominal operating region. \n",
    "Here, the motor states, i.e. $i_{sd}$, $i_{sq}$ and motor angle are initialized with values sampled from a uniform distribution from the provided intervals. $i_{sd}$ and $i_{sq}$ are the motor currents in the d-q coordinate system. More details on the d-q coordinate system can be found [here.](https://en.wikipedia.org/wiki/Direct-quadrature-zero_transformation#:~:text=The%20direct%2Dquadrature%2Dzero%20,an%20effort%20to%20simplify%20analysis)\n"
   ]
  },
  {
   "cell_type": "code",
   "execution_count": 5,
   "metadata": {},
   "outputs": [],
   "source": [
    "motor_initializer={'random_init': 'uniform', 'interval': [[-230, 230], [-230, 230], [-np.pi, np.pi]]}  \n"
   ]
  },
  {
   "cell_type": "markdown",
   "metadata": {},
   "source": [
    "### 2.4 Mechanical Load\n",
    "The attached mechanical load in the GEM toolbox is represented by the function: <br>\n",
    "\n",
    "$ T_L(\\omega) = sign(\\omega_me)(c\\omega_{me}^2 + sign(\\omega_{me}\n",
    ")b\\omega_{me} +a) $  <br>\n",
    "\n",
    "The parameters are: constant load torque a, viscous friction coefficient b and aerodynamic load torque coefficient c. These parameters as well as a moment of inertia of the load J load can be freely\n",
    "defined by the user to simulate different loads.\n",
    "\n",
    "In this example, we use the load type: \"ConstSpeedLoad\" which initializes the load with a constant speed at the start of each episode. The initialization value for speed is sampled from a uniform distribution defined by the given interval.\n"
   ]
  },
  {
   "cell_type": "code",
   "execution_count": 6,
   "metadata": {},
   "outputs": [],
   "source": [
    "from gym_electric_motor.physical_systems import ConstantSpeedLoad\n",
    "\n",
    "load = 'ConstSpeedLoad'\n",
    "load_initializer={'random_init': 'uniform', 'interval':[100,200] }   \n"
   ]
  },
  {
   "cell_type": "markdown",
   "metadata": {},
   "source": [
    "## 3. Reward Function\n",
    "The reward calculation is based on the current state and reference of the motor environment. It is calculated as a weighted sum of errors with a certain power as follows:\n",
    "\n",
    "<!-- <h3 align=\"center\"> -->\n",
    "$ reward = - reward\\_weights * (abs(state - reference)/ state\\_length)^{reward\\_power}$  \n",
    "\n",
    "If states are observed for a constraint violation, an additional terminal reward is added. This value depends on the discount factor gamma as follows. \n",
    "<!-- <h3 align=\"center\"> -->\n",
    "$limit\\_violation\\_reward = -1 / (1 - \\gamma).$\n",
    "\n",
    "\n",
    "### 3.1. Constraint Monitor\n",
    "The constraint monitor observes the system states and assesses whether\n",
    "    they comply the given limits or violate them.\n",
    "    It returns the necessary information for the reward function, to calculate\n",
    "    the corresponding reward value.\n",
    "    The constraints of the system states can be generally described by the user\n",
    "    or is restricted by the physical enviroment limits as a default constraint.\n",
    "    \n",
    "    \n",
    "The user defined constraint: \"SqdCurrentMonitor\" presented below, observes the currents and raises a flag indicating a limit violation if :\n",
    "\n",
    "$ i_{sd}^2 + i_{sq}^2 > i_{max}^2 $  \n",
    "Here $i_{sd}$ and $i_{sq}$ are the motor currents in the d-q coordinate system that can be accessed from the motor states and $i_{max}$ is the maximum allowable current value.\n",
    "\n",
    "\n"
   ]
  },
  {
   "cell_type": "code",
   "execution_count": 7,
   "metadata": {},
   "outputs": [],
   "source": [
    "\n",
    "gamma = 0.99  #Discount factor for the reward punishment. Should equal agents' discount factor gamma.\n",
    "\n",
    "class SqdCurrentMonitor:\n",
    "    \"\"\"\n",
    "    monitor for squared currents:\n",
    "\n",
    "    i_sd**2 + i_sq**2 < 1.5 * nominal_limit\n",
    "    \"\"\"\n",
    "\n",
    "    def __call__(self, state, observed_states, k, physical_system):\n",
    "        self.I_SD_IDX = physical_system.state_names.index('i_sd') # access motor state i_sd\n",
    "        self.I_SQ_IDX = physical_system.state_names.index('i_sq') # access motor state i_sq\n",
    "        sqd_currents = state[self.I_SD_IDX] ** 2 + state[self.I_SQ_IDX] ** 2\n",
    "        return sqd_currents > 1\n",
    "\n",
    "    \n",
    "reward_function=gem.reward_functions.WeightedSumOfErrors(  # The function that computes the reward\n",
    "            observed_states=['i_sq', 'i_sd'],              # Names of the observed states\n",
    "            reward_weights={'i_sq': 10, 'i_sd': 10},       # Reward power for each of the systems states.\n",
    "            constraint_monitor=SqdCurrentMonitor(),        # ConstraintMonitor for monitoring\n",
    "                                                           # states regarding defined constraints\n",
    "            gamma=gamma,    # Discount factor for the reward punishment. Should equal agent's \n",
    "                            # discount factor gamma.\n",
    "            reward_power=1) # Reward power for each of the systems states"
   ]
  },
  {
   "cell_type": "markdown",
   "metadata": {},
   "source": [
    "## 4. Reference Generator\n",
    "The reference generator generates references to the observed states, that the physical system is expected to follow. GEM toolbox provides various reference generators which can be found in the [documentation.](https://upb-lea.github.io/gym-electric-motor/parts/reference_generators/reference_generator.html)\n",
    "\n",
    "In this example, we generate references to the motor currents $i_{sq}$ and $i_{sd}$.  <br>\n",
    "The \"WienerProcessReferenceGenerator\" is used to generate random references for both $i_{sq}$ and $i_{sd}$.The wiener process is a stochastic process W(t) for $t>=0$ with $W(0)=0$ and such that the increment $W(t)-W(s)$ is Gaussian with mean 0 and variance $\\sigma$ for any $0<=s<t$, and increments for nonoverlapping time intervals are independent. More information can be found [here](https://en.wikipedia.org/wiki/Wiener_process)\n",
    "\n",
    "The individual sub-reference generators are then combined using the \"MultipleReferenceGenerator\"."
   ]
  },
  {
   "cell_type": "code",
   "execution_count": 8,
   "metadata": {},
   "outputs": [],
   "source": [
    "from gym_electric_motor.reference_generators import \\\n",
    "    MultipleReferenceGenerator,\\\n",
    "    WienerProcessReferenceGenerator\n",
    "\n",
    "q_generator = WienerProcessReferenceGenerator(reference_state='i_sq') # sub-reference generator for i_sq\n",
    "d_generator = WienerProcessReferenceGenerator(reference_state='i_sd') # sub-reference generator for i_sd\n",
    "rg = MultipleReferenceGenerator([q_generator, d_generator])           # combine the sub-reference generators"
   ]
  },
  {
   "cell_type": "markdown",
   "metadata": {},
   "source": [
    "## 5. Visualization\n",
    "The visualization module provides an interface to observe and inspect the physical system's state, references, rewards, etc. \n",
    "GEM offers two forms of visualization:\n",
    "- Motor dashboard: A graphical interface which provides visualization in the form of plots.\n",
    "- Console printer: A simpler interface in the form of prints on the console.  <br>\n",
    "This example demonstrates the usage of the motor dashboard for visualization.<br>\n",
    "A list of variables to be plotted is passed to the MotorDashboard during initialization. The variables that can be plotted for a given motor environment can be found in the [documentation.](https://upb-lea.github.io/gym-electric-motor/parts/visualizations/motor_dashboard.html)"
   ]
  },
  {
   "cell_type": "code",
   "execution_count": 9,
   "metadata": {},
   "outputs": [],
   "source": [
    "from gym_electric_motor.visualization import MotorDashboard\n",
    "\n",
    "visualization = MotorDashboard(plots=['i_sq', 'i_sd', 'reward']) # plots the states i_sd and i_sq and reward."
   ]
  },
  {
   "cell_type": "markdown",
   "metadata": {},
   "source": [
    "## 6. Callbacks\n",
    "GEM callbacks provide and easy to use interface to apply a set of functions on the motor environment during run time. Callbacks can be used to get a view of the internal states, collect statistics or modify certain motor parameters during runtime. \n",
    "\n",
    "GEM callbacks can be used to interact with the motor environment:\n",
    "- At the start/end of every step\n",
    "- At the start/end of every reset\n",
    "- At the start of a close() call\n",
    "    \n",
    "The following example provides a sample user defined callback implementation. The user defined callback object must be a sub-class of the 'Callback' class as shown. The objective of the user defined 'RewardLogger' callback object is to create a log of mean episode rewards of the experiment.\n",
    "\n",
    "Some of the interfaces implemented here are:\n",
    "- __init()         : A suitable class constructor.\n",
    "- on_step_end()    : A suitable task to be performed at the end of every step.\n",
    "- on_reset_begin() : A suitable task at the beginning of each episode.\n",
    "- on_close         : A suitable task at the beginning of a close.\n",
    "\n",
    "For the list of all the interfaces, check out the GEM API documentation.    \n"
   ]
  },
  {
   "cell_type": "code",
   "execution_count": 10,
   "metadata": {},
   "outputs": [],
   "source": [
    "from gym_electric_motor.core import Callback\n",
    "import numpy as np\n",
    "\n",
    "class RewardLogger(Callback):\n",
    "    \"\"\" Logs the reward accumulated in each episode\n",
    "    \"\"\"\n",
    "    def __init__(self):\n",
    "        self._step_rewards = []\n",
    "        self._mean_episode_rewards = []\n",
    "\n",
    "    def on_step_end(self):\n",
    "        \"\"\" stores the received reward at each step\n",
    "        \"\"\"\n",
    "        self._step_rewards.append(self._env._reward)\n",
    "    \n",
    "    def on_reset_begin(self):\n",
    "        \"\"\" stores the mean reward received in every episode\n",
    "        \"\"\"\n",
    "        self._mean_episode_rewards.append(np.mean(self._step_rewards))\n",
    "        self._step_rewards = []\n",
    "        \n",
    "    def on_close(self):\n",
    "        \"\"\" writes the mean episode reward of the experiment to a file.\n",
    "        \"\"\"\n",
    "        np.save(Path.cwd() /\"rl_frameworks\" / \"saved_agents\" / \"EpisodeRewards.npy\",\n",
    "                np.array(self._mean_episode_rewards))\n",
    "        \n",
    "my_callback = [RewardLogger()]  # instantiate the callback object "
   ]
  },
  {
   "cell_type": "markdown",
   "metadata": {},
   "source": [
    "## 7. GEM Make Call\n",
    "\n",
    "The make function takes the environment-ids and several constructor arguments. Every environment also works without further parameters with default values. These default parameters can be looked up in the API-documentation of every GEM-environment [here](https://upb-lea.github.io/gym-electric-motor/index.html). \n",
    "\n",
    "The various components of the motor environment defined above are passed as arguements to the gem.make() function. This further returns the discrete PMSM motor environment.\n",
    "\n",
    "The motor environment can then be passed to a Reinforcement Learning agent in order to learn a controller."
   ]
  },
  {
   "cell_type": "code",
   "execution_count": 11,
   "metadata": {},
   "outputs": [],
   "source": [
    "# define a PMSM with discrete action space\n",
    "env = gem.make(  \n",
    "    motor_env_id ,\n",
    "    # visualize the results\n",
    "    visualization=visualization,\n",
    "    # parameterize the PMSM and update limitations\n",
    "    motor_parameter=motor_parameter,\n",
    "    limit_values=limit_values, nominal_values=nominal_values,\n",
    "    # define the random initialisation for load and motor\n",
    "    load=load,\n",
    "    load_initializer=load_initializer,\n",
    "    motor_initializer=motor_initializer,\n",
    "    reward_function=reward_function,\n",
    "    tau=tau,\n",
    "    supply = supply,\n",
    "    supply_parameter=supply_parameter,\n",
    "    reference_generator=rg,\n",
    "    ode_solver='euler',\n",
    "    callbacks = my_callback\n",
    ")"
   ]
  },
  {
   "cell_type": "code",
   "execution_count": 12,
   "metadata": {},
   "outputs": [
    {
     "data": {
      "text/plain": [
       "<gym_electric_motor.envs.gym_pmsm.perm_mag_syn_motor_env.DiscPermanentMagnetSynchronousMotorEnvironment at 0x7f8264b107b8>"
      ]
     },
     "execution_count": 12,
     "metadata": {},
     "output_type": "execute_result"
    }
   ],
   "source": [
    "env"
   ]
  }
 ],
 "metadata": {
  "kernelspec": {
   "display_name": "Python 3",
   "language": "python",
   "name": "python3"
  },
  "language_info": {
   "codemirror_mode": {
    "name": "ipython",
    "version": 3
   },
   "file_extension": ".py",
   "mimetype": "text/x-python",
   "name": "python",
   "nbconvert_exporter": "python",
   "pygments_lexer": "ipython3",
   "version": "3.6.10"
  },
  "varInspector": {
   "cols": {
    "lenName": 16,
    "lenType": 16,
    "lenVar": 40
   },
   "kernels_config": {
    "python": {
     "delete_cmd_postfix": "",
     "delete_cmd_prefix": "del ",
     "library": "var_list.py",
     "varRefreshCmd": "print(var_dic_list())"
    },
    "r": {
     "delete_cmd_postfix": ") ",
     "delete_cmd_prefix": "rm(",
     "library": "var_list.r",
     "varRefreshCmd": "cat(var_dic_list()) "
    }
   },
   "types_to_exclude": [
    "module",
    "function",
    "builtin_function_or_method",
    "instance",
    "_Feature"
   ],
   "window_display": false
  }
 },
 "nbformat": 4,
 "nbformat_minor": 4
}
