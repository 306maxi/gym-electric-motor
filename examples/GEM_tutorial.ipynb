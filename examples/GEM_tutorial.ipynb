{
 "cells": [
  {
   "cell_type": "markdown",
   "metadata": {},
   "source": [
    "# Tutorial to create a PMSM Motor Environment\n",
    "\n",
    "This example notebook aims to provide an introduction to the usage of the Gym Electric Motor toolbox.\n",
    "It provides a step by step guide to the different features offered by the toolbox and its application. In this example, a guide to create a Discrete Permanent Magnet Synchronous Motor (PMSM) environment is presented.\n",
    "\n",
    "<!-- The following code snippets are only needed if you are executing this file directly from a cloned GitHub repository where you don't have GEM installed -->"
   ]
  },
  {
   "cell_type": "code",
   "execution_count": 17,
   "metadata": {},
   "outputs": [],
   "source": [
    "# from pathlib import Path\n",
    "# import sys\n",
    "# sys.path.append(str(Path().resolve().parent.parent))"
   ]
  },
  {
   "cell_type": "markdown",
   "metadata": {},
   "source": [
    "## 1.    A Brief Introduction to GEM\n",
    "\n",
    "The gym-electric-motor (GEM) package is a software toolbox for the simulation of different electric motors.\n",
    "The toolbox is built upon the OpenAI Gym Environments for reinforcement learning. Therefore, the toolbox is specifically designed for running reinforcement learning algorithms to train agents controlling electric motors.\n",
    "Beside electrical motors, also converters and load models are implemented.\n",
    "\n",
    "The components of GEM are structured as follows:\n",
    "\n",
    "![Motor Setup](rl_frameworks/img/SCML_Setting.svg)\n",
    "\n",
    "\n",
    "### 1.1  Installation\n",
    "Before you can start you need to make sure that you have gym-electric-motor installed. You can install it easily using pip:\n",
    "\n",
    "pip install gym-electric-motor\n",
    "\n",
    "Alternatively, you can install them and their latest developer version directly from GitHub:\n",
    "https://github.com/upb-lea/gym-electric-motor\n"
   ]
  },
  {
   "cell_type": "markdown",
   "metadata": {},
   "source": [
    "## 2.  Physical System\n",
    "The system consists of a Voltage Supply, a Power Electronic Converter, an Electrical Motor and the Mechanical Load as shown in the above figure . Additionally, each SCML-System has got an ODE-Solver for the simulation.\n",
    "\n",
    "\n",
    "### 2.1 Voltage Supply\n",
    "\n",
    "The voltage supply module of the GEM toolbox provides both DC and AC voltage supplies. \n",
    "- The DC supplies privided are Ideal and Non-Ideal DC voltage sources.\n",
    "- The AC supplies provided are single phase and 3-phase AC sources.\n",
    "More documentation regarding the voltage supplies of GEM can be found [here.](https://upb-lea.github.io/gym-electric-motor/parts/physical_systems/voltage_supplies/voltage_supply.html)\n",
    "\n",
    "For the PMSM environment example, let us create a non-ideal DC voltage supply:\n",
    "Here, the DC-link is modeled as an RC-circuit loaded from an ideal DC voltage source. This is illustrated in the below figure. \n",
    "\n",
    "\n",
    "<img src=\"rl_frameworks/img/non-ideal-supply.svg\" alt=\"non-ideal-supply\" style=\"width: 600px;\"/>\n",
    "\n",
    "The non-ideal DC supply in GEM is named 'RCVoltageSupply' and the supply_parameter(dict) consists or Resistance R in Ohm and Capacitance C in Farad\n"
   ]
  },
  {
   "cell_type": "code",
   "execution_count": 18,
   "metadata": {},
   "outputs": [],
   "source": [
    "import gym_electric_motor as gem\n",
    "\n",
    "supply = 'RCVoltageSupply'\n",
    "supply_parameter=dict(R=10e3, C=4e-3)  ## todo check correct values."
   ]
  },
  {
   "cell_type": "markdown",
   "metadata": {},
   "source": [
    "### 2.2 Converter and Motor\n",
    "The converters are divided into two classes: The continuously controlled  and the discretely controlled converters.\n",
    "\n",
    "In the continuous case the agent's action is controlling the converter's output voltage directly through means of duty cycling. In the discrete case the agent's action decides which converter switches are open and which are closed. Therefore, only a discrete amount of options are available. For this environment, the Discrete B6 Bridge Converter which has three switches which amounts to a total of eight possible actions is used.\n",
    "<!-- ![Motor Setup](rl_frameworks/img/B6.svg) -->\n",
    "<img src=\"rl_frameworks/img/B6.svg\" alt=\"non-ideal-supply\" style=\"width: 400px;\"/>\n",
    "\n",
    "The Electric motor is the Permanent Magnet Synchronous Motor.\n",
    "The motor schematic is the following:\n",
    "\n",
    "\n",
    "<!-- ![Motor Setup](rl_frameworks/img/ESBdq1.svg) -->\n",
    "<img src=\"rl_frameworks/img/ESBdq1.svg\" alt=\"non-ideal-supply\" style=\"width: 400px;\"/>\n",
    "\n",
    "And the electrical ODEs for that motor are:\n",
    "\n",
    "<h3 align=\"center\">\n",
    "\n",
    "$\\frac{\\mathrm{d}i_{sq}}{\\mathrm{d}t} = \\frac{u_{sq}-pL_d\\omega_{me}i_{sd}-R_si_{sq}}{L_q}$\n",
    "\n",
    "$\\frac{\\mathrm{d}i_{sd}}{\\mathrm{d}t} = \\frac{u_{sd}-pL_q\\omega_{me}i_{sq}-R_si_{sd}}{L_d}$\n",
    "\n",
    "$\\frac{\\mathrm{d}\\epsilon_{el}}{\\mathrm{d}t} = p\\omega_{me}$\n",
    "\n",
    "</h3>\n",
    "\n",
    "\n",
    "The motor environment ID for the discrete PMSM motor is \"PMSMDisc-v1\". This is later passed to the 'make' function to create the motor environment. The environment IDs for other available motor environments can be found [here.](https://upb-lea.github.io/gym-electric-motor/parts/environments/environment.html)\n",
    "The parameters of the specific motor is to be passed by the user as a motor parameter dictionary. Default parameters will be considered in case the motor parameters are not provided by the user. The default converter for the environment ID used here is the Discrete B6 Bridge Converter. More details can be found in the [documentation.](https://upb-lea.github.io/gym-electric-motor/parts/physical_systems/converters/B6C.html) <br>\n",
    "The nominal and limit values which define the operating point of the motor is also passed as a dictionary."
   ]
  },
  {
   "cell_type": "code",
   "execution_count": 19,
   "metadata": {},
   "outputs": [],
   "source": [
    "motor_env_id = \"PMSMDisc-v1\"\n",
    "motor_parameter = dict(p=3,  # [p] = 1, nb of pole pairs\n",
    "                       r_s=17.932e-3,  # [r_s] = Ohm, stator resistance\n",
    "                       l_d=0.37e-3,  # [l_d] = H, d-axis inductance\n",
    "                       l_q=1.2e-3,  # [l_q] = H, q-axis inductance\n",
    "                       psi_p=65.65e-3,  # [psi_p] = Vs, magnetic flux of the permanent magnet\n",
    "                       )  # BRUSA\n",
    "\n",
    "nominal_values=dict(omega=4000*2*np.pi/60,\n",
    "                    i=230,\n",
    "                    u=350\n",
    "                    )\n",
    "limit_values = {key: 1.3 * nomin for key, nomin in nominal_values.items()}\n"
   ]
  },
  {
   "cell_type": "markdown",
   "metadata": {},
   "source": [
    "### 2.3 Motor state initializer\n",
    "By Default, the motor states (e.g. motor currents, rotational speed) are always set to zero whenever the motor environment is reset. In order to make the simulation more realistic and hence, generate flexible expisodes, the motor state initializer can be used to draw the initial state values from a given probability distribution within the nominal operating range of the given motor. \n",
    "\n",
    "The motor_initializer is a dictionary that consists of the type of distribution, for example, uniform or gaussian distribution and the interval of values within the nominal operating region. \n",
    "Here, the motor states are initialized with values sampled from a uniform distribution from the provided intervals.\n",
    "\n"
   ]
  },
  {
   "cell_type": "code",
   "execution_count": 20,
   "metadata": {},
   "outputs": [],
   "source": [
    "motor_initializer={'random_init': 'uniform', 'interval': [[-230, 230], [-230, 230], [-np.pi, np.pi]]}  \n",
    "#todo check interval"
   ]
  },
  {
   "cell_type": "markdown",
   "metadata": {},
   "source": [
    "### 2.4 Mechanical Load\n",
    "The attached mechanical load in the toolbox is represented by the function: <br>\n",
    "$ T_L(\\omega) = sign(\\omega_me)(c\\omega_{me}^2 + sign(\\omega_{me}\n",
    ")b\\omega_{me} +a) $  <br>\n",
    "with a constant load torque a, viscous friction coefficient b and aerodynamic load torque coefficient c. These parameters as well as a moment of inertia of the load J load can be freely\n",
    "defined by the user to simulate different loads.\n",
    "\n",
    "In this example, we use the load type: \"ConstSpeedLoad\" which initializes the load with a constant speed at the start of each episode. The initialization value is sampled from a uniform distribution from the given interval.\n"
   ]
  },
  {
   "cell_type": "code",
   "execution_count": 21,
   "metadata": {},
   "outputs": [],
   "source": [
    "from gym_electric_motor.physical_systems import ConstantSpeedLoad\n",
    "\n",
    "load = 'ConstSpeedLoad'\n",
    "load_initializer={'random_init': 'uniform', 'interval':[100,200]}  # todo check interval \n"
   ]
  },
  {
   "cell_type": "markdown",
   "metadata": {},
   "source": [
    "## 3. Reward Function\n",
    "The Reward calculation is based on the current state and reference of the motor environment. It is calculated as a weighted sum of errors with a certain power follows:\n",
    "\n",
    "<!-- <h3 align=\"center\"> -->\n",
    "$ reward = - reward\\_weights * (abs(state - reference)/ state\\_length)^{reward\\_power}$\n",
    "\n",
    "If states are observed for a constraint violation, an additional terminal reward is added. This value depends on the discount factor gamma as follows. \n",
    "<!-- <h3 align=\"center\"> -->\n",
    "$limit\\_violation\\_reward = -1 / (1 - \\gamma).$\n",
    "\n",
    "\n",
    "### 3.1. Constraint Monitor\n",
    "The ConstraintMonitor monitors the system-states and assesses whether\n",
    "    they comply the given limits or violate them.\n",
    "    It returns the necessary information for the RewardFunction, to calculate\n",
    "    the corresponding reward-value.\n",
    "    The constraints of the system-states can be generally described by the user\n",
    "    or are restricted by the physical enviroment-limits as a default constraint.\n",
    "    \n",
    "    \n",
    "The user defined constraint: \"SqdCurrentMonitor\" presented below, observes the currents and raises a flag indicating a limit violation if :\n",
    "\n",
    "$ i_{sd}^2 + i_{sq}^2 > 1 $  \n",
    "Here $i_{sd}$ and $i_{sq}$ are the motor currents in the d-q coordinate system that can be accessed from the motor state.\n",
    "\n",
    "\n"
   ]
  },
  {
   "cell_type": "code",
   "execution_count": 22,
   "metadata": {},
   "outputs": [],
   "source": [
    "\n",
    "gamma = 0.99  #Discount factor for the reward punishment. Should equal agents' discount factor gamma.\n",
    "\n",
    "class SqdCurrentMonitor:\n",
    "    \"\"\"\n",
    "    monitor for squared currents:\n",
    "\n",
    "    i_sd**2 + i_sq**2 < 1.5 * nominal_limit\n",
    "    \"\"\"\n",
    "\n",
    "    def __call__(self, state, observed_states, k, physical_system):\n",
    "        self.I_SD_IDX = physical_system.state_names.index('i_sd') # access motor state i_sd\n",
    "        self.I_SQ_IDX = physical_system.state_names.index('i_sq') # access motor state i_sq\n",
    "        sqd_currents = state[self.I_SD_IDX] ** 2 + state[self.I_SQ_IDX] ** 2\n",
    "        return sqd_currents > 1\n",
    "\n",
    "    \n",
    "reward_function=gem.reward_functions.WeightedSumOfErrors(  # The function that computes the reward\n",
    "            observed_states=['i_sq', 'i_sd'],   # Names of the observed states\n",
    "            reward_weights={'i_sq': 10, 'i_sd': 10}, #Reward power for each of the systems states.\n",
    "            constraint_monitor=SqdCurrentMonitor(), # ConstraintMonitor for monitoring\n",
    "                                                    # states regarding defined constraints\n",
    "            gamma=gamma,    # Discount factor for the reward punishment. Should equal agent's \n",
    "                            # discount factor gamma.\n",
    "            reward_power=1) # Reward power for each of the systems states"
   ]
  },
  {
   "cell_type": "markdown",
   "metadata": {},
   "source": [
    "## 4. Reference Generator\n",
    "The reference generator generates references to the observed stated, that the physical system is expected to follow. GEM toolbox provides various reference generators which can be found in the [documentation.](https://upb-lea.github.io/gym-electric-motor/parts/reference_generators/reference_generator.html)\n",
    "\n",
    "In this example, we generate references to the motor currents $i_{sq}$ and $i_{sd}$.  <br>\n",
    "The \"WienerProcessReferenceGenerator\" is used to generate random references for both $i_{sq}$ and $i_{sd}$. The individual sub-reference generators are then combined using the \"MultipleReferenceGenerator\""
   ]
  },
  {
   "cell_type": "code",
   "execution_count": 23,
   "metadata": {},
   "outputs": [],
   "source": [
    "from gym_electric_motor.reference_generators import \\\n",
    "    MultipleReferenceGenerator,\\\n",
    "    WienerProcessReferenceGenerator\n",
    "\n",
    "q_generator = WienerProcessReferenceGenerator(reference_state='i_sq') # sub-reference generator for i_sq\n",
    "d_generator = WienerProcessReferenceGenerator(reference_state='i_sd') # sub-reference generator for i_sd\n",
    "rg = MultipleReferenceGenerator([q_generator, d_generator]) # combine the sub-reference generators"
   ]
  },
  {
   "cell_type": "markdown",
   "metadata": {},
   "source": [
    "## 5. Visualization\n",
    "The visualization module provides an interface to observe and inspect the physical system's state, references, rewards, etc. \n",
    "GEM offers two forms of visualization:\n",
    "- Motor Dashboard: A graphical interface which provides visualization in the form of plots.\n",
    "- Console Printer: A simpler interface in the form of prints on the console.  <br>\n",
    "This example demonstrates the usage of the motor dashboard for visualization.<br>\n",
    "A list of variables to be plotted is passed to the MotorDashboard during initialization. The variables that can be plotted for a given motor environment can be found [here.](https://upb-lea.github.io/gym-electric-motor/parts/visualizations/motor_dashboard.html)"
   ]
  },
  {
   "cell_type": "code",
   "execution_count": 25,
   "metadata": {},
   "outputs": [],
   "source": [
    "from gym_electric_motor.visualization import MotorDashboard\n",
    "\n",
    "visualization = MotorDashboard(plots=['i_sq', 'i_sd', 'reward']) # plots the states i_sd and i_sq and reward."
   ]
  },
  {
   "cell_type": "markdown",
   "metadata": {},
   "source": [
    "## 6. Callbacks\n",
    "\n"
   ]
  },
  {
   "cell_type": "code",
   "execution_count": null,
   "metadata": {},
   "outputs": [],
   "source": []
  }
 ],
 "metadata": {
  "kernelspec": {
   "display_name": "Python 3",
   "language": "python",
   "name": "python3"
  },
  "language_info": {
   "codemirror_mode": {
    "name": "ipython",
    "version": 3
   },
   "file_extension": ".py",
   "mimetype": "text/x-python",
   "name": "python",
   "nbconvert_exporter": "python",
   "pygments_lexer": "ipython3",
   "version": "3.6.10"
  },
  "varInspector": {
   "cols": {
    "lenName": 16,
    "lenType": 16,
    "lenVar": 40
   },
   "kernels_config": {
    "python": {
     "delete_cmd_postfix": "",
     "delete_cmd_prefix": "del ",
     "library": "var_list.py",
     "varRefreshCmd": "print(var_dic_list())"
    },
    "r": {
     "delete_cmd_postfix": ") ",
     "delete_cmd_prefix": "rm(",
     "library": "var_list.r",
     "varRefreshCmd": "cat(var_dic_list()) "
    }
   },
   "types_to_exclude": [
    "module",
    "function",
    "builtin_function_or_method",
    "instance",
    "_Feature"
   ],
   "window_display": false
  }
 },
 "nbformat": 4,
 "nbformat_minor": 4
}
