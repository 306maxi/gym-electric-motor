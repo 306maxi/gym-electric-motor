{
 "cells": [
  {
   "cell_type": "code",
   "execution_count": 1,
   "metadata": {},
   "outputs": [
    {
     "name": "stderr",
     "output_type": "stream",
     "text": [
      "/home/praneeth/anaconda3/envs/tfagents/lib/python3.6/site-packages/gym/logger.py:30: UserWarning: \u001b[33mWARN: Box bound precision lowered by casting to float32\u001b[0m\n",
      "  warnings.warn(colorize('%s: %s'%('WARN', msg % args), 'yellow'))\n",
      "/home/praneeth/anaconda3/envs/tfagents/lib/python3.6/site-packages/gym/logger.py:30: UserWarning: \u001b[33mWARN: Box bound precision lowered by casting to float32\u001b[0m\n",
      "  warnings.warn(colorize('%s: %s'%('WARN', msg % args), 'yellow'))\n",
      "/home/praneeth/anaconda3/envs/tfagents/lib/python3.6/site-packages/gym/logger.py:30: UserWarning: \u001b[33mWARN: Box bound precision lowered by casting to float32\u001b[0m\n",
      "  warnings.warn(colorize('%s: %s'%('WARN', msg % args), 'yellow'))\n"
     ]
    }
   ],
   "source": [
    "import gym_electric_motor as gem\n",
    "import gym\n",
    "import tensorflow as tf\n",
    "from tf_agents.environments import suite_gym\n",
    "from tf_agents.environments import tf_py_environment\n",
    "from tf_agents.networks import q_network\n",
    "from gym.wrappers import FlattenObservation #, TimeLimit\n",
    "from tf_agents.environments.wrappers import TimeLimit\n",
    "from tf_agents.agents.dqn import dqn_agent\n",
    "from tf_agents.utils import common\n",
    "\n",
    "from gym_electric_motor.visualization import MotorDashboard, ConsolePrinter\n",
    "from gym_electric_motor.physical_systems import ConstantSpeedLoad\n",
    "from gym import ObservationWrapper\n",
    "from gym.spaces import Discrete, Box\n",
    "\n",
    "import numpy as np"
   ]
  },
  {
   "cell_type": "code",
   "execution_count": 2,
   "metadata": {},
   "outputs": [],
   "source": [
    "gamma = 0.99\n",
    "tau = 1e-5\n",
    "\n",
    "class SqdCurrentMonitor:\n",
    "    \"\"\"\n",
    "    monitor for squared currents:\n",
    "    \n",
    "    i_sd**2 + i_sq**2 < 1.5 * nominal_limit \n",
    "    \"\"\"\n",
    "    \n",
    "    def __call__(self, state, observed_states, k, physical_system):\n",
    "        self.I_SD_IDX = physical_system.state_names.index('i_sd')\n",
    "        self.I_SQ_IDX = physical_system.state_names.index('i_sq')\n",
    "        # normalize to limit_values, since state is normalized\n",
    "        nominal_values = physical_system.nominal_state / abs(physical_system.limits)\n",
    "        limits = 1.5 * nominal_values\n",
    "        # calculating squared currents as observed measure \n",
    "        sqd_currents = state[self.I_SD_IDX]**2 + state[self.I_SQ_IDX]**2\n",
    "        \n",
    "        return (sqd_currents > limits[self.I_SD_IDX] or sqd_currents > limits[self.I_SQ_IDX])\n",
    "    \n",
    "    \n",
    "motor_parameter = dict(p=3,  # [p] = 1, nb of pole pairs\n",
    "                       r_s=17.932e-3,  # [r_s] = Ohm, stator resistance\n",
    "                       l_d=0.37e-3,  # [l_d] = H, d-axis inductance\n",
    "                       l_q=1.2e-3,  # [l_q] = H, q-axis inductance\n",
    "                       psi_p=65.65e-3,  # [psi_p] = Vs, magnetic flux of the permanent magnet\n",
    "                       )  # BRUSA\n",
    "u_sup = 350\n",
    "\n",
    "nominal_values=dict(omega=4000*2*np.pi/60,\n",
    "                    i=230,\n",
    "                    u=u_sup\n",
    "                    )\n",
    "limit_values=nominal_values.copy()\n",
    "\n",
    "q_generator = gem.reference_generators.WienerProcessReferenceGenerator(reference_state='i_sq')\n",
    "d_generator = gem.reference_generators.WienerProcessReferenceGenerator(reference_state='i_sd')\n",
    "rg = gem.reference_generators.MultipleReferenceGenerator([q_generator, d_generator])\n",
    "\n",
    "gym_env_kwargs1 = {'visualization': MotorDashboard(plots = ['i_sq', 'i_sd', 'reward']),\n",
    "            # parameterize the PMSM\n",
    "               'motor_parameter' : motor_parameter,\n",
    "               'limit_values' : limit_values,\n",
    "               'nominal_values' : nominal_values,\n",
    "               'u_sup' : u_sup,\n",
    "               'load' : ConstantSpeedLoad(omega_fixed=1000 * np.pi / 30),\n",
    "               #'load_initializer' : {'random_init': 'uniform',},\n",
    "               'tau' : tau ,\n",
    "               'motor_initializer': {'random_init': 'uniform',},\n",
    "                   \n",
    "                \n",
    "                  \n",
    "                  ## pass a reward function with a gamma!!  todo\n",
    "            # turn off terminations via limit violation and parameterize the reward function\n",
    "            'reward_function' : gem.reward_functions.WeightedSumOfErrors(observed_states=['i_sq', 'i_sd'], \n",
    "                                                                        reward_weights={'i_sq': 1, 'i_sd': 1},\n",
    "                                                                        constraint_monitor = SqdCurrentMonitor(),\n",
    "                                                                        gamma = gamma,\n",
    "                                                                        reward_power=1\n",
    "                                                                      ),\n",
    "            \n",
    "            'reference_generator' : rg,\n",
    "            # define a numerical solver of adequate accuracy\n",
    "            'ode_solver' : 'euler' #'scipy.solve_ivp'\n",
    "    \n",
    "}\n",
    "\n",
    "gym_env_kwargs2 = {'visualization': MotorDashboard(plots = ['i_sq', 'i_sd', 'reward']),\n",
    "            # parameterize the PMSM\n",
    "               'motor_parameter' : motor_parameter,\n",
    "               'limit_values' : limit_values,\n",
    "               'nominal_values' : nominal_values,\n",
    "               'u_sup' : u_sup,\n",
    "               'load' : ConstantSpeedLoad(omega_fixed=1000 * np.pi / 30),\n",
    "               #'load_initializer' : {'random_init': 'uniform',},\n",
    "               'tau' : tau ,\n",
    "               'motor_initializer': {'random_init': 'uniform',},\n",
    "                  \n",
    "                  ## pass a reward function with a gamma!!  todo\n",
    "            # turn off terminations via limit violation and parameterize the reward function\n",
    "            'reward_function' : gem.reward_functions.WeightedSumOfErrors(observed_states=['i_sq', 'i_sd'], \n",
    "                                                                        reward_weights={'i_sq': 1, 'i_sd': 1},\n",
    "                                                                        constraint_monitor = SqdCurrentMonitor(),\n",
    "                                                                        gamma = gamma,\n",
    "                                                                        reward_power=1\n",
    "                                                                      ),\n",
    "            \n",
    "            'reference_generator' : rg,\n",
    "            # define a numerical solver of adequate accuracy\n",
    "            'ode_solver' : 'euler' #'scipy.solve_ivp'\n",
    "    \n",
    "}\n",
    "\n",
    "\n",
    "class EpsilonWrapper(ObservationWrapper):\n",
    "    \"\"\"Changes Epsilon in a flattened observation to cos(epsilon) and sin(epsilon)\"\"\"\n",
    "    def __init__(self,env, epsilon_idx):\n",
    "        super(EpsilonWrapper, self).__init__(env)\n",
    "        self.EPSILON_IDX = epsilon_idx\n",
    "        new_low = np.concatenate((self.env.observation_space.low[:self.EPSILON_IDX], np.array([-1.]), self.env.observation_space.low[self.EPSILON_IDX:]))\n",
    "        new_high = np.concatenate((self.env.observation_space.high[:self.EPSILON_IDX], np.array([1.]), self.env.observation_space.high[self.EPSILON_IDX:]))\n",
    "\n",
    "        self.observation_space = Box(new_low, new_high)\n",
    "        \n",
    "    def observation(self,observation):\n",
    "        cos_eps = np.cos(observation[self.EPSILON_IDX]*np.pi)\n",
    "        sin_eps = np.sin(observation[self.EPSILON_IDX]*np.pi)\n",
    "        observation = np.concatenate((observation[:self.EPSILON_IDX], np.array([cos_eps, sin_eps]), observation[self.EPSILON_IDX+1:]))\n",
    "        return observation\n",
    "\n"
   ]
  },
  {
   "cell_type": "code",
   "execution_count": 3,
   "metadata": {},
   "outputs": [
    {
     "name": "stderr",
     "output_type": "stream",
     "text": [
      "/home/praneeth/anaconda3/envs/tfagents/lib/python3.6/site-packages/gym/logger.py:30: UserWarning: \u001b[33mWARN: Box bound precision lowered by casting to float32\u001b[0m\n",
      "  warnings.warn(colorize('%s: %s'%('WARN', msg % args), 'yellow'))\n"
     ]
    }
   ],
   "source": [
    "# # # Alternate way to create a tf compatible gym env\n",
    "env_name = \"PMSMDisc-v1\"\n",
    "t_env = gem.make(env_name, **gym_env_kwargs1)   # define a PMSM with continuous action space\n",
    "eps_idx =  t_env._physical_system.state_names.index('epsilon')               \n",
    "t_env_f = EpsilonWrapper(FlattenObservation(t_env), eps_idx) \n",
    "\n",
    "t_py_env = suite_gym.wrap_env(t_env_f, max_episode_steps=10000)\n",
    "train_env = tf_py_environment.TFPyEnvironment(t_py_env)\n",
    "\n",
    "\n",
    "ev_env = gem.make(env_name, **gym_env_kwargs2)   # define a PMSM with continuous action space              \n",
    "ev_env_f = EpsilonWrapper(FlattenObservation(t_env), eps_idx) \n",
    "\n",
    "eval_py_env = suite_gym.wrap_env(t_env_f, max_episode_steps=10000)\n",
    "eval_tf_env = tf_py_environment.TFPyEnvironment(t_py_env)\n"
   ]
  },
  {
   "cell_type": "code",
   "execution_count": 4,
   "metadata": {},
   "outputs": [],
   "source": [
    "# env_name = \"PMSMDisc-v1\"\n",
    "\n",
    "# env = suite_gym.load(env_name, max_episode_steps=10000, \n",
    "#                      gym_env_wrappers=[FlattenObservation], # lambda env: EpsilonWrapper(env, env._physical_system.state_names.index('epsilon'))],\n",
    "#                       gym_kwargs = gym_env_kwargs1 )  #\n",
    "# train_env = tf_py_environment.TFPyEnvironment(env)\n",
    "\n",
    "# eval_py_env =suite_gym.load(env_name, max_episode_steps=10000, \n",
    "#                             gym_env_wrappers=[FlattenObservation], # lambda env: EpsilonWrapper(env, env._physical_system.state_names.index('epsilon'))],\n",
    "#                             gym_kwargs = gym_env_kwargs2) \n",
    "# eval_tf_env = tf_py_environment.TFPyEnvironment(eval_py_env)\n",
    "\n",
    "\n",
    "# print(train_env.action_spec())\n"
   ]
  },
  {
   "cell_type": "code",
   "execution_count": null,
   "metadata": {},
   "outputs": [],
   "source": []
  },
  {
   "cell_type": "code",
   "execution_count": 5,
   "metadata": {},
   "outputs": [],
   "source": [
    "# create a neural network:\n",
    "\n",
    "fc_layer_params = (64,64)\n",
    "\n",
    "q_net = q_network.QNetwork(\n",
    "    train_env.observation_spec(),\n",
    "    train_env.action_spec(),\n",
    "    fc_layer_params=fc_layer_params)\n"
   ]
  },
  {
   "cell_type": "code",
   "execution_count": 6,
   "metadata": {},
   "outputs": [],
   "source": [
    "# Hyper-parameters\n",
    "\n",
    "num_iterations = 500000\n",
    "\n",
    "initial_collect_steps = 10000 \n",
    "collect_steps_per_iteration = 1 \n",
    "replay_buffer_max_length = 200000 \n",
    "\n",
    "batch_size = 25  \n",
    "learning_rate = 1e-4   \n",
    "eval_interval = 20000"
   ]
  },
  {
   "cell_type": "code",
   "execution_count": 7,
   "metadata": {},
   "outputs": [],
   "source": [
    "# instantiate DQN agent\n",
    "\n",
    "optimizer = tf.compat.v1.train.AdamOptimizer(learning_rate=learning_rate)\n",
    "\n",
    "train_step_counter = tf.Variable(0)\n",
    "\n",
    "# decay exploration a\n",
    "global_step = tf.compat.v1.train.get_or_create_global_step()\n",
    "start_epsilon = 0.5\n",
    "n_of_steps = int(0.3*num_iterations)\n",
    "end_epsilon = 0.01\n",
    "epsilon = tf.compat.v1.train.polynomial_decay(\n",
    "      start_epsilon,\n",
    "      train_step_counter,\n",
    "      n_of_steps,\n",
    "      end_learning_rate=end_epsilon)\n",
    "\n",
    "agent = dqn_agent.DqnAgent(\n",
    "    train_env.time_step_spec(),\n",
    "    train_env.action_spec(),\n",
    "    q_network=q_net,\n",
    "    epsilon_greedy=epsilon,\n",
    "    #target_update_tau=0.001,\n",
    "    optimizer=optimizer,\n",
    "    gamma=gamma,\n",
    "    td_errors_loss_fn=common.element_wise_squared_loss,\n",
    "    train_step_counter=train_step_counter)\n",
    "\n",
    "agent.initialize()\n",
    "\n",
    "\n",
    "\n"
   ]
  },
  {
   "cell_type": "code",
   "execution_count": 8,
   "metadata": {},
   "outputs": [],
   "source": [
    "class ShowProgress:\n",
    "    def __init__(self, total):\n",
    "        self.counter = 0\n",
    "        self.total = total\n",
    "    def __call__(self, trajectory):\n",
    "        if not trajectory.is_boundary():\n",
    "            self.counter += 1\n",
    "        if self.counter % 100 == 0:\n",
    "            print(\"\\r{}/{}\".format(self.counter, self.total), end=\"\")"
   ]
  },
  {
   "cell_type": "code",
   "execution_count": 9,
   "metadata": {},
   "outputs": [],
   "source": [
    "# create a replay buffer\n",
    "\n",
    "from tf_agents.replay_buffers import tf_uniform_replay_buffer\n",
    "\n",
    "replay_buffer = tf_uniform_replay_buffer.TFUniformReplayBuffer(\n",
    "    data_spec=agent.collect_data_spec,\n",
    "    batch_size=train_env.batch_size,\n",
    "    max_length=replay_buffer_max_length)\n",
    "\n",
    "replay_buffer_observer = replay_buffer.add_batch"
   ]
  },
  {
   "cell_type": "code",
   "execution_count": 10,
   "metadata": {},
   "outputs": [],
   "source": [
    "from tf_agents.metrics import tf_metrics\n",
    "\n",
    "train_metrics = [\n",
    "    tf_metrics.NumberOfEpisodes(),\n",
    "    tf_metrics.EnvironmentSteps(),\n",
    "    tf_metrics.AverageReturnMetric(),\n",
    "    tf_metrics.AverageEpisodeLengthMetric(),\n",
    "]"
   ]
  },
  {
   "cell_type": "code",
   "execution_count": 11,
   "metadata": {},
   "outputs": [],
   "source": [
    "from tf_agents.eval.metric_utils import log_metrics\n",
    "import logging\n",
    "log_metrics(train_metrics)\n",
    "#logging.get_logger().set_level(logging.INFO)  \n",
    "logging.getLogger().setLevel(logging.INFO)  "
   ]
  },
  {
   "cell_type": "code",
   "execution_count": 12,
   "metadata": {},
   "outputs": [],
   "source": [
    "# Driver to take action steps in the environment\n",
    "from tf_agents.drivers.dynamic_step_driver import DynamicStepDriver\n",
    "\n",
    "collect_driver = DynamicStepDriver(\n",
    "    train_env,\n",
    "    agent.collect_policy,\n",
    "    observers=[replay_buffer_observer] + train_metrics) "
   ]
  },
  {
   "cell_type": "code",
   "execution_count": 13,
   "metadata": {},
   "outputs": [
    {
     "name": "stdout",
     "output_type": "stream",
     "text": [
      "WARNING:tensorflow:From /home/praneeth/anaconda3/envs/tfagents/lib/python3.6/site-packages/tf_agents/drivers/dynamic_step_driver.py:201: calling while_loop_v2 (from tensorflow.python.ops.control_flow_ops) with back_prop=False is deprecated and will be removed in a future version.\n",
      "Instructions for updating:\n",
      "back_prop=False is deprecated. Consider using tf.stop_gradient instead.\n",
      "Instead of:\n",
      "results = tf.while_loop(c, b, vars, back_prop=False)\n",
      "Use:\n",
      "results = tf.nest.map_structure(tf.stop_gradient, tf.while_loop(c, b, vars))\n"
     ]
    },
    {
     "name": "stderr",
     "output_type": "stream",
     "text": [
      "WARNING:tensorflow:From /home/praneeth/anaconda3/envs/tfagents/lib/python3.6/site-packages/tf_agents/drivers/dynamic_step_driver.py:201: calling while_loop_v2 (from tensorflow.python.ops.control_flow_ops) with back_prop=False is deprecated and will be removed in a future version.\n",
      "Instructions for updating:\n",
      "back_prop=False is deprecated. Consider using tf.stop_gradient instead.\n",
      "Instead of:\n",
      "results = tf.while_loop(c, b, vars, back_prop=False)\n",
      "Use:\n",
      "results = tf.nest.map_structure(tf.stop_gradient, tf.while_loop(c, b, vars))\n"
     ]
    },
    {
     "name": "stdout",
     "output_type": "stream",
     "text": [
      "10000/10000"
     ]
    }
   ],
   "source": [
    "# fill the replay buffer initially with trajectories from a random policy\n",
    "\n",
    "from tf_agents.policies.random_tf_policy import RandomTFPolicy\n",
    "\n",
    "initial_collect_policy = RandomTFPolicy(train_env.time_step_spec(),\n",
    "                                        train_env.action_spec())\n",
    "init_driver = DynamicStepDriver(\n",
    "    train_env,\n",
    "    initial_collect_policy,\n",
    "    observers=[replay_buffer.add_batch, ShowProgress(initial_collect_steps)],\n",
    "    num_steps=initial_collect_steps) \n",
    "final_time_step, final_policy_state = init_driver.run()"
   ]
  },
  {
   "cell_type": "code",
   "execution_count": null,
   "metadata": {},
   "outputs": [],
   "source": []
  },
  {
   "cell_type": "code",
   "execution_count": 14,
   "metadata": {},
   "outputs": [],
   "source": [
    "# from tf_agents.trajectories import trajectory\n",
    "\n",
    "# def collect_step(environment, policy, buffer):\n",
    "#   time_step = environment.current_time_step()\n",
    "#   action_step = policy.action(time_step)\n",
    "#   next_time_step = environment.step(action_step.action)\n",
    "#   traj = trajectory.from_transition(time_step, action_step, next_time_step)\n",
    "\n",
    "#   # Add trajectory to the replay buffer\n",
    "#   buffer.add_batch(traj)\n",
    "\n",
    "# def collect_data(env, policy, buffer, steps):\n",
    "#   for _ in range(steps):\n",
    "#     collect_step(env, policy, buffer)\n",
    "\n",
    "# random_policy = RandomTFPolicy(train_env.time_step_spec(),\n",
    "#                                                 train_env.action_spec())\n",
    "# collect_data(train_env, random_policy, replay_buffer, steps=100)"
   ]
  },
  {
   "cell_type": "code",
   "execution_count": 15,
   "metadata": {},
   "outputs": [
    {
     "name": "stdout",
     "output_type": "stream",
     "text": [
      "<tensorflow.python.data.ops.iterator_ops.OwnedIterator object at 0x7fa61062fd68>\n"
     ]
    }
   ],
   "source": [
    "# dataset is sampled from the replay buffer\n",
    "\n",
    "dataset = replay_buffer.as_dataset(\n",
    "    num_parallel_calls=3, \n",
    "    sample_batch_size=batch_size, \n",
    "    num_steps=2).prefetch(3)\n",
    "\n",
    "\n",
    "dataset\n",
    "iterator = iter(dataset)\n",
    "\n",
    "print(iterator)"
   ]
  },
  {
   "cell_type": "code",
   "execution_count": 16,
   "metadata": {},
   "outputs": [],
   "source": [
    "def compute_avg_return(environment, policy, num_steps=1000):\n",
    "\n",
    "    total_return = 0.0\n",
    "    steps = 0\n",
    "    time_step = environment.reset()\n",
    "    \n",
    "    for _ in range(num_steps):\n",
    "        \n",
    "        action_step = policy.action(time_step)\n",
    "        time_step = environment.step(action_step.action)\n",
    "        \n",
    "        total_return += time_step.reward\n",
    "        steps += 1\n",
    "        if time_step.is_last():\n",
    "            time_step = environment.reset()\n",
    "\n",
    "\n",
    "    avg_return = total_return \n",
    "    return avg_return.numpy()[0]\n"
   ]
  },
  {
   "cell_type": "code",
   "execution_count": 17,
   "metadata": {},
   "outputs": [],
   "source": [
    "#compute_avg_return(eval_tf_env, initial_collect_policy)"
   ]
  },
  {
   "cell_type": "code",
   "execution_count": null,
   "metadata": {},
   "outputs": [
    {
     "name": "stdout",
     "output_type": "stream",
     "text": [
      "25462 loss:0.73550007"
     ]
    }
   ],
   "source": [
    "from tf_agents.utils.common import function\n",
    "\n",
    "agent.train = common.function(agent.train)\n",
    "collect_driver.run = function(collect_driver.run)\n",
    "\n",
    "# Reset the train step\n",
    "agent.train_step_counter.assign(0)\n",
    "\n",
    "time_step = None\n",
    "policy_state = agent.collect_policy.get_initial_state(train_env.batch_size)\n",
    "#iterator = iter(dataset)\n",
    "cum_reward = compute_avg_return(eval_tf_env, agent.policy, 2000)\n",
    "returns = [cum_reward]\n",
    "loss = []\n",
    "for iteration in range(num_iterations):\n",
    "    time_step, policy_state = collect_driver.run(time_step, policy_state)\n",
    "    trajectories, buffer_info = next(iterator)\n",
    "    train_loss = agent.train(trajectories)\n",
    "    loss.append(train_loss.loss.numpy())\n",
    "    \n",
    "    step = agent.train_step_counter.numpy()\n",
    "    global_step.assign(step)\n",
    "#     if step % eval_interval ==0 :\n",
    "#         cum_reward = compute_avg_return(eval_tf_env, agent.policy, num_steps=2000)\n",
    "#         print('step = {0}: Cumulative Reward = {1}'.format(step, cum_reward))\n",
    "#         returns.append(cum_reward)\n",
    "        \n",
    "    #t_env_f.render()\n",
    "    print(\"\\r{} loss:{:.5f}\".format(\n",
    "        iteration, train_loss.loss.numpy()), end=\"\")\n",
    "#     if iteration % 1000 == 0:\n",
    "#         log_metrics(train_metrics)\n",
    "    "
   ]
  },
  {
   "cell_type": "code",
   "execution_count": null,
   "metadata": {},
   "outputs": [],
   "source": [
    "# import matplotlib.pyplot as plt\n",
    "\n",
    "# iterations = range(0, num_iterations + 1, eval_interval)\n",
    "# plt.plot(iterations, returns)\n",
    "\n",
    "# x = range(0, num_iterations)\n",
    "# plt.plot(x, loss)\n"
   ]
  },
  {
   "cell_type": "code",
   "execution_count": null,
   "metadata": {},
   "outputs": [],
   "source": [
    "step = 100000\n",
    "cum_reward = compute_avg_return(eval_tf_env, agent.policy, num_steps=step)\n",
    "print('step = {0}: Cumulative Reward = {1}'.format(step, cum_reward))"
   ]
  },
  {
   "cell_type": "code",
   "execution_count": null,
   "metadata": {},
   "outputs": [],
   "source": []
  },
  {
   "cell_type": "code",
   "execution_count": null,
   "metadata": {},
   "outputs": [],
   "source": [
    "import imageio\n",
    "import base64\n",
    "import IPython\n",
    "def embed_mp4(filename):\n",
    "  \"\"\"Embeds an mp4 file in the notebook.\"\"\"\n",
    "  video = open(filename,'rb').read()\n",
    "  b64 = base64.b64encode(video)\n",
    "  tag = '''\n",
    "  <video width=\"640\" height=\"480\" controls>\n",
    "    <source src=\"data:video/mp4;base64,{0}\" type=\"video/mp4\">\n",
    "  Your browser does not support the video tag.\n",
    "  </video>'''.format(b64.decode())\n",
    "\n",
    "  return IPython.display.HTML(tag)"
   ]
  },
  {
   "cell_type": "code",
   "execution_count": null,
   "metadata": {},
   "outputs": [],
   "source": [
    "def create_policy_eval_video(policy, filename, num_episodes=1, fps=30):\n",
    "  filename = filename + \".mp4\"\n",
    "  with imageio.get_writer(filename, fps=fps) as video:\n",
    "    for _ in range(num_episodes):\n",
    "        time_step = eval_tf_env.reset()\n",
    "        eval_py_env.render()\n",
    "        print(time_step)\n",
    "        video.append_data(eval_py_env.render())\n",
    "        while not time_step.is_last():\n",
    "            action_step = policy.action(time_step)\n",
    "            time_step = eval_tf_env.step(action_step.action)\n",
    "            video.append_data(eval_py_env.render())\n",
    "            \n",
    "  return embed_mp4(filename)\n",
    "\n",
    "\n",
    "\n",
    "\n",
    "#create_policy_eval_video(agent.policy, \"trained-agent\")"
   ]
  },
  {
   "cell_type": "code",
   "execution_count": null,
   "metadata": {},
   "outputs": [],
   "source": [
    "\n",
    "policy = agent.policy\n",
    "for _ in range(10):\n",
    "    time_step = eval_tf_env.reset()\n",
    "#     print(time_step,'\\n \\n')\n",
    "#     print(train_env.time_step_spec())\n",
    "    eval_py_env.render()\n",
    "    \n",
    "    while not time_step.is_last():\n",
    "        action_step = policy.action(time_step)\n",
    "        time_step = eval_tf_env.step(action_step.action)\n",
    "        eval_py_env.render()\n",
    "\n",
    "#     action_step = policy.action(time_step)\n",
    "#     time_step = t_tf_env.step(action_step.action)\n",
    "#     t_env_f.render()\n"
   ]
  },
  {
   "cell_type": "code",
   "execution_count": null,
   "metadata": {},
   "outputs": [],
   "source": []
  }
 ],
 "metadata": {
  "kernelspec": {
   "display_name": "Python 3",
   "language": "python",
   "name": "python3"
  },
  "language_info": {
   "codemirror_mode": {
    "name": "ipython",
    "version": 3
   },
   "file_extension": ".py",
   "mimetype": "text/x-python",
   "name": "python",
   "nbconvert_exporter": "python",
   "pygments_lexer": "ipython3",
   "version": "3.6.10"
  },
  "varInspector": {
   "cols": {
    "lenName": 16,
    "lenType": 16,
    "lenVar": 40
   },
   "kernels_config": {
    "python": {
     "delete_cmd_postfix": "",
     "delete_cmd_prefix": "del ",
     "library": "var_list.py",
     "varRefreshCmd": "print(var_dic_list())"
    },
    "r": {
     "delete_cmd_postfix": ") ",
     "delete_cmd_prefix": "rm(",
     "library": "var_list.r",
     "varRefreshCmd": "cat(var_dic_list()) "
    }
   },
   "types_to_exclude": [
    "module",
    "function",
    "builtin_function_or_method",
    "instance",
    "_Feature"
   ],
   "window_display": false
  }
 },
 "nbformat": 4,
 "nbformat_minor": 4
}
