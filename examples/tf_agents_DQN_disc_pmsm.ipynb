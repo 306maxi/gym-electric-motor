{
 "cells": [
  {
   "cell_type": "code",
   "execution_count": null,
   "metadata": {},
   "outputs": [
    {
     "name": "stderr",
     "output_type": "stream",
     "text": [
      "/home/praneeth/anaconda3/envs/tfagents/lib/python3.6/site-packages/gym/logger.py:30: UserWarning: \u001b[33mWARN: Box bound precision lowered by casting to float32\u001b[0m\n",
      "  warnings.warn(colorize('%s: %s'%('WARN', msg % args), 'yellow'))\n",
      "/home/praneeth/anaconda3/envs/tfagents/lib/python3.6/site-packages/gym/logger.py:30: UserWarning: \u001b[33mWARN: Box bound precision lowered by casting to float32\u001b[0m\n",
      "  warnings.warn(colorize('%s: %s'%('WARN', msg % args), 'yellow'))\n",
      "/home/praneeth/anaconda3/envs/tfagents/lib/python3.6/site-packages/gym/logger.py:30: UserWarning: \u001b[33mWARN: Box bound precision lowered by casting to float32\u001b[0m\n",
      "  warnings.warn(colorize('%s: %s'%('WARN', msg % args), 'yellow'))\n"
     ]
    }
   ],
   "source": [
    "import gym_electric_motor as gem\n",
    "import gym\n",
    "import tensorflow as tf\n",
    "from tf_agents.environments import suite_gym\n",
    "from tf_agents.environments import tf_py_environment\n",
    "from tf_agents.networks import q_network\n",
    "from gym.wrappers import FlattenObservation\n",
    "#from tf_agents.environments.wrappers import FlattenObservationsWrapper\n",
    "from tf_agents.agents.dqn import dqn_agent\n",
    "from tf_agents.utils import common\n",
    "\n",
    "from gym_electric_motor.visualization import MotorDashboard, ConsolePrinter\n",
    "from gym_electric_motor.physical_systems import ConstantSpeedLoad\n",
    "\n",
    "import numpy as np"
   ]
  },
  {
   "cell_type": "code",
   "execution_count": null,
   "metadata": {},
   "outputs": [],
   "source": [
    "# visualization=MotorDashboard(plots = ['i_sq', 'i_sd', 'reward']),\n",
    "    \n",
    "#                # parameterize the PMSM\n",
    "#                motor_parameter=motor_parameter,\n",
    "#                #converter = converter,\n",
    "    \n",
    "#                # update the limitations of the state space\n",
    "#                limit_values=limit_values,\n",
    "#                nominal_values=nominal_values,\n",
    "               \n",
    "#                # define the DC link voltage\n",
    "#                u_sup=u_sup, \n",
    "               \n",
    "#                # define the speed at which the motor is operated\n",
    "#                load='ConstSpeedLoad',\n",
    "#                load_initializer = {'states': {'omega': 1000 * np.pi / 30,},\n",
    "#                                    'interval': [[-4000*2*np.pi/60, 4000*2*np.pi/60]],\n",
    "#                                    'random_init': 'uniform',\n",
    "#                    },\n",
    "#                #gem.physical_systems.ConstantSpeedLoad(omega_fixed=1000 * np.pi / 30), \n",
    "               \n",
    "#                # define the duration of one sampling step\n",
    "#                tau=1e-5,\n",
    "               \n",
    "#                # turn off terminations via limit violation and parameterize the reward function\n",
    "#                reward_function=gem.reward_functions.WeightedSumOfErrors(observed_states=['i_sq', 'i_sd'], \n",
    "#                                                                         reward_weights={'i_sq': 1, 'i_sd': 1},\n",
    "#                                                                         #constraint_monitor = SqdCurrentMonitor(),\n",
    "#                                                                         gamma = gamma,\n",
    "#                                                                         reward_power=1\n",
    "#                                                                        ),\n",
    "#                # define the reference generator\n",
    "#                reference_generator=rg,\n",
    "    \n",
    "#                # define a numerical solver of adequate accuracy\n",
    "#                ode_solver='euler'"
   ]
  },
  {
   "cell_type": "code",
   "execution_count": null,
   "metadata": {},
   "outputs": [],
   "source": [
    "q_generator = gem.reference_generators.WienerProcessReferenceGenerator(reference_state='i_sq')\n",
    "d_generator = gem.reference_generators.WienerProcessReferenceGenerator(reference_state='i_sd')\n",
    "rg = gem.reference_generators.MultipleReferenceGenerator([q_generator, d_generator])\n",
    "\n",
    "# Change of the default motor parameters.\n",
    "motor_parameter = dict(\n",
    "    r_s=15e-3, l_d=0.37e-3, l_q=1.2e-3, psi_p=65.6e-3, p=3, j_rotor=0.06\n",
    ")\n",
    "limit_values = dict(\n",
    "    i=160*1.41,\n",
    "    omega=12000 * np.pi / 30,\n",
    "    u=450\n",
    ")\n",
    "nominal_values = {key: 0.7 * limit for key, limit in limit_values.items()}\n",
    "u_sup = 400\n",
    "gamma = 0.99\n",
    "\n",
    "class SqdCurrentMonitor:\n",
    "    \"\"\"\n",
    "    monitor for squared currents:\n",
    "    \n",
    "    i_sd**2 + i_sq**2 < 1.5 * nominal_limit \n",
    "    \"\"\"\n",
    "    def __init__(self, ):\n",
    "        self.I_SD_IDX = 5\n",
    "        self.I_SQ_IDX = 6\n",
    "    \n",
    "    def __call__(self, state, observed_states, k, physical_system):\n",
    "        self.I_SD_IDX = physical_system.state_names.index('i_sd')\n",
    "        self.I_SQ_IDX = physical_system.state_names.index('i_sq')\n",
    "        # normalize to limit_values, since state is normalized\n",
    "        nominal_values = physical_system.nominal_state / abs(physical_system.limits)\n",
    "        limits = 1.5 * nominal_values\n",
    "        # calculating squared currents as observed measure \n",
    "        sqd_currents = state[self.I_SD_IDX]**2 + state[self.I_SQ_IDX]**2\n",
    "        \n",
    "        return (sqd_currents > limits[self.I_SD_IDX] or sqd_currents > limits[self.I_SQ_IDX])\n",
    "\n",
    "gym_env_kwargs = {'visualization': MotorDashboard(plots = ['i_sq', 'i_sd', 'reward']),\n",
    "            # parameterize the PMSM\n",
    "               'motor_parameter' : motor_parameter,\n",
    "               'limit_values' : limit_values,\n",
    "               'nominal_values' : nominal_values,\n",
    "               'u_sup' : u_sup,\n",
    "               'load' : ConstantSpeedLoad(omega_fixed=1000 * np.pi / 30),\n",
    "               'state_filter' :['i_sq', 'i_sd', 'epsilon'],\n",
    "               'reward_weights' : {'i_sq': 1000, 'i_sd': 1000},\n",
    "               'reward_power' : 0.5,\n",
    "               'observed_states' : ['i_sq', 'i_sd'],\n",
    "           \n",
    "            #'tau' : 1e-4 ,\n",
    "            # turn off terminations via limit violation and parameterize the reward function\n",
    "#             'reward_function' : gem.reward_functions.WeightedSumOfErrors(observed_states=['i_sq', 'i_sd'], \n",
    "#                                                                         reward_weights={'i_sq': 1, 'i_sd': 1},\n",
    "#                                                                         #constraint_monitor = SqdCurrentMonitor(),\n",
    "#                                                                         gamma = gamma,\n",
    "#                                                                         reward_power=1\n",
    "#                                                                        ),\n",
    "            \n",
    "            'reference_generator' : rg,\n",
    "            # define a numerical solver of adequate accuracy\n",
    "            'ode_solver' : 'euler' #'scipy.solve_ivp'\n",
    "    \n",
    "}\n"
   ]
  },
  {
   "cell_type": "code",
   "execution_count": null,
   "metadata": {},
   "outputs": [],
   "source": [
    "# Alternate way to create a tf compatible gym env\n",
    "\n",
    "t_env = gym.make(# define a PMSM with continuous action space\n",
    "               \"emotor-pmsm-disc-v1\", **gym_env_kwargs)\n",
    "t_env_f =FlattenObservation(t_env) \n",
    "\n",
    "t_py_env = suite_gym.wrap_env(t_env_f, max_episode_steps=10000)\n",
    "t_train_env = tf_py_environment.TFPyEnvironment(t_py_env)"
   ]
  },
  {
   "cell_type": "code",
   "execution_count": null,
   "metadata": {},
   "outputs": [],
   "source": [
    "env_name = \"emotor-pmsm-disc-v1\"\n",
    "env = suite_gym.load(env_name, max_episode_steps=10000, gym_env_wrappers=[FlattenObservation],\n",
    "                      gym_kwargs = gym_env_kwargs )  #\n",
    "# #env = FlattenObservation(env)\n",
    "train_env = tf_py_environment.TFPyEnvironment(env)\n",
    "print(env.gym)\n"
   ]
  },
  {
   "cell_type": "code",
   "execution_count": null,
   "metadata": {},
   "outputs": [],
   "source": [
    "train_env.observation_spec()"
   ]
  },
  {
   "cell_type": "code",
   "execution_count": null,
   "metadata": {},
   "outputs": [],
   "source": [
    "# create a neural network:\n",
    "\n",
    "fc_layer_params = (100,)\n",
    "\n",
    "q_net = q_network.QNetwork(\n",
    "    train_env.observation_spec(),\n",
    "    train_env.action_spec(),\n",
    "    fc_layer_params=fc_layer_params)\n"
   ]
  },
  {
   "cell_type": "code",
   "execution_count": null,
   "metadata": {},
   "outputs": [],
   "source": [
    "# Hyper-parameters\n",
    "\n",
    "num_iterations = 2000 \n",
    "\n",
    "initial_collect_steps = 1000  \n",
    "collect_steps_per_iteration = 1 \n",
    "replay_buffer_max_length = 100000 \n",
    "\n",
    "batch_size = 64  \n",
    "learning_rate = 1e-4  \n",
    "log_interval = 200 \n",
    "\n",
    "num_eval_episodes = 10 \n",
    "eval_interval = 1000"
   ]
  },
  {
   "cell_type": "code",
   "execution_count": null,
   "metadata": {},
   "outputs": [],
   "source": [
    "# instantiate DQN agent\n",
    "\n",
    "optimizer = tf.compat.v1.train.AdamOptimizer(learning_rate=learning_rate)\n",
    "\n",
    "train_step_counter = tf.Variable(0)\n",
    "\n",
    "agent = dqn_agent.DqnAgent(\n",
    "    train_env.time_step_spec(),\n",
    "    train_env.action_spec(),\n",
    "    q_network=q_net,\n",
    "    optimizer=optimizer,\n",
    "    td_errors_loss_fn=common.element_wise_squared_loss,\n",
    "    train_step_counter=train_step_counter)\n",
    "\n",
    "agent.initialize()\n"
   ]
  },
  {
   "cell_type": "code",
   "execution_count": null,
   "metadata": {},
   "outputs": [],
   "source": [
    "class ShowProgress:\n",
    "    def __init__(self, total):\n",
    "        self.counter = 0\n",
    "        self.total = total\n",
    "    def __call__(self, trajectory):\n",
    "        if not trajectory.is_boundary():\n",
    "            self.counter += 1\n",
    "        if self.counter % 100 == 0:\n",
    "            print(\"\\r{}/{}\".format(self.counter, self.total), end=\"\")"
   ]
  },
  {
   "cell_type": "code",
   "execution_count": null,
   "metadata": {},
   "outputs": [],
   "source": [
    "# create a replay buffer\n",
    "\n",
    "from tf_agents.replay_buffers import tf_uniform_replay_buffer\n",
    "\n",
    "replay_buffer = tf_uniform_replay_buffer.TFUniformReplayBuffer(\n",
    "    data_spec=agent.collect_data_spec,\n",
    "    batch_size=train_env.batch_size,\n",
    "    max_length=replay_buffer_max_length)\n",
    "\n",
    "replay_buffer_observer = replay_buffer.add_batch"
   ]
  },
  {
   "cell_type": "code",
   "execution_count": null,
   "metadata": {},
   "outputs": [],
   "source": [
    "from tf_agents.metrics import tf_metrics\n",
    "\n",
    "train_metrics = [\n",
    "    tf_metrics.NumberOfEpisodes(),\n",
    "    tf_metrics.EnvironmentSteps(),\n",
    "    tf_metrics.AverageReturnMetric(),\n",
    "    tf_metrics.AverageEpisodeLengthMetric(),\n",
    "]"
   ]
  },
  {
   "cell_type": "code",
   "execution_count": null,
   "metadata": {},
   "outputs": [],
   "source": [
    "# Driver to take action steps in the environment\n",
    "from tf_agents.drivers.dynamic_step_driver import DynamicStepDriver\n",
    "\n",
    "collect_driver = DynamicStepDriver(\n",
    "    train_env,\n",
    "    agent.collect_policy,\n",
    "    observers=[replay_buffer_observer] + train_metrics) "
   ]
  },
  {
   "cell_type": "code",
   "execution_count": null,
   "metadata": {},
   "outputs": [],
   "source": [
    "# fill the replay buffer initially with trajectories from a random policy\n",
    "\n",
    "from tf_agents.policies.random_tf_policy import RandomTFPolicy\n",
    "\n",
    "initial_collect_policy = RandomTFPolicy(train_env.time_step_spec(),\n",
    "                                        train_env.action_spec())\n",
    "init_driver = DynamicStepDriver(\n",
    "    train_env,\n",
    "    initial_collect_policy,\n",
    "    observers=[replay_buffer.add_batch, ShowProgress(2000)],\n",
    "    num_steps=2000) \n",
    "final_time_step, final_policy_state = init_driver.run()"
   ]
  },
  {
   "cell_type": "code",
   "execution_count": null,
   "metadata": {},
   "outputs": [],
   "source": [
    "from tf_agents.trajectories import trajectory\n",
    "\n",
    "def collect_step(environment, policy, buffer):\n",
    "  time_step = environment.current_time_step()\n",
    "  action_step = policy.action(time_step)\n",
    "  next_time_step = environment.step(action_step.action)\n",
    "  traj = trajectory.from_transition(time_step, action_step, next_time_step)\n",
    "\n",
    "  # Add trajectory to the replay buffer\n",
    "  buffer.add_batch(traj)\n",
    "\n",
    "def collect_data(env, policy, buffer, steps):\n",
    "  for _ in range(steps):\n",
    "    collect_step(env, policy, buffer)\n",
    "\n",
    "random_policy = RandomTFPolicy(train_env.time_step_spec(),\n",
    "                                                train_env.action_spec())\n",
    "collect_data(train_env, random_policy, replay_buffer, steps=100)"
   ]
  },
  {
   "cell_type": "code",
   "execution_count": null,
   "metadata": {},
   "outputs": [],
   "source": [
    "# dataset is sampled from the replay buffer\n",
    "\n",
    "dataset = replay_buffer.as_dataset(\n",
    "    num_parallel_calls=3, \n",
    "    sample_batch_size=batch_size, \n",
    "    num_steps=2).prefetch(3)\n",
    "\n",
    "\n",
    "dataset\n",
    "iterator = iter(dataset)\n",
    "\n",
    "print(iterator)"
   ]
  },
  {
   "cell_type": "code",
   "execution_count": null,
   "metadata": {},
   "outputs": [],
   "source": [
    "#optional\n",
    "#@test {\"skip\": true}\n",
    "def compute_avg_return(environment, policy, num_episodes=10):\n",
    "\n",
    "  total_return = 0.0\n",
    "  for _ in range(num_episodes):\n",
    "\n",
    "    time_step = environment.reset()\n",
    "    episode_return = 0.0\n",
    "\n",
    "    while not time_step.is_last():\n",
    "      action_step = policy.action(time_step)\n",
    "      time_step = environment.step(action_step.action)\n",
    "      episode_return += time_step.reward\n",
    "    total_return += episode_return\n",
    "\n",
    "  avg_return = total_return / num_episodes\n",
    "  return avg_return.numpy()[0]\n",
    "\n",
    "eval_py_env = suite_gym.load(env_name, gym_env_wrappers=[FlattenObservation])\n",
    "eval_env = tf_py_environment.TFPyEnvironment(eval_py_env)"
   ]
  },
  {
   "cell_type": "code",
   "execution_count": null,
   "metadata": {},
   "outputs": [],
   "source": [
    "from tf_agents.utils.common import function\n",
    "\n",
    "agent.train = common.function(agent.train)\n",
    "collect_driver.run = function(collect_driver.run)\n",
    "\n",
    "# Reset the train step\n",
    "agent.train_step_counter.assign(0)\n",
    "\n",
    "# Evaluate the agent's policy once before training.\n",
    "avg_return = compute_avg_return(eval_env, agent.policy, num_eval_episodes)\n",
    "returns = [avg_return]\n",
    "\n",
    "# for _ in range(num_iterations):\n",
    "\n",
    "#   # Collect a few steps using collect_policy and save to the replay buffer.\n",
    "#   for _ in range(collect_steps_per_iteration):\n",
    "#     collect_step(train_env, agent.collect_policy, replay_buffer)\n",
    "\n",
    "#   # Sample a batch of data from the buffer and update the agent's network.\n",
    "#   experience, unused_info = next(iterator)\n",
    "#   train_loss = agent.train(experience).loss\n",
    "\n",
    "#   step = agent.train_step_counter.numpy()\n",
    "\n",
    "#   if step % log_interval == 0:\n",
    "#     print('step = {0}: loss = {1}'.format(step, train_loss))\n",
    "\n",
    "#   if step % eval_interval == 0:\n",
    "#     avg_return = compute_avg_return(eval_env, agent.policy, num_eval_episodes)\n",
    "#     print('step = {0}: Average Return = {1}'.format(step, avg_return))\n",
    "#     returns.append(avg_return)\n",
    "\n",
    "time_step = None\n",
    "policy_state = agent.collect_policy.get_initial_state(train_env.batch_size)\n",
    "#iterator = iter(dataset)\n",
    "for iteration in range(num_iterations):\n",
    "    time_step, policy_state = collect_driver.run(time_step, policy_state)\n",
    "    trajectories, buffer_info = next(iterator)\n",
    "    train_loss = agent.train(trajectories)\n",
    "    train_env.render()\n",
    "    print(\"\\r{} loss:{:.5f}\".format(\n",
    "        iteration, train_loss.loss.numpy()), end=\"\")\n",
    "    if iteration % 1000 == 0:\n",
    "        log_metrics(train_metrics)"
   ]
  },
  {
   "cell_type": "code",
   "execution_count": null,
   "metadata": {},
   "outputs": [],
   "source": []
  }
 ],
 "metadata": {
  "kernelspec": {
   "display_name": "Python 3",
   "language": "python",
   "name": "python3"
  },
  "language_info": {
   "codemirror_mode": {
    "name": "ipython",
    "version": 3
   },
   "file_extension": ".py",
   "mimetype": "text/x-python",
   "name": "python",
   "nbconvert_exporter": "python",
   "pygments_lexer": "ipython3",
   "version": "3.6.10"
  },
  "varInspector": {
   "cols": {
    "lenName": 16,
    "lenType": 16,
    "lenVar": 40
   },
   "kernels_config": {
    "python": {
     "delete_cmd_postfix": "",
     "delete_cmd_prefix": "del ",
     "library": "var_list.py",
     "varRefreshCmd": "print(var_dic_list())"
    },
    "r": {
     "delete_cmd_postfix": ") ",
     "delete_cmd_prefix": "rm(",
     "library": "var_list.r",
     "varRefreshCmd": "cat(var_dic_list()) "
    }
   },
   "types_to_exclude": [
    "module",
    "function",
    "builtin_function_or_method",
    "instance",
    "_Feature"
   ],
   "window_display": false
  }
 },
 "nbformat": 4,
 "nbformat_minor": 4
}
