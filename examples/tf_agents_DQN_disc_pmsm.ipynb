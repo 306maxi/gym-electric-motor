{
 "cells": [
  {
   "cell_type": "code",
   "execution_count": 1,
   "metadata": {},
   "outputs": [
    {
     "name": "stderr",
     "output_type": "stream",
     "text": [
      "/home/praneeth/anaconda3/envs/tfagents/lib/python3.6/site-packages/gym/logger.py:30: UserWarning: \u001b[33mWARN: Box bound precision lowered by casting to float32\u001b[0m\n",
      "  warnings.warn(colorize('%s: %s'%('WARN', msg % args), 'yellow'))\n",
      "/home/praneeth/anaconda3/envs/tfagents/lib/python3.6/site-packages/gym/logger.py:30: UserWarning: \u001b[33mWARN: Box bound precision lowered by casting to float32\u001b[0m\n",
      "  warnings.warn(colorize('%s: %s'%('WARN', msg % args), 'yellow'))\n",
      "/home/praneeth/anaconda3/envs/tfagents/lib/python3.6/site-packages/gym/logger.py:30: UserWarning: \u001b[33mWARN: Box bound precision lowered by casting to float32\u001b[0m\n",
      "  warnings.warn(colorize('%s: %s'%('WARN', msg % args), 'yellow'))\n"
     ]
    }
   ],
   "source": [
    "import gym_electric_motor as gem\n",
    "import gym\n",
    "import tensorflow as tf\n",
    "from tf_agents.environments import suite_gym\n",
    "from tf_agents.environments import tf_py_environment\n",
    "from tf_agents.networks import q_network\n",
    "from gym.wrappers import FlattenObservation\n",
    "#from tf_agents.environments.wrappers import FlattenObservationsWrapper\n",
    "from tf_agents.agents.dqn import dqn_agent\n",
    "from tf_agents.utils import common\n",
    "\n",
    "from gym_electric_motor.visualization import MotorDashboard, ConsolePrinter\n",
    "from gym_electric_motor.physical_systems import ConstantSpeedLoad\n",
    "\n",
    "import numpy as np"
   ]
  },
  {
   "cell_type": "code",
   "execution_count": 2,
   "metadata": {},
   "outputs": [],
   "source": [
    "q_generator = gem.reference_generators.WienerProcessReferenceGenerator(reference_state='i_sq')\n",
    "d_generator = gem.reference_generators.WienerProcessReferenceGenerator(reference_state='i_sd')\n",
    "rg = gem.reference_generators.MultipleReferenceGenerator([q_generator, d_generator])\n",
    "\n",
    "# Change of the default motor parameters.\n",
    "motor_parameter = dict(\n",
    "    r_s=15e-3, l_d=0.37e-3, l_q=1.2e-3, psi_p=65.6e-3, p=3, j_rotor=0.06\n",
    ")\n",
    "limit_values = dict(\n",
    "    i=160*1.41,\n",
    "    omega=12000 * np.pi / 30,\n",
    "    u=450\n",
    ")\n",
    "nominal_values = {key: 0.7 * limit for key, limit in limit_values.items()}\n",
    "u_sup = 400\n",
    "gamma = 0.99\n",
    "\n",
    "\n",
    "\n",
    "gym_env_kwargs1 = {'visualization': MotorDashboard(plots = ['i_sq', 'i_sd', 'reward']),\n",
    "            # parameterize the PMSM\n",
    "               'motor_parameter' : motor_parameter,\n",
    "               'limit_values' : limit_values,\n",
    "               'nominal_values' : nominal_values,\n",
    "               'u_sup' : u_sup,\n",
    "               'load' : ConstantSpeedLoad(omega_fixed=1000 * np.pi / 30),\n",
    "               #'state_filter' :['i_sq', 'i_sd', 'epsilon'],  # todo\n",
    "               #'reward_weights' : {'i_sq': 1000, 'i_sd': 1000},\n",
    "               #'reward_power' : 0.5,\n",
    "               #'observed_states' : ['i_sq', 'i_sd'],\n",
    "           \n",
    "            'tau' : 1e-5 ,\n",
    "                  \n",
    "                  ## pass a reward function with a gamma!!  todo\n",
    "            # turn off terminations via limit violation and parameterize the reward function\n",
    "            'reward_function' : gem.reward_functions.WeightedSumOfErrors(observed_states=['i_sq', 'i_sd'], \n",
    "                                                                        reward_weights={'i_sq': 1, 'i_sd': 1},\n",
    "                                                                        #constraint_monitor = SqdCurrentMonitor(),\n",
    "                                                                        gamma = gamma,\n",
    "                                                                        reward_power=1\n",
    "                                                                      ),\n",
    "            \n",
    "            'reference_generator' : rg,\n",
    "            # define a numerical solver of adequate accuracy\n",
    "            'ode_solver' : 'euler' #'scipy.solve_ivp'\n",
    "    \n",
    "}\n",
    "\n",
    "\n",
    "gym_env_kwargs2 = {'visualization': MotorDashboard(plots = ['i_sq', 'i_sd', 'reward']),\n",
    "            # parameterize the PMSM\n",
    "               'motor_parameter' : motor_parameter,\n",
    "               'limit_values' : limit_values,\n",
    "               'nominal_values' : nominal_values,\n",
    "               'u_sup' : u_sup,\n",
    "               'load' : ConstantSpeedLoad(omega_fixed=1000 * np.pi / 30),\n",
    "               #'state_filter' :['i_sq', 'i_sd', 'epsilon'],  # todo\n",
    "               #'reward_weights' : {'i_sq': 1000, 'i_sd': 1000},\n",
    "               #'reward_power' : 0.5,\n",
    "               #'observed_states' : ['i_sq', 'i_sd'],\n",
    "           \n",
    "            'tau' : 1e-5 ,\n",
    "                  \n",
    "                  ## pass a reward function with a gamma!!  todo\n",
    "            # turn off terminations via limit violation and parameterize the reward function\n",
    "            'reward_function' : gem.reward_functions.WeightedSumOfErrors(observed_states=['i_sq', 'i_sd'], \n",
    "                                                                        reward_weights={'i_sq': 1, 'i_sd': 1},\n",
    "                                                                        #constraint_monitor = SqdCurrentMonitor(),\n",
    "                                                                        gamma = gamma,\n",
    "                                                                        reward_power=1\n",
    "                                                                      ),\n",
    "            \n",
    "            'reference_generator' : rg,\n",
    "            # define a numerical solver of adequate accuracy\n",
    "            'ode_solver' : 'euler' #'scipy.solve_ivp'\n",
    "    \n",
    "}\n"
   ]
  },
  {
   "cell_type": "code",
   "execution_count": 3,
   "metadata": {},
   "outputs": [],
   "source": [
    "# # Alternate way to create a tf compatible gym env\n",
    "\n",
    "#t_env = gem.make(\"emotor-pmsm-disc-v1\", **gym_env_kwargs1)   # define a PMSM with continuous action space\n",
    "                \n",
    "# t_env_f = FlattenObservation(t_env) \n",
    "\n",
    "# t_py_env = suite_gym.wrap_env(t_env_f, max_episode_steps=1000)\n",
    "# t_tf_env = tf_py_environment.TFPyEnvironment(t_py_env)"
   ]
  },
  {
   "cell_type": "code",
   "execution_count": 4,
   "metadata": {},
   "outputs": [
    {
     "name": "stdout",
     "output_type": "stream",
     "text": [
      "<FlattenObservation<DiscPermanentMagnetSynchronousMotorEnvironment<emotor-pmsm-disc-v1>>>\n"
     ]
    },
    {
     "name": "stderr",
     "output_type": "stream",
     "text": [
      "/home/praneeth/anaconda3/envs/tfagents/lib/python3.6/site-packages/gym/logger.py:30: UserWarning: \u001b[33mWARN: Box bound precision lowered by casting to float32\u001b[0m\n",
      "  warnings.warn(colorize('%s: %s'%('WARN', msg % args), 'yellow'))\n"
     ]
    }
   ],
   "source": [
    "env_name = \"emotor-pmsm-disc-v1\"\n",
    "env = suite_gym.load(env_name, max_episode_steps=10000, gym_env_wrappers=[FlattenObservation],\n",
    "                      gym_kwargs = gym_env_kwargs1 )  #\n",
    "train_env = tf_py_environment.TFPyEnvironment(env)\n",
    "# #env = FlattenObservation(env)\n",
    "eval_py_env =suite_gym.load(env_name, max_episode_steps=10000, gym_env_wrappers=[FlattenObservation],\n",
    "                      gym_kwargs = gym_env_kwargs2) #gem.make(\"emotor-pmsm-disc-v1\", **gym_env_kwargs2)\n",
    "\n",
    "\n",
    "\n",
    "eval_tf_env = tf_py_environment.TFPyEnvironment(eval_py_env)\n",
    "\n",
    "\n",
    "print(env.gym)\n"
   ]
  },
  {
   "cell_type": "code",
   "execution_count": null,
   "metadata": {},
   "outputs": [],
   "source": [
    "print(train_env.time_step_spec())\n",
    "print('\\n \\n')\n",
    "eval_py_env.time_step_spec()"
   ]
  },
  {
   "cell_type": "code",
   "execution_count": 5,
   "metadata": {},
   "outputs": [],
   "source": [
    "# create a neural network:\n",
    "\n",
    "fc_layer_params = (100,)\n",
    "\n",
    "q_net = q_network.QNetwork(\n",
    "    train_env.observation_spec(),\n",
    "    train_env.action_spec(),\n",
    "    fc_layer_params=fc_layer_params)\n"
   ]
  },
  {
   "cell_type": "code",
   "execution_count": 6,
   "metadata": {},
   "outputs": [],
   "source": [
    "# Hyper-parameters\n",
    "\n",
    "num_iterations = 5000 \n",
    "\n",
    "initial_collect_steps = 2000  \n",
    "collect_steps_per_iteration = 1 \n",
    "replay_buffer_max_length = 100000 \n",
    "\n",
    "batch_size = 64  \n",
    "learning_rate = 1e-4  \n",
    "log_interval = 200 \n",
    "\n",
    "num_eval_episodes = 10 \n",
    "eval_interval = 1000"
   ]
  },
  {
   "cell_type": "code",
   "execution_count": 7,
   "metadata": {},
   "outputs": [],
   "source": [
    "# instantiate DQN agent\n",
    "\n",
    "optimizer = tf.compat.v1.train.AdamOptimizer(learning_rate=learning_rate)\n",
    "\n",
    "train_step_counter = tf.Variable(0)\n",
    "\n",
    "agent = dqn_agent.DqnAgent(\n",
    "    train_env.time_step_spec(),\n",
    "    train_env.action_spec(),\n",
    "    q_network=q_net,\n",
    "    optimizer=optimizer,\n",
    "    td_errors_loss_fn=common.element_wise_squared_loss,\n",
    "    train_step_counter=train_step_counter)\n",
    "\n",
    "agent.initialize()\n"
   ]
  },
  {
   "cell_type": "code",
   "execution_count": 8,
   "metadata": {},
   "outputs": [],
   "source": [
    "class ShowProgress:\n",
    "    def __init__(self, total):\n",
    "        self.counter = 0\n",
    "        self.total = total\n",
    "    def __call__(self, trajectory):\n",
    "        if not trajectory.is_boundary():\n",
    "            self.counter += 1\n",
    "        if self.counter % 100 == 0:\n",
    "            print(\"\\r{}/{}\".format(self.counter, self.total), end=\"\")"
   ]
  },
  {
   "cell_type": "code",
   "execution_count": 9,
   "metadata": {},
   "outputs": [],
   "source": [
    "# create a replay buffer\n",
    "\n",
    "from tf_agents.replay_buffers import tf_uniform_replay_buffer\n",
    "\n",
    "replay_buffer = tf_uniform_replay_buffer.TFUniformReplayBuffer(\n",
    "    data_spec=agent.collect_data_spec,\n",
    "    batch_size=train_env.batch_size,\n",
    "    max_length=replay_buffer_max_length)\n",
    "\n",
    "replay_buffer_observer = replay_buffer.add_batch"
   ]
  },
  {
   "cell_type": "code",
   "execution_count": 10,
   "metadata": {},
   "outputs": [],
   "source": [
    "from tf_agents.metrics import tf_metrics\n",
    "\n",
    "train_metrics = [\n",
    "    tf_metrics.NumberOfEpisodes(),\n",
    "    tf_metrics.EnvironmentSteps(),\n",
    "    tf_metrics.AverageReturnMetric(),\n",
    "    tf_metrics.AverageEpisodeLengthMetric(),\n",
    "]"
   ]
  },
  {
   "cell_type": "code",
   "execution_count": 11,
   "metadata": {},
   "outputs": [],
   "source": [
    "from tf_agents.eval.metric_utils import log_metrics\n",
    "import logging\n",
    "log_metrics(train_metrics)\n",
    "#logging.get_logger().set_level(logging.INFO)  \n",
    "logging.getLogger().setLevel(logging.INFO)  "
   ]
  },
  {
   "cell_type": "code",
   "execution_count": 12,
   "metadata": {},
   "outputs": [],
   "source": [
    "# Driver to take action steps in the environment\n",
    "from tf_agents.drivers.dynamic_step_driver import DynamicStepDriver\n",
    "\n",
    "collect_driver = DynamicStepDriver(\n",
    "    train_env,\n",
    "    agent.collect_policy,\n",
    "    observers=[replay_buffer_observer] + train_metrics) "
   ]
  },
  {
   "cell_type": "code",
   "execution_count": 13,
   "metadata": {},
   "outputs": [
    {
     "name": "stdout",
     "output_type": "stream",
     "text": [
      "WARNING:tensorflow:From /home/praneeth/anaconda3/envs/tfagents/lib/python3.6/site-packages/tf_agents/drivers/dynamic_step_driver.py:201: calling while_loop_v2 (from tensorflow.python.ops.control_flow_ops) with back_prop=False is deprecated and will be removed in a future version.\n",
      "Instructions for updating:\n",
      "back_prop=False is deprecated. Consider using tf.stop_gradient instead.\n",
      "Instead of:\n",
      "results = tf.while_loop(c, b, vars, back_prop=False)\n",
      "Use:\n",
      "results = tf.nest.map_structure(tf.stop_gradient, tf.while_loop(c, b, vars))\n"
     ]
    },
    {
     "name": "stderr",
     "output_type": "stream",
     "text": [
      "WARNING:tensorflow:From /home/praneeth/anaconda3/envs/tfagents/lib/python3.6/site-packages/tf_agents/drivers/dynamic_step_driver.py:201: calling while_loop_v2 (from tensorflow.python.ops.control_flow_ops) with back_prop=False is deprecated and will be removed in a future version.\n",
      "Instructions for updating:\n",
      "back_prop=False is deprecated. Consider using tf.stop_gradient instead.\n",
      "Instead of:\n",
      "results = tf.while_loop(c, b, vars, back_prop=False)\n",
      "Use:\n",
      "results = tf.nest.map_structure(tf.stop_gradient, tf.while_loop(c, b, vars))\n"
     ]
    },
    {
     "name": "stdout",
     "output_type": "stream",
     "text": [
      "2000/2000"
     ]
    }
   ],
   "source": [
    "# fill the replay buffer initially with trajectories from a random policy\n",
    "\n",
    "from tf_agents.policies.random_tf_policy import RandomTFPolicy\n",
    "\n",
    "initial_collect_policy = RandomTFPolicy(train_env.time_step_spec(),\n",
    "                                        train_env.action_spec())\n",
    "init_driver = DynamicStepDriver(\n",
    "    train_env,\n",
    "    initial_collect_policy,\n",
    "    observers=[replay_buffer.add_batch, ShowProgress(initial_collect_steps)],\n",
    "    num_steps=initial_collect_steps) \n",
    "final_time_step, final_policy_state = init_driver.run()"
   ]
  },
  {
   "cell_type": "code",
   "execution_count": null,
   "metadata": {},
   "outputs": [],
   "source": []
  },
  {
   "cell_type": "code",
   "execution_count": 14,
   "metadata": {},
   "outputs": [],
   "source": [
    "# from tf_agents.trajectories import trajectory\n",
    "\n",
    "# def collect_step(environment, policy, buffer):\n",
    "#   time_step = environment.current_time_step()\n",
    "#   action_step = policy.action(time_step)\n",
    "#   next_time_step = environment.step(action_step.action)\n",
    "#   traj = trajectory.from_transition(time_step, action_step, next_time_step)\n",
    "\n",
    "#   # Add trajectory to the replay buffer\n",
    "#   buffer.add_batch(traj)\n",
    "\n",
    "# def collect_data(env, policy, buffer, steps):\n",
    "#   for _ in range(steps):\n",
    "#     collect_step(env, policy, buffer)\n",
    "\n",
    "# random_policy = RandomTFPolicy(train_env.time_step_spec(),\n",
    "#                                                 train_env.action_spec())\n",
    "# collect_data(train_env, random_policy, replay_buffer, steps=100)"
   ]
  },
  {
   "cell_type": "code",
   "execution_count": 15,
   "metadata": {},
   "outputs": [
    {
     "name": "stdout",
     "output_type": "stream",
     "text": [
      "<tensorflow.python.data.ops.iterator_ops.OwnedIterator object at 0x7f4b681b4400>\n"
     ]
    }
   ],
   "source": [
    "# dataset is sampled from the replay buffer\n",
    "\n",
    "dataset = replay_buffer.as_dataset(\n",
    "    num_parallel_calls=3, \n",
    "    sample_batch_size=batch_size, \n",
    "    num_steps=2).prefetch(3)\n",
    "\n",
    "\n",
    "dataset\n",
    "iterator = iter(dataset)\n",
    "\n",
    "print(iterator)"
   ]
  },
  {
   "cell_type": "code",
   "execution_count": 16,
   "metadata": {},
   "outputs": [
    {
     "name": "stderr",
     "output_type": "stream",
     "text": [
      "INFO:absl: \n",
      "\t\t NumberOfEpisodes = 0\n",
      "\t\t EnvironmentSteps = 1\n",
      "\t\t AverageReturn = 0.0\n",
      "\t\t AverageEpisodeLength = 0.0\n"
     ]
    },
    {
     "name": "stdout",
     "output_type": "stream",
     "text": [
      "986 loss:595.287662"
     ]
    },
    {
     "name": "stderr",
     "output_type": "stream",
     "text": [
      "INFO:absl: \n",
      "\t\t NumberOfEpisodes = 9\n",
      "\t\t EnvironmentSteps = 1001\n",
      "\t\t AverageReturn = -312.27716064453125\n",
      "\t\t AverageEpisodeLength = 105.44444274902344\n"
     ]
    },
    {
     "name": "stdout",
     "output_type": "stream",
     "text": [
      "1970 loss:530.899668"
     ]
    },
    {
     "name": "stderr",
     "output_type": "stream",
     "text": [
      "INFO:absl: \n",
      "\t\t NumberOfEpisodes = 16\n",
      "\t\t EnvironmentSteps = 2001\n",
      "\t\t AverageReturn = -318.8725280761719\n",
      "\t\t AverageEpisodeLength = 123.5\n"
     ]
    },
    {
     "name": "stdout",
     "output_type": "stream",
     "text": [
      "2957 loss:0.94341878"
     ]
    },
    {
     "name": "stderr",
     "output_type": "stream",
     "text": [
      "INFO:absl: \n",
      "\t\t NumberOfEpisodes = 20\n",
      "\t\t EnvironmentSteps = 3001\n",
      "\t\t AverageReturn = -315.9631042480469\n",
      "\t\t AverageEpisodeLength = 175.39999389648438\n"
     ]
    },
    {
     "name": "stdout",
     "output_type": "stream",
     "text": [
      "3949 loss:0.37846476"
     ]
    },
    {
     "name": "stderr",
     "output_type": "stream",
     "text": [
      "INFO:absl: \n",
      "\t\t NumberOfEpisodes = 24\n",
      "\t\t EnvironmentSteps = 4001\n",
      "\t\t AverageReturn = -323.8604431152344\n",
      "\t\t AverageEpisodeLength = 236.8000030517578\n"
     ]
    },
    {
     "name": "stdout",
     "output_type": "stream",
     "text": [
      "4999 loss:0.66962405"
     ]
    }
   ],
   "source": [
    "from tf_agents.utils.common import function\n",
    "\n",
    "agent.train = common.function(agent.train)\n",
    "collect_driver.run = function(collect_driver.run)\n",
    "\n",
    "# Reset the train step\n",
    "agent.train_step_counter.assign(0)\n",
    "\n",
    "\n",
    "\n",
    "time_step = None\n",
    "policy_state = agent.collect_policy.get_initial_state(train_env.batch_size)\n",
    "#iterator = iter(dataset)\n",
    "loss = []\n",
    "for iteration in range(num_iterations):\n",
    "    time_step, policy_state = collect_driver.run(time_step, policy_state)\n",
    "    trajectories, buffer_info = next(iterator)\n",
    "    train_loss = agent.train(trajectories)\n",
    "    loss.append(train_loss.loss.numpy())\n",
    "    #t_env_f.render()\n",
    "    print(\"\\r{} loss:{:.5f}\".format(\n",
    "        iteration, train_loss.loss.numpy()), end=\"\")\n",
    "    if iteration % 1000 == 0:\n",
    "        log_metrics(train_metrics)"
   ]
  },
  {
   "cell_type": "code",
   "execution_count": 17,
   "metadata": {},
   "outputs": [
    {
     "data": {
      "text/plain": [
       "[<matplotlib.lines.Line2D at 0x7f4af859e4a8>]"
      ]
     },
     "execution_count": 17,
     "metadata": {},
     "output_type": "execute_result"
    },
    {
     "data": {
      "image/png": "[encoded data removed]",
      "text/plain": [
       "<Figure size 432x288 with 1 Axes>"
      ]
     },
     "metadata": {
      "needs_background": "light"
     },
     "output_type": "display_data"
    }
   ],
   "source": [
    "import matplotlib.pyplot as plt\n",
    "\n",
    "x = range(0, num_iterations)\n",
    "plt.plot(x, loss)\n"
   ]
  },
  {
   "cell_type": "code",
   "execution_count": 24,
   "metadata": {},
   "outputs": [],
   "source": [
    "import imageio\n",
    "import base64\n",
    "import IPython\n",
    "def embed_mp4(filename):\n",
    "  \"\"\"Embeds an mp4 file in the notebook.\"\"\"\n",
    "  video = open(filename,'rb').read()\n",
    "  b64 = base64.b64encode(video)\n",
    "  tag = '''\n",
    "  <video width=\"640\" height=\"480\" controls>\n",
    "    <source src=\"data:video/mp4;base64,{0}\" type=\"video/mp4\">\n",
    "  Your browser does not support the video tag.\n",
    "  </video>'''.format(b64.decode())\n",
    "\n",
    "  return IPython.display.HTML(tag)"
   ]
  },
  {
   "cell_type": "code",
   "execution_count": 25,
   "metadata": {},
   "outputs": [
    {
     "name": "stdout",
     "output_type": "stream",
     "text": [
      "TimeStep(step_type=<tf.Tensor: shape=(1,), dtype=int32, numpy=array([0], dtype=int32)>, reward=<tf.Tensor: shape=(1,), dtype=float32, numpy=array([0.], dtype=float32)>, discount=<tf.Tensor: shape=(1,), dtype=float32, numpy=array([1.], dtype=float32)>, observation=<tf.Tensor: shape=(1, 16), dtype=float32, numpy=\n",
      "array([[ 0.08333334,  0.        ,  0.        ,  0.        ,  0.        ,\n",
      "         0.        ,  0.        , -0.8888889 , -0.8888889 , -0.8888889 ,\n",
      "         0.        ,  0.        ,  0.        ,  1.        ,  0.7       ,\n",
      "         0.7       ]], dtype=float32)>)\n"
     ]
    },
    {
     "ename": "ValueError",
     "evalue": "append_data requires ndarray as first arg",
     "output_type": "error",
     "traceback": [
      "\u001b[0;31m---------------------------------------------------------------------------\u001b[0m",
      "\u001b[0;31mValueError\u001b[0m                                Traceback (most recent call last)",
      "\u001b[0;32m<ipython-input-25-92c5dcda8ff5>\u001b[0m in \u001b[0;36m<module>\u001b[0;34m\u001b[0m\n\u001b[1;32m     17\u001b[0m \u001b[0;34m\u001b[0m\u001b[0m\n\u001b[1;32m     18\u001b[0m \u001b[0;34m\u001b[0m\u001b[0m\n\u001b[0;32m---> 19\u001b[0;31m \u001b[0mcreate_policy_eval_video\u001b[0m\u001b[0;34m(\u001b[0m\u001b[0magent\u001b[0m\u001b[0;34m.\u001b[0m\u001b[0mpolicy\u001b[0m\u001b[0;34m,\u001b[0m \u001b[0;34m\"trained-agent\"\u001b[0m\u001b[0;34m)\u001b[0m\u001b[0;34m\u001b[0m\u001b[0;34m\u001b[0m\u001b[0m\n\u001b[0m",
      "\u001b[0;32m<ipython-input-25-92c5dcda8ff5>\u001b[0m in \u001b[0;36mcreate_policy_eval_video\u001b[0;34m(policy, filename, num_episodes, fps)\u001b[0m\n\u001b[1;32m      6\u001b[0m         \u001b[0meval_py_env\u001b[0m\u001b[0;34m.\u001b[0m\u001b[0mrender\u001b[0m\u001b[0;34m(\u001b[0m\u001b[0;34m)\u001b[0m\u001b[0;34m\u001b[0m\u001b[0;34m\u001b[0m\u001b[0m\n\u001b[1;32m      7\u001b[0m         \u001b[0mprint\u001b[0m\u001b[0;34m(\u001b[0m\u001b[0mtime_step\u001b[0m\u001b[0;34m)\u001b[0m\u001b[0;34m\u001b[0m\u001b[0;34m\u001b[0m\u001b[0m\n\u001b[0;32m----> 8\u001b[0;31m         \u001b[0mvideo\u001b[0m\u001b[0;34m.\u001b[0m\u001b[0mappend_data\u001b[0m\u001b[0;34m(\u001b[0m\u001b[0meval_py_env\u001b[0m\u001b[0;34m.\u001b[0m\u001b[0mrender\u001b[0m\u001b[0;34m(\u001b[0m\u001b[0;34m)\u001b[0m\u001b[0;34m)\u001b[0m\u001b[0;34m\u001b[0m\u001b[0;34m\u001b[0m\u001b[0m\n\u001b[0m\u001b[1;32m      9\u001b[0m         \u001b[0;32mwhile\u001b[0m \u001b[0;32mnot\u001b[0m \u001b[0mtime_step\u001b[0m\u001b[0;34m.\u001b[0m\u001b[0mis_last\u001b[0m\u001b[0;34m(\u001b[0m\u001b[0;34m)\u001b[0m\u001b[0;34m:\u001b[0m\u001b[0;34m\u001b[0m\u001b[0;34m\u001b[0m\u001b[0m\n\u001b[1;32m     10\u001b[0m             \u001b[0maction_step\u001b[0m \u001b[0;34m=\u001b[0m \u001b[0mpolicy\u001b[0m\u001b[0;34m.\u001b[0m\u001b[0maction\u001b[0m\u001b[0;34m(\u001b[0m\u001b[0mtime_step\u001b[0m\u001b[0;34m)\u001b[0m\u001b[0;34m\u001b[0m\u001b[0;34m\u001b[0m\u001b[0m\n",
      "\u001b[0;32m~/anaconda3/envs/tfagents/lib/python3.6/site-packages/imageio/core/format.py\u001b[0m in \u001b[0;36mappend_data\u001b[0;34m(self, im, meta)\u001b[0m\n\u001b[1;32m    483\u001b[0m             \u001b[0;31m# Check image data\u001b[0m\u001b[0;34m\u001b[0m\u001b[0;34m\u001b[0m\u001b[0;34m\u001b[0m\u001b[0m\n\u001b[1;32m    484\u001b[0m             \u001b[0;32mif\u001b[0m \u001b[0;32mnot\u001b[0m \u001b[0misinstance\u001b[0m\u001b[0;34m(\u001b[0m\u001b[0mim\u001b[0m\u001b[0;34m,\u001b[0m \u001b[0mnp\u001b[0m\u001b[0;34m.\u001b[0m\u001b[0mndarray\u001b[0m\u001b[0;34m)\u001b[0m\u001b[0;34m:\u001b[0m\u001b[0;34m\u001b[0m\u001b[0;34m\u001b[0m\u001b[0m\n\u001b[0;32m--> 485\u001b[0;31m                 \u001b[0;32mraise\u001b[0m \u001b[0mValueError\u001b[0m\u001b[0;34m(\u001b[0m\u001b[0;34m\"append_data requires ndarray as first arg\"\u001b[0m\u001b[0;34m)\u001b[0m\u001b[0;34m\u001b[0m\u001b[0;34m\u001b[0m\u001b[0m\n\u001b[0m\u001b[1;32m    486\u001b[0m             \u001b[0;31m# Get total meta dict\u001b[0m\u001b[0;34m\u001b[0m\u001b[0;34m\u001b[0m\u001b[0;34m\u001b[0m\u001b[0m\n\u001b[1;32m    487\u001b[0m             \u001b[0mtotal_meta\u001b[0m \u001b[0;34m=\u001b[0m \u001b[0;34m{\u001b[0m\u001b[0;34m}\u001b[0m\u001b[0;34m\u001b[0m\u001b[0;34m\u001b[0m\u001b[0m\n",
      "\u001b[0;31mValueError\u001b[0m: append_data requires ndarray as first arg"
     ]
    }
   ],
   "source": [
    "def create_policy_eval_video(policy, filename, num_episodes=1, fps=30):\n",
    "  filename = filename + \".mp4\"\n",
    "  with imageio.get_writer(filename, fps=fps) as video:\n",
    "    for _ in range(num_episodes):\n",
    "        time_step = eval_tf_env.reset()\n",
    "        eval_py_env.render()\n",
    "        print(time_step)\n",
    "        video.append_data(eval_py_env.render())\n",
    "        while not time_step.is_last():\n",
    "            action_step = policy.action(time_step)\n",
    "            time_step = eval_tf_env.step(action_step.action)\n",
    "            video.append_data(eval_py_env.render())\n",
    "            \n",
    "  return embed_mp4(filename)\n",
    "\n",
    "\n",
    "\n",
    "\n",
    "create_policy_eval_video(agent.policy, \"trained-agent\")"
   ]
  },
  {
   "cell_type": "code",
   "execution_count": 21,
   "metadata": {},
   "outputs": [
    {
     "name": "stdout",
     "output_type": "stream",
     "text": [
      "TimeStep(step_type=<tf.Tensor: shape=(1,), dtype=int32, numpy=array([0], dtype=int32)>, reward=<tf.Tensor: shape=(1,), dtype=float32, numpy=array([0.], dtype=float32)>, discount=<tf.Tensor: shape=(1,), dtype=float32, numpy=array([1.], dtype=float32)>, observation=<tf.Tensor: shape=(1, 16), dtype=float32, numpy=\n",
      "array([[ 0.08333334,  0.        ,  0.        ,  0.        ,  0.        ,\n",
      "         0.        ,  0.        , -0.8888889 , -0.8888889 , -0.8888889 ,\n",
      "         0.        ,  0.        ,  0.        ,  1.        ,  0.7       ,\n",
      "         0.7       ]], dtype=float32)>) \n",
      " \n",
      "\n",
      "TimeStep(step_type=TensorSpec(shape=(), dtype=tf.int32, name='step_type'), reward=TensorSpec(shape=(), dtype=tf.float32, name='reward'), discount=BoundedTensorSpec(shape=(), dtype=tf.float32, name='discount', minimum=array(0., dtype=float32), maximum=array(1., dtype=float32)), observation=BoundedTensorSpec(shape=(16,), dtype=tf.float32, name='observation', minimum=array(-3.4028235e+38, dtype=float32), maximum=array(3.4028235e+38, dtype=float32)))\n"
     ]
    }
   ],
   "source": [
    "\n",
    "policy = agent.policy\n",
    "for _ in range(1):\n",
    "    time_step = eval_tf_env.reset()\n",
    "    print(time_step,'\\n \\n')\n",
    "    print(train_env.time_step_spec())\n",
    "    eval_py_env.render()\n",
    "    \n",
    "#     while not time_step.is_last():\n",
    "#         action_step = policy.action(time_step)\n",
    "#         time_step = eval_tf_env.step(action_step.action)\n",
    "#         eval_py_env.render()\n",
    "\n",
    "    action_step = policy.action(time_step)\n",
    "    time_step = eval_tf_env.step(action_step.action)\n",
    "    eval_py_env.render()\n"
   ]
  },
  {
   "cell_type": "code",
   "execution_count": null,
   "metadata": {},
   "outputs": [],
   "source": []
  }
 ],
 "metadata": {
  "kernelspec": {
   "display_name": "Python 3",
   "language": "python",
   "name": "python3"
  },
  "language_info": {
   "codemirror_mode": {
    "name": "ipython",
    "version": 3
   },
   "file_extension": ".py",
   "mimetype": "text/x-python",
   "name": "python",
   "nbconvert_exporter": "python",
   "pygments_lexer": "ipython3",
   "version": "3.6.10"
  },
  "varInspector": {
   "cols": {
    "lenName": 16,
    "lenType": 16,
    "lenVar": 40
   },
   "kernels_config": {
    "python": {
     "delete_cmd_postfix": "",
     "delete_cmd_prefix": "del ",
     "library": "var_list.py",
     "varRefreshCmd": "print(var_dic_list())"
    },
    "r": {
     "delete_cmd_postfix": ") ",
     "delete_cmd_prefix": "rm(",
     "library": "var_list.r",
     "varRefreshCmd": "cat(var_dic_list()) "
    }
   },
   "types_to_exclude": [
    "module",
    "function",
    "builtin_function_or_method",
    "instance",
    "_Feature"
   ],
   "window_display": false
  }
 },
 "nbformat": 4,
 "nbformat_minor": 4
}
