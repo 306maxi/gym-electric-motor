{
 "cells": [
  {
   "cell_type": "code",
   "execution_count": 1,
   "metadata": {},
   "outputs": [
    {
     "name": "stderr",
     "output_type": "stream",
     "text": [
      "/home/praneeth/anaconda3/envs/tfagents/lib/python3.6/site-packages/gym/logger.py:30: UserWarning: \u001b[33mWARN: Box bound precision lowered by casting to float32\u001b[0m\n",
      "  warnings.warn(colorize('%s: %s'%('WARN', msg % args), 'yellow'))\n",
      "/home/praneeth/anaconda3/envs/tfagents/lib/python3.6/site-packages/gym/logger.py:30: UserWarning: \u001b[33mWARN: Box bound precision lowered by casting to float32\u001b[0m\n",
      "  warnings.warn(colorize('%s: %s'%('WARN', msg % args), 'yellow'))\n",
      "/home/praneeth/anaconda3/envs/tfagents/lib/python3.6/site-packages/gym/logger.py:30: UserWarning: \u001b[33mWARN: Box bound precision lowered by casting to float32\u001b[0m\n",
      "  warnings.warn(colorize('%s: %s'%('WARN', msg % args), 'yellow'))\n"
     ]
    }
   ],
   "source": [
    "import gym_electric_motor as gem\n",
    "import gym\n",
    "import tensorflow as tf\n",
    "from tf_agents.environments import suite_gym\n",
    "from tf_agents.environments import tf_py_environment\n",
    "from tf_agents.networks import q_network\n",
    "from gym.wrappers import FlattenObservation #, TimeLimit\n",
    "from tf_agents.environments.wrappers import TimeLimit\n",
    "from tf_agents.agents.dqn import dqn_agent\n",
    "from tf_agents.utils import common\n",
    "\n",
    "from gym_electric_motor.visualization import MotorDashboard, ConsolePrinter\n",
    "from gym_electric_motor.physical_systems import ConstantSpeedLoad\n",
    "\n",
    "import numpy as np"
   ]
  },
  {
   "cell_type": "code",
   "execution_count": 2,
   "metadata": {},
   "outputs": [],
   "source": [
    "gamma = 0.99\n",
    "tau = 1e-5\n",
    "\n",
    "class SqdCurrentMonitor:\n",
    "    \"\"\"\n",
    "    monitor for squared currents:\n",
    "    \n",
    "    i_sd**2 + i_sq**2 < 1.5 * nominal_limit \n",
    "    \"\"\"\n",
    "    \n",
    "    def __call__(self, state, observed_states, k, physical_system):\n",
    "        self.I_SD_IDX = physical_system.state_names.index('i_sd')\n",
    "        self.I_SQ_IDX = physical_system.state_names.index('i_sq')\n",
    "        # normalize to limit_values, since state is normalized\n",
    "        nominal_values = physical_system.nominal_state / abs(physical_system.limits)\n",
    "        limits = 1.5 * nominal_values\n",
    "        # calculating squared currents as observed measure \n",
    "        sqd_currents = state[self.I_SD_IDX]**2 + state[self.I_SQ_IDX]**2\n",
    "        \n",
    "        return (sqd_currents > limits[self.I_SD_IDX] or sqd_currents > limits[self.I_SQ_IDX])\n",
    "    \n",
    "    \n",
    "motor_parameter = dict(p=3,  # [p] = 1, nb of pole pairs\n",
    "                       r_s=17.932e-3,  # [r_s] = Ohm, stator resistance\n",
    "                       l_d=0.37e-3,  # [l_d] = H, d-axis inductance\n",
    "                       l_q=1.2e-3,  # [l_q] = H, q-axis inductance\n",
    "                       psi_p=65.65e-3,  # [psi_p] = Vs, magnetic flux of the permanent magnet\n",
    "                       )  # BRUSA\n",
    "u_sup = 350\n",
    "\n",
    "nominal_values=dict(omega=4000*2*np.pi/60,\n",
    "                    i=230,\n",
    "                    u=u_sup\n",
    "                    )\n",
    "limit_values=nominal_values.copy()\n",
    "\n",
    "q_generator = gem.reference_generators.WienerProcessReferenceGenerator(reference_state='i_sq')\n",
    "d_generator = gem.reference_generators.WienerProcessReferenceGenerator(reference_state='i_sd')\n",
    "rg = gem.reference_generators.MultipleReferenceGenerator([q_generator, d_generator])\n",
    "\n",
    "gym_env_kwargs1 = {'visualization': MotorDashboard(plots = ['i_sq', 'i_sd', 'reward']),\n",
    "            # parameterize the PMSM\n",
    "               'motor_parameter' : motor_parameter,\n",
    "               'limit_values' : limit_values,\n",
    "               'nominal_values' : nominal_values,\n",
    "               'u_sup' : u_sup,\n",
    "               'load' : ConstantSpeedLoad(omega_fixed=1000 * np.pi / 30),\n",
    "           \n",
    "               'tau' : tau ,\n",
    "               'motor_initializer': {'random_init': 'uniform',},\n",
    "                  \n",
    "                  ## pass a reward function with a gamma!!  todo\n",
    "            # turn off terminations via limit violation and parameterize the reward function\n",
    "            'reward_function' : gem.reward_functions.WeightedSumOfErrors(observed_states=['i_sq', 'i_sd'], \n",
    "                                                                        reward_weights={'i_sq': 1, 'i_sd': 1},\n",
    "                                                                        constraint_monitor = SqdCurrentMonitor(),\n",
    "                                                                        gamma = gamma,\n",
    "                                                                        reward_power=1\n",
    "                                                                      ),\n",
    "            \n",
    "            'reference_generator' : rg,\n",
    "            # define a numerical solver of adequate accuracy\n",
    "            'ode_solver' : 'euler' #'scipy.solve_ivp'\n",
    "    \n",
    "}\n",
    "\n",
    "gym_env_kwargs2 = {'visualization': MotorDashboard(plots = ['i_sq', 'i_sd', 'reward']),\n",
    "            # parameterize the PMSM\n",
    "               'motor_parameter' : motor_parameter,\n",
    "               'limit_values' : limit_values,\n",
    "               'nominal_values' : nominal_values,\n",
    "               'u_sup' : u_sup,\n",
    "               'load' : ConstantSpeedLoad(omega_fixed=1000 * np.pi / 30),\n",
    "           \n",
    "               'tau' : tau ,\n",
    "               'motor_initializer': {'random_init': 'uniform',},\n",
    "                  \n",
    "                  ## pass a reward function with a gamma!!  todo\n",
    "            # turn off terminations via limit violation and parameterize the reward function\n",
    "            'reward_function' : gem.reward_functions.WeightedSumOfErrors(observed_states=['i_sq', 'i_sd'], \n",
    "                                                                        reward_weights={'i_sq': 1, 'i_sd': 1},\n",
    "                                                                        constraint_monitor = SqdCurrentMonitor(),\n",
    "                                                                        gamma = gamma,\n",
    "                                                                        reward_power=1\n",
    "                                                                      ),\n",
    "            \n",
    "            'reference_generator' : rg,\n",
    "            # define a numerical solver of adequate accuracy\n",
    "            'ode_solver' : 'euler' #'scipy.solve_ivp'\n",
    "    \n",
    "}\n",
    "\n",
    "\n"
   ]
  },
  {
   "cell_type": "code",
   "execution_count": 3,
   "metadata": {},
   "outputs": [],
   "source": [
    "# # # Alternate way to create a tf compatible gym env\n",
    "\n",
    "# t_env = gem.make(\"emotor-pmsm-disc-v1\", **gym_env_kwargs2)   # define a PMSM with continuous action space\n",
    "                \n",
    "# t_env_f = FlattenObservation(t_env) \n",
    "\n",
    "# t_py_env = suite_gym.wrap_env(t_env_f, max_episode_steps=1000)\n",
    "# t_tf_env = tf_py_environment.TFPyEnvironment(t_py_env)"
   ]
  },
  {
   "cell_type": "code",
   "execution_count": 4,
   "metadata": {},
   "outputs": [
    {
     "name": "stdout",
     "output_type": "stream",
     "text": [
      "<tf_agents.environments.tf_py_environment.TFPyEnvironment object at 0x7f1e4399f9b0>\n"
     ]
    },
    {
     "name": "stderr",
     "output_type": "stream",
     "text": [
      "/home/praneeth/anaconda3/envs/tfagents/lib/python3.6/site-packages/gym/logger.py:30: UserWarning: \u001b[33mWARN: Box bound precision lowered by casting to float32\u001b[0m\n",
      "  warnings.warn(colorize('%s: %s'%('WARN', msg % args), 'yellow'))\n"
     ]
    }
   ],
   "source": [
    "env_name = \"PMSMDisc-v1\"\n",
    "env = suite_gym.load(env_name, max_episode_steps=10000, gym_env_wrappers=[FlattenObservation],\n",
    "                      gym_kwargs = gym_env_kwargs1 )  #\n",
    "train_env = tf_py_environment.TFPyEnvironment(env)\n",
    "\n",
    "\n",
    "# #env = FlattenObservation(env)\n",
    "#eval_py_env =suite_gym.load(env_name, max_episode_steps=10000, gym_env_wrappers=[FlattenObservation],\n",
    "#                      gym_kwargs = gym_env_kwargs2) #gem.make(\"emotor-pmsm-disc-v1\", **gym_env_kwargs2)\n",
    "\n",
    "\n",
    "\n",
    "#eval_tf_env = tf_py_environment.TFPyEnvironment(eval_py_env)\n",
    "\n",
    "\n",
    "print(train_env)\n"
   ]
  },
  {
   "cell_type": "code",
   "execution_count": null,
   "metadata": {},
   "outputs": [],
   "source": []
  },
  {
   "cell_type": "code",
   "execution_count": 5,
   "metadata": {},
   "outputs": [],
   "source": [
    "# create a neural network:\n",
    "\n",
    "fc_layer_params = (64,64)\n",
    "\n",
    "q_net = q_network.QNetwork(\n",
    "    train_env.observation_spec(),\n",
    "    train_env.action_spec(),\n",
    "    fc_layer_params=fc_layer_params)\n"
   ]
  },
  {
   "cell_type": "code",
   "execution_count": 6,
   "metadata": {},
   "outputs": [],
   "source": [
    "# Hyper-parameters\n",
    "\n",
    "num_iterations = 500000 \n",
    "\n",
    "initial_collect_steps = 2000  \n",
    "collect_steps_per_iteration = 1 \n",
    "replay_buffer_max_length = 100000 \n",
    "\n",
    "batch_size = 64  \n",
    "learning_rate = 1e-4  \n",
    "log_interval = 200 \n",
    "\n",
    "num_eval_episodes = 10 \n",
    "eval_interval = 1000"
   ]
  },
  {
   "cell_type": "code",
   "execution_count": 10,
   "metadata": {},
   "outputs": [],
   "source": [
    "# instantiate DQN agent\n",
    "\n",
    "optimizer = tf.compat.v1.train.AdamOptimizer(learning_rate=learning_rate)\n",
    "\n",
    "train_step_counter = tf.Variable(0)\n",
    "\n",
    "global_step = tf.compat.v1.train.get_or_create_global_step()\n",
    "start_epsilon = 0.1\n",
    "n_of_steps = int(0.9*num_iterations)\n",
    "end_epsilon = 0.0001\n",
    "epsilon = tf.compat.v1.train.polynomial_decay(\n",
    "      start_epsilon,\n",
    "      global_step,\n",
    "      n_of_steps,\n",
    "      end_learning_rate=end_epsilon)\n",
    "\n",
    "agent = dqn_agent.DqnAgent(\n",
    "    train_env.time_step_spec(),\n",
    "    train_env.action_spec(),\n",
    "    q_network=q_net,\n",
    "    epsilon_greedy=epsilon,\n",
    "    optimizer=optimizer,\n",
    "    gamma=gamma,\n",
    "    td_errors_loss_fn=common.element_wise_squared_loss,\n",
    "    train_step_counter=train_step_counter)\n",
    "\n",
    "agent.initialize()\n"
   ]
  },
  {
   "cell_type": "code",
   "execution_count": 11,
   "metadata": {},
   "outputs": [],
   "source": [
    "class ShowProgress:\n",
    "    def __init__(self, total):\n",
    "        self.counter = 0\n",
    "        self.total = total\n",
    "    def __call__(self, trajectory):\n",
    "        if not trajectory.is_boundary():\n",
    "            self.counter += 1\n",
    "        if self.counter % 100 == 0:\n",
    "            print(\"\\r{}/{}\".format(self.counter, self.total), end=\"\")"
   ]
  },
  {
   "cell_type": "code",
   "execution_count": 12,
   "metadata": {},
   "outputs": [],
   "source": [
    "# create a replay buffer\n",
    "\n",
    "from tf_agents.replay_buffers import tf_uniform_replay_buffer\n",
    "\n",
    "replay_buffer = tf_uniform_replay_buffer.TFUniformReplayBuffer(\n",
    "    data_spec=agent.collect_data_spec,\n",
    "    batch_size=train_env.batch_size,\n",
    "    max_length=replay_buffer_max_length)\n",
    "\n",
    "replay_buffer_observer = replay_buffer.add_batch"
   ]
  },
  {
   "cell_type": "code",
   "execution_count": 13,
   "metadata": {},
   "outputs": [],
   "source": [
    "from tf_agents.metrics import tf_metrics\n",
    "\n",
    "train_metrics = [\n",
    "    tf_metrics.NumberOfEpisodes(),\n",
    "    tf_metrics.EnvironmentSteps(),\n",
    "    tf_metrics.AverageReturnMetric(),\n",
    "    tf_metrics.AverageEpisodeLengthMetric(),\n",
    "]"
   ]
  },
  {
   "cell_type": "code",
   "execution_count": 14,
   "metadata": {},
   "outputs": [],
   "source": [
    "from tf_agents.eval.metric_utils import log_metrics\n",
    "import logging\n",
    "log_metrics(train_metrics)\n",
    "#logging.get_logger().set_level(logging.INFO)  \n",
    "logging.getLogger().setLevel(logging.INFO)  "
   ]
  },
  {
   "cell_type": "code",
   "execution_count": 15,
   "metadata": {},
   "outputs": [],
   "source": [
    "# Driver to take action steps in the environment\n",
    "from tf_agents.drivers.dynamic_step_driver import DynamicStepDriver\n",
    "\n",
    "collect_driver = DynamicStepDriver(\n",
    "    train_env,\n",
    "    agent.collect_policy,\n",
    "    observers=[replay_buffer_observer] + train_metrics) "
   ]
  },
  {
   "cell_type": "code",
   "execution_count": 16,
   "metadata": {},
   "outputs": [
    {
     "name": "stdout",
     "output_type": "stream",
     "text": [
      "WARNING:tensorflow:From /home/praneeth/anaconda3/envs/tfagents/lib/python3.6/site-packages/tf_agents/drivers/dynamic_step_driver.py:201: calling while_loop_v2 (from tensorflow.python.ops.control_flow_ops) with back_prop=False is deprecated and will be removed in a future version.\n",
      "Instructions for updating:\n",
      "back_prop=False is deprecated. Consider using tf.stop_gradient instead.\n",
      "Instead of:\n",
      "results = tf.while_loop(c, b, vars, back_prop=False)\n",
      "Use:\n",
      "results = tf.nest.map_structure(tf.stop_gradient, tf.while_loop(c, b, vars))\n"
     ]
    },
    {
     "name": "stderr",
     "output_type": "stream",
     "text": [
      "WARNING:tensorflow:From /home/praneeth/anaconda3/envs/tfagents/lib/python3.6/site-packages/tf_agents/drivers/dynamic_step_driver.py:201: calling while_loop_v2 (from tensorflow.python.ops.control_flow_ops) with back_prop=False is deprecated and will be removed in a future version.\n",
      "Instructions for updating:\n",
      "back_prop=False is deprecated. Consider using tf.stop_gradient instead.\n",
      "Instead of:\n",
      "results = tf.while_loop(c, b, vars, back_prop=False)\n",
      "Use:\n",
      "results = tf.nest.map_structure(tf.stop_gradient, tf.while_loop(c, b, vars))\n"
     ]
    },
    {
     "name": "stdout",
     "output_type": "stream",
     "text": [
      "2000/2000"
     ]
    }
   ],
   "source": [
    "# fill the replay buffer initially with trajectories from a random policy\n",
    "\n",
    "from tf_agents.policies.random_tf_policy import RandomTFPolicy\n",
    "\n",
    "initial_collect_policy = RandomTFPolicy(train_env.time_step_spec(),\n",
    "                                        train_env.action_spec())\n",
    "init_driver = DynamicStepDriver(\n",
    "    train_env,\n",
    "    initial_collect_policy,\n",
    "    observers=[replay_buffer.add_batch, ShowProgress(initial_collect_steps)],\n",
    "    num_steps=initial_collect_steps) \n",
    "final_time_step, final_policy_state = init_driver.run()"
   ]
  },
  {
   "cell_type": "code",
   "execution_count": null,
   "metadata": {},
   "outputs": [],
   "source": []
  },
  {
   "cell_type": "code",
   "execution_count": 17,
   "metadata": {},
   "outputs": [],
   "source": [
    "# from tf_agents.trajectories import trajectory\n",
    "\n",
    "# def collect_step(environment, policy, buffer):\n",
    "#   time_step = environment.current_time_step()\n",
    "#   action_step = policy.action(time_step)\n",
    "#   next_time_step = environment.step(action_step.action)\n",
    "#   traj = trajectory.from_transition(time_step, action_step, next_time_step)\n",
    "\n",
    "#   # Add trajectory to the replay buffer\n",
    "#   buffer.add_batch(traj)\n",
    "\n",
    "# def collect_data(env, policy, buffer, steps):\n",
    "#   for _ in range(steps):\n",
    "#     collect_step(env, policy, buffer)\n",
    "\n",
    "# random_policy = RandomTFPolicy(train_env.time_step_spec(),\n",
    "#                                                 train_env.action_spec())\n",
    "# collect_data(train_env, random_policy, replay_buffer, steps=100)"
   ]
  },
  {
   "cell_type": "code",
   "execution_count": 18,
   "metadata": {},
   "outputs": [
    {
     "name": "stdout",
     "output_type": "stream",
     "text": [
      "<tensorflow.python.data.ops.iterator_ops.OwnedIterator object at 0x7f1e1004dcc0>\n"
     ]
    }
   ],
   "source": [
    "# dataset is sampled from the replay buffer\n",
    "\n",
    "dataset = replay_buffer.as_dataset(\n",
    "    num_parallel_calls=3, \n",
    "    sample_batch_size=batch_size, \n",
    "    num_steps=2).prefetch(3)\n",
    "\n",
    "\n",
    "dataset\n",
    "iterator = iter(dataset)\n",
    "\n",
    "print(iterator)"
   ]
  },
  {
   "cell_type": "code",
   "execution_count": 19,
   "metadata": {},
   "outputs": [
    {
     "name": "stderr",
     "output_type": "stream",
     "text": [
      "INFO:absl: \n",
      "\t\t NumberOfEpisodes = 0\n",
      "\t\t EnvironmentSteps = 1\n",
      "\t\t AverageReturn = 0.0\n",
      "\t\t AverageEpisodeLength = 0.0\n"
     ]
    },
    {
     "name": "stdout",
     "output_type": "stream",
     "text": [
      "939 loss:0.33009791"
     ]
    },
    {
     "name": "stderr",
     "output_type": "stream",
     "text": [
      "INFO:absl: \n",
      "\t\t NumberOfEpisodes = 6\n",
      "\t\t EnvironmentSteps = 1001\n",
      "\t\t AverageReturn = -273.6981506347656\n",
      "\t\t AverageEpisodeLength = 157.1666717529297\n"
     ]
    },
    {
     "name": "stdout",
     "output_type": "stream",
     "text": [
      "1998 loss:1.51066442"
     ]
    },
    {
     "name": "stderr",
     "output_type": "stream",
     "text": [
      "INFO:absl: \n",
      "\t\t NumberOfEpisodes = 12\n",
      "\t\t EnvironmentSteps = 2001\n",
      "\t\t AverageReturn = -248.0764923095703\n",
      "\t\t AverageEpisodeLength = 106.69999694824219\n"
     ]
    },
    {
     "name": "stdout",
     "output_type": "stream",
     "text": [
      "2988 loss:1.99862468"
     ]
    },
    {
     "name": "stderr",
     "output_type": "stream",
     "text": [
      "INFO:absl: \n",
      "\t\t NumberOfEpisodes = 14\n",
      "\t\t EnvironmentSteps = 3001\n",
      "\t\t AverageReturn = -286.3427429199219\n",
      "\t\t AverageEpisodeLength = 210.89999389648438\n"
     ]
    },
    {
     "name": "stdout",
     "output_type": "stream",
     "text": [
      "3929 loss:2.11406755"
     ]
    },
    {
     "name": "stderr",
     "output_type": "stream",
     "text": [
      "INFO:absl: \n",
      "\t\t NumberOfEpisodes = 15\n",
      "\t\t EnvironmentSteps = 4001\n",
      "\t\t AverageReturn = -315.2497863769531\n",
      "\t\t AverageEpisodeLength = 296.20001220703125\n"
     ]
    },
    {
     "name": "stdout",
     "output_type": "stream",
     "text": [
      "4989 loss:2.4199876"
     ]
    },
    {
     "name": "stderr",
     "output_type": "stream",
     "text": [
      "INFO:absl: \n",
      "\t\t NumberOfEpisodes = 18\n",
      "\t\t EnvironmentSteps = 5001\n",
      "\t\t AverageReturn = -339.6245422363281\n",
      "\t\t AverageEpisodeLength = 325.5\n"
     ]
    },
    {
     "name": "stdout",
     "output_type": "stream",
     "text": [
      "5987 loss:408.504009"
     ]
    },
    {
     "name": "stderr",
     "output_type": "stream",
     "text": [
      "INFO:absl: \n",
      "\t\t NumberOfEpisodes = 18\n",
      "\t\t EnvironmentSteps = 6001\n",
      "\t\t AverageReturn = -339.6245422363281\n",
      "\t\t AverageEpisodeLength = 325.5\n"
     ]
    },
    {
     "name": "stdout",
     "output_type": "stream",
     "text": [
      "6942 loss:484.84637"
     ]
    },
    {
     "name": "stderr",
     "output_type": "stream",
     "text": [
      "INFO:absl: \n",
      "\t\t NumberOfEpisodes = 18\n",
      "\t\t EnvironmentSteps = 7001\n",
      "\t\t AverageReturn = -339.6245422363281\n",
      "\t\t AverageEpisodeLength = 325.5\n"
     ]
    },
    {
     "name": "stdout",
     "output_type": "stream",
     "text": [
      "7936 loss:1.9514264"
     ]
    },
    {
     "name": "stderr",
     "output_type": "stream",
     "text": [
      "INFO:absl: \n",
      "\t\t NumberOfEpisodes = 19\n",
      "\t\t EnvironmentSteps = 8001\n",
      "\t\t AverageReturn = -500.54034423828125\n",
      "\t\t AverageEpisodeLength = 637.7000122070312\n"
     ]
    },
    {
     "name": "stdout",
     "output_type": "stream",
     "text": [
      "8994 loss:421.06818"
     ]
    },
    {
     "name": "stderr",
     "output_type": "stream",
     "text": [
      "INFO:absl: \n",
      "\t\t NumberOfEpisodes = 20\n",
      "\t\t EnvironmentSteps = 9001\n",
      "\t\t AverageReturn = -538.8235473632812\n",
      "\t\t AverageEpisodeLength = 749.9000244140625\n"
     ]
    },
    {
     "name": "stdout",
     "output_type": "stream",
     "text": [
      "9988 loss:2.5519136"
     ]
    },
    {
     "name": "stderr",
     "output_type": "stream",
     "text": [
      "INFO:absl: \n",
      "\t\t NumberOfEpisodes = 22\n",
      "\t\t EnvironmentSteps = 10001\n",
      "\t\t AverageReturn = -573.0860595703125\n",
      "\t\t AverageEpisodeLength = 830.2000122070312\n"
     ]
    },
    {
     "name": "stdout",
     "output_type": "stream",
     "text": [
      "10980 loss:1.9857923"
     ]
    },
    {
     "name": "stderr",
     "output_type": "stream",
     "text": [
      "INFO:absl: \n",
      "\t\t NumberOfEpisodes = 22\n",
      "\t\t EnvironmentSteps = 11001\n",
      "\t\t AverageReturn = -573.0860595703125\n",
      "\t\t AverageEpisodeLength = 830.2000122070312\n"
     ]
    },
    {
     "name": "stdout",
     "output_type": "stream",
     "text": [
      "11993 loss:1.66499443"
     ]
    },
    {
     "name": "stderr",
     "output_type": "stream",
     "text": [
      "INFO:absl: \n",
      "\t\t NumberOfEpisodes = 22\n",
      "\t\t EnvironmentSteps = 12001\n",
      "\t\t AverageReturn = -573.0860595703125\n",
      "\t\t AverageEpisodeLength = 830.2000122070312\n"
     ]
    },
    {
     "name": "stdout",
     "output_type": "stream",
     "text": [
      "12991 loss:1.2399062"
     ]
    },
    {
     "name": "stderr",
     "output_type": "stream",
     "text": [
      "INFO:absl: \n",
      "\t\t NumberOfEpisodes = 22\n",
      "\t\t EnvironmentSteps = 13001\n",
      "\t\t AverageReturn = -573.0860595703125\n",
      "\t\t AverageEpisodeLength = 830.2000122070312\n"
     ]
    },
    {
     "name": "stdout",
     "output_type": "stream",
     "text": [
      "13957 loss:2.2498370"
     ]
    },
    {
     "name": "stderr",
     "output_type": "stream",
     "text": [
      "INFO:absl: \n",
      "\t\t NumberOfEpisodes = 22\n",
      "\t\t EnvironmentSteps = 14001\n",
      "\t\t AverageReturn = -573.0860595703125\n",
      "\t\t AverageEpisodeLength = 830.2000122070312\n"
     ]
    },
    {
     "name": "stdout",
     "output_type": "stream",
     "text": [
      "14966 loss:1.25124112"
     ]
    },
    {
     "name": "stderr",
     "output_type": "stream",
     "text": [
      "INFO:absl: \n",
      "\t\t NumberOfEpisodes = 22\n",
      "\t\t EnvironmentSteps = 15001\n",
      "\t\t AverageReturn = -573.0860595703125\n",
      "\t\t AverageEpisodeLength = 830.2000122070312\n"
     ]
    },
    {
     "name": "stdout",
     "output_type": "stream",
     "text": [
      "15964 loss:1.67482951"
     ]
    },
    {
     "name": "stderr",
     "output_type": "stream",
     "text": [
      "INFO:absl: \n",
      "\t\t NumberOfEpisodes = 22\n",
      "\t\t EnvironmentSteps = 16001\n",
      "\t\t AverageReturn = -573.0860595703125\n",
      "\t\t AverageEpisodeLength = 830.2000122070312\n"
     ]
    },
    {
     "name": "stdout",
     "output_type": "stream",
     "text": [
      "16964 loss:1.6155430"
     ]
    },
    {
     "name": "stderr",
     "output_type": "stream",
     "text": [
      "INFO:absl: \n",
      "\t\t NumberOfEpisodes = 22\n",
      "\t\t EnvironmentSteps = 17001\n",
      "\t\t AverageReturn = -573.0860595703125\n",
      "\t\t AverageEpisodeLength = 830.2000122070312\n"
     ]
    },
    {
     "name": "stdout",
     "output_type": "stream",
     "text": [
      "17995 loss:1.8144786"
     ]
    },
    {
     "name": "stderr",
     "output_type": "stream",
     "text": [
      "INFO:absl: \n",
      "\t\t NumberOfEpisodes = 22\n",
      "\t\t EnvironmentSteps = 18001\n",
      "\t\t AverageReturn = -573.0860595703125\n",
      "\t\t AverageEpisodeLength = 830.2000122070312\n"
     ]
    },
    {
     "name": "stdout",
     "output_type": "stream",
     "text": [
      "18987 loss:1.7204925"
     ]
    },
    {
     "name": "stderr",
     "output_type": "stream",
     "text": [
      "INFO:absl: \n",
      "\t\t NumberOfEpisodes = 22\n",
      "\t\t EnvironmentSteps = 19001\n",
      "\t\t AverageReturn = -573.0860595703125\n",
      "\t\t AverageEpisodeLength = 830.2000122070312\n"
     ]
    },
    {
     "name": "stdout",
     "output_type": "stream",
     "text": [
      "19985 loss:404.67340"
     ]
    },
    {
     "name": "stderr",
     "output_type": "stream",
     "text": [
      "INFO:absl: \n",
      "\t\t NumberOfEpisodes = 23\n",
      "\t\t EnvironmentSteps = 20001\n",
      "\t\t AverageReturn = -1028.8485107421875\n",
      "\t\t AverageEpisodeLength = 1749.800048828125\n"
     ]
    },
    {
     "name": "stdout",
     "output_type": "stream",
     "text": [
      "20956 loss:2.0366809"
     ]
    },
    {
     "name": "stderr",
     "output_type": "stream",
     "text": [
      "INFO:absl: \n",
      "\t\t NumberOfEpisodes = 23\n",
      "\t\t EnvironmentSteps = 21001\n",
      "\t\t AverageReturn = -1028.8485107421875\n",
      "\t\t AverageEpisodeLength = 1749.800048828125\n"
     ]
    },
    {
     "name": "stdout",
     "output_type": "stream",
     "text": [
      "21951 loss:0.7032065"
     ]
    },
    {
     "name": "stderr",
     "output_type": "stream",
     "text": [
      "INFO:absl: \n",
      "\t\t NumberOfEpisodes = 23\n",
      "\t\t EnvironmentSteps = 22001\n",
      "\t\t AverageReturn = -1028.8485107421875\n",
      "\t\t AverageEpisodeLength = 1749.800048828125\n"
     ]
    },
    {
     "name": "stdout",
     "output_type": "stream",
     "text": [
      "22958 loss:2.3695931"
     ]
    },
    {
     "name": "stderr",
     "output_type": "stream",
     "text": [
      "INFO:absl: \n",
      "\t\t NumberOfEpisodes = 23\n",
      "\t\t EnvironmentSteps = 23001\n",
      "\t\t AverageReturn = -1028.8485107421875\n",
      "\t\t AverageEpisodeLength = 1749.800048828125\n"
     ]
    },
    {
     "name": "stdout",
     "output_type": "stream",
     "text": [
      "23954 loss:1.0799346"
     ]
    },
    {
     "name": "stderr",
     "output_type": "stream",
     "text": [
      "INFO:absl: \n",
      "\t\t NumberOfEpisodes = 23\n",
      "\t\t EnvironmentSteps = 24001\n",
      "\t\t AverageReturn = -1028.8485107421875\n",
      "\t\t AverageEpisodeLength = 1749.800048828125\n"
     ]
    },
    {
     "name": "stdout",
     "output_type": "stream",
     "text": [
      "24994 loss:1.6342176"
     ]
    },
    {
     "name": "stderr",
     "output_type": "stream",
     "text": [
      "INFO:absl: \n",
      "\t\t NumberOfEpisodes = 23\n",
      "\t\t EnvironmentSteps = 25001\n",
      "\t\t AverageReturn = -1028.8485107421875\n",
      "\t\t AverageEpisodeLength = 1749.800048828125\n"
     ]
    },
    {
     "name": "stdout",
     "output_type": "stream",
     "text": [
      "25940 loss:0.4155584"
     ]
    },
    {
     "name": "stderr",
     "output_type": "stream",
     "text": [
      "INFO:absl: \n",
      "\t\t NumberOfEpisodes = 23\n",
      "\t\t EnvironmentSteps = 26001\n",
      "\t\t AverageReturn = -1028.8485107421875\n",
      "\t\t AverageEpisodeLength = 1749.800048828125\n"
     ]
    },
    {
     "name": "stdout",
     "output_type": "stream",
     "text": [
      "26946 loss:0.6620359"
     ]
    },
    {
     "name": "stderr",
     "output_type": "stream",
     "text": [
      "INFO:absl: \n",
      "\t\t NumberOfEpisodes = 23\n",
      "\t\t EnvironmentSteps = 27001\n",
      "\t\t AverageReturn = -1028.8485107421875\n",
      "\t\t AverageEpisodeLength = 1749.800048828125\n"
     ]
    },
    {
     "name": "stdout",
     "output_type": "stream",
     "text": [
      "27953 loss:0.86440648"
     ]
    },
    {
     "name": "stderr",
     "output_type": "stream",
     "text": [
      "INFO:absl: \n",
      "\t\t NumberOfEpisodes = 23\n",
      "\t\t EnvironmentSteps = 28001\n",
      "\t\t AverageReturn = -1028.8485107421875\n",
      "\t\t AverageEpisodeLength = 1749.800048828125\n"
     ]
    },
    {
     "name": "stdout",
     "output_type": "stream",
     "text": [
      "28957 loss:433.553133"
     ]
    },
    {
     "name": "stderr",
     "output_type": "stream",
     "text": [
      "INFO:absl: \n",
      "\t\t NumberOfEpisodes = 23\n",
      "\t\t EnvironmentSteps = 29001\n",
      "\t\t AverageReturn = -1028.8485107421875\n",
      "\t\t AverageEpisodeLength = 1749.800048828125\n"
     ]
    },
    {
     "name": "stdout",
     "output_type": "stream",
     "text": [
      "29993 loss:515.081058"
     ]
    },
    {
     "name": "stderr",
     "output_type": "stream",
     "text": [
      "INFO:absl: \n",
      "\t\t NumberOfEpisodes = 24\n",
      "\t\t EnvironmentSteps = 30001\n",
      "\t\t AverageReturn = -1438.0828857421875\n",
      "\t\t AverageEpisodeLength = 2701.89990234375\n"
     ]
    },
    {
     "name": "stdout",
     "output_type": "stream",
     "text": [
      "30945 loss:0.8908746"
     ]
    },
    {
     "name": "stderr",
     "output_type": "stream",
     "text": [
      "INFO:absl: \n",
      "\t\t NumberOfEpisodes = 24\n",
      "\t\t EnvironmentSteps = 31001\n",
      "\t\t AverageReturn = -1438.0828857421875\n",
      "\t\t AverageEpisodeLength = 2701.89990234375\n"
     ]
    },
    {
     "name": "stdout",
     "output_type": "stream",
     "text": [
      "31995 loss:1.3686087"
     ]
    },
    {
     "name": "stderr",
     "output_type": "stream",
     "text": [
      "INFO:absl: \n",
      "\t\t NumberOfEpisodes = 24\n",
      "\t\t EnvironmentSteps = 32001\n",
      "\t\t AverageReturn = -1438.0828857421875\n",
      "\t\t AverageEpisodeLength = 2701.89990234375\n"
     ]
    },
    {
     "name": "stdout",
     "output_type": "stream",
     "text": [
      "32942 loss:0.66978938"
     ]
    },
    {
     "name": "stderr",
     "output_type": "stream",
     "text": [
      "INFO:absl: \n",
      "\t\t NumberOfEpisodes = 24\n",
      "\t\t EnvironmentSteps = 33001\n",
      "\t\t AverageReturn = -1438.0828857421875\n",
      "\t\t AverageEpisodeLength = 2701.89990234375\n"
     ]
    },
    {
     "name": "stdout",
     "output_type": "stream",
     "text": [
      "33932 loss:0.70678932"
     ]
    },
    {
     "name": "stderr",
     "output_type": "stream",
     "text": [
      "INFO:absl: \n",
      "\t\t NumberOfEpisodes = 24\n",
      "\t\t EnvironmentSteps = 34001\n",
      "\t\t AverageReturn = -1438.0828857421875\n",
      "\t\t AverageEpisodeLength = 2701.89990234375\n"
     ]
    },
    {
     "name": "stdout",
     "output_type": "stream",
     "text": [
      "34996 loss:1.1698151"
     ]
    },
    {
     "name": "stderr",
     "output_type": "stream",
     "text": [
      "INFO:absl: \n",
      "\t\t NumberOfEpisodes = 24\n",
      "\t\t EnvironmentSteps = 35001\n",
      "\t\t AverageReturn = -1438.0828857421875\n",
      "\t\t AverageEpisodeLength = 2701.89990234375\n"
     ]
    },
    {
     "name": "stdout",
     "output_type": "stream",
     "text": [
      "35935 loss:2.7035723"
     ]
    },
    {
     "name": "stderr",
     "output_type": "stream",
     "text": [
      "INFO:absl: \n",
      "\t\t NumberOfEpisodes = 25\n",
      "\t\t EnvironmentSteps = 36001\n",
      "\t\t AverageReturn = -1620.996826171875\n",
      "\t\t AverageEpisodeLength = 3196.199951171875\n"
     ]
    },
    {
     "name": "stdout",
     "output_type": "stream",
     "text": [
      "36974 loss:1.1121561"
     ]
    },
    {
     "name": "stderr",
     "output_type": "stream",
     "text": [
      "INFO:absl: \n",
      "\t\t NumberOfEpisodes = 25\n",
      "\t\t EnvironmentSteps = 37001\n",
      "\t\t AverageReturn = -1620.996826171875\n",
      "\t\t AverageEpisodeLength = 3196.199951171875\n"
     ]
    },
    {
     "name": "stdout",
     "output_type": "stream",
     "text": [
      "37965 loss:0.4598198"
     ]
    },
    {
     "name": "stderr",
     "output_type": "stream",
     "text": [
      "INFO:absl: \n",
      "\t\t NumberOfEpisodes = 25\n",
      "\t\t EnvironmentSteps = 38001\n",
      "\t\t AverageReturn = -1620.996826171875\n",
      "\t\t AverageEpisodeLength = 3196.199951171875\n"
     ]
    },
    {
     "name": "stdout",
     "output_type": "stream",
     "text": [
      "38954 loss:1.4210863"
     ]
    },
    {
     "name": "stderr",
     "output_type": "stream",
     "text": [
      "INFO:absl: \n",
      "\t\t NumberOfEpisodes = 25\n",
      "\t\t EnvironmentSteps = 39001\n",
      "\t\t AverageReturn = -1620.996826171875\n",
      "\t\t AverageEpisodeLength = 3196.199951171875\n"
     ]
    },
    {
     "name": "stdout",
     "output_type": "stream",
     "text": [
      "39984 loss:0.6292238"
     ]
    },
    {
     "name": "stderr",
     "output_type": "stream",
     "text": [
      "INFO:absl: \n",
      "\t\t NumberOfEpisodes = 25\n",
      "\t\t EnvironmentSteps = 40001\n",
      "\t\t AverageReturn = -1620.996826171875\n",
      "\t\t AverageEpisodeLength = 3196.199951171875\n"
     ]
    },
    {
     "name": "stdout",
     "output_type": "stream",
     "text": [
      "40940 loss:480.82532"
     ]
    },
    {
     "name": "stderr",
     "output_type": "stream",
     "text": [
      "INFO:absl: \n",
      "\t\t NumberOfEpisodes = 25\n",
      "\t\t EnvironmentSteps = 41001\n",
      "\t\t AverageReturn = -1620.996826171875\n",
      "\t\t AverageEpisodeLength = 3196.199951171875\n"
     ]
    },
    {
     "name": "stdout",
     "output_type": "stream",
     "text": [
      "41958 loss:0.95092717"
     ]
    },
    {
     "name": "stderr",
     "output_type": "stream",
     "text": [
      "INFO:absl: \n",
      "\t\t NumberOfEpisodes = 25\n",
      "\t\t EnvironmentSteps = 42001\n",
      "\t\t AverageReturn = -1620.996826171875\n",
      "\t\t AverageEpisodeLength = 3196.199951171875\n"
     ]
    },
    {
     "name": "stdout",
     "output_type": "stream",
     "text": [
      "42931 loss:0.9117303"
     ]
    },
    {
     "name": "stderr",
     "output_type": "stream",
     "text": [
      "INFO:absl: \n",
      "\t\t NumberOfEpisodes = 25\n",
      "\t\t EnvironmentSteps = 43001\n",
      "\t\t AverageReturn = -1620.996826171875\n",
      "\t\t AverageEpisodeLength = 3196.199951171875\n"
     ]
    },
    {
     "name": "stdout",
     "output_type": "stream",
     "text": [
      "43930 loss:1.6917011"
     ]
    },
    {
     "name": "stderr",
     "output_type": "stream",
     "text": [
      "INFO:absl: \n",
      "\t\t NumberOfEpisodes = 25\n",
      "\t\t EnvironmentSteps = 44001\n",
      "\t\t AverageReturn = -1620.996826171875\n",
      "\t\t AverageEpisodeLength = 3196.199951171875\n"
     ]
    },
    {
     "name": "stdout",
     "output_type": "stream",
     "text": [
      "44999 loss:0.9697949"
     ]
    },
    {
     "name": "stderr",
     "output_type": "stream",
     "text": [
      "INFO:absl: \n",
      "\t\t NumberOfEpisodes = 25\n",
      "\t\t EnvironmentSteps = 45001\n",
      "\t\t AverageReturn = -1620.996826171875\n",
      "\t\t AverageEpisodeLength = 3196.199951171875\n"
     ]
    },
    {
     "name": "stdout",
     "output_type": "stream",
     "text": [
      "45995 loss:0.3787078"
     ]
    },
    {
     "name": "stderr",
     "output_type": "stream",
     "text": [
      "INFO:absl: \n",
      "\t\t NumberOfEpisodes = 26\n",
      "\t\t EnvironmentSteps = 46001\n",
      "\t\t AverageReturn = -2159.05615234375\n",
      "\t\t AverageEpisodeLength = 4116.89990234375\n"
     ]
    },
    {
     "name": "stdout",
     "output_type": "stream",
     "text": [
      "46988 loss:0.7346474"
     ]
    },
    {
     "name": "stderr",
     "output_type": "stream",
     "text": [
      "INFO:absl: \n",
      "\t\t NumberOfEpisodes = 26\n",
      "\t\t EnvironmentSteps = 47001\n",
      "\t\t AverageReturn = -2159.05615234375\n",
      "\t\t AverageEpisodeLength = 4116.89990234375\n"
     ]
    },
    {
     "name": "stdout",
     "output_type": "stream",
     "text": [
      "47976 loss:0.6548228"
     ]
    },
    {
     "name": "stderr",
     "output_type": "stream",
     "text": [
      "INFO:absl: \n",
      "\t\t NumberOfEpisodes = 26\n",
      "\t\t EnvironmentSteps = 48001\n",
      "\t\t AverageReturn = -2159.05615234375\n",
      "\t\t AverageEpisodeLength = 4116.89990234375\n"
     ]
    },
    {
     "name": "stdout",
     "output_type": "stream",
     "text": [
      "48972 loss:0.7186048"
     ]
    },
    {
     "name": "stderr",
     "output_type": "stream",
     "text": [
      "INFO:absl: \n",
      "\t\t NumberOfEpisodes = 26\n",
      "\t\t EnvironmentSteps = 49001\n",
      "\t\t AverageReturn = -2159.05615234375\n",
      "\t\t AverageEpisodeLength = 4116.89990234375\n"
     ]
    },
    {
     "name": "stdout",
     "output_type": "stream",
     "text": [
      "49968 loss:0.6495961"
     ]
    },
    {
     "name": "stderr",
     "output_type": "stream",
     "text": [
      "INFO:absl: \n",
      "\t\t NumberOfEpisodes = 26\n",
      "\t\t EnvironmentSteps = 50001\n",
      "\t\t AverageReturn = -2159.05615234375\n",
      "\t\t AverageEpisodeLength = 4116.89990234375\n"
     ]
    },
    {
     "name": "stdout",
     "output_type": "stream",
     "text": [
      "50965 loss:0.4866646"
     ]
    },
    {
     "name": "stderr",
     "output_type": "stream",
     "text": [
      "INFO:absl: \n",
      "\t\t NumberOfEpisodes = 26\n",
      "\t\t EnvironmentSteps = 51001\n",
      "\t\t AverageReturn = -2159.05615234375\n",
      "\t\t AverageEpisodeLength = 4116.89990234375\n"
     ]
    },
    {
     "name": "stdout",
     "output_type": "stream",
     "text": [
      "51962 loss:0.9192775"
     ]
    },
    {
     "name": "stderr",
     "output_type": "stream",
     "text": [
      "INFO:absl: \n",
      "\t\t NumberOfEpisodes = 26\n",
      "\t\t EnvironmentSteps = 52001\n",
      "\t\t AverageReturn = -2159.05615234375\n",
      "\t\t AverageEpisodeLength = 4116.89990234375\n"
     ]
    },
    {
     "name": "stdout",
     "output_type": "stream",
     "text": [
      "52953 loss:0.7029379"
     ]
    },
    {
     "name": "stderr",
     "output_type": "stream",
     "text": [
      "INFO:absl: \n",
      "\t\t NumberOfEpisodes = 26\n",
      "\t\t EnvironmentSteps = 53001\n",
      "\t\t AverageReturn = -2159.05615234375\n",
      "\t\t AverageEpisodeLength = 4116.89990234375\n"
     ]
    },
    {
     "name": "stdout",
     "output_type": "stream",
     "text": [
      "53988 loss:0.9342963"
     ]
    },
    {
     "name": "stderr",
     "output_type": "stream",
     "text": [
      "INFO:absl: \n",
      "\t\t NumberOfEpisodes = 26\n",
      "\t\t EnvironmentSteps = 54001\n",
      "\t\t AverageReturn = -2159.05615234375\n",
      "\t\t AverageEpisodeLength = 4116.89990234375\n"
     ]
    },
    {
     "name": "stdout",
     "output_type": "stream",
     "text": [
      "54992 loss:1.1058969"
     ]
    },
    {
     "name": "stderr",
     "output_type": "stream",
     "text": [
      "INFO:absl: \n",
      "\t\t NumberOfEpisodes = 26\n",
      "\t\t EnvironmentSteps = 55001\n",
      "\t\t AverageReturn = -2159.05615234375\n",
      "\t\t AverageEpisodeLength = 4116.89990234375\n"
     ]
    },
    {
     "name": "stdout",
     "output_type": "stream",
     "text": [
      "55990 loss:0.7334186"
     ]
    },
    {
     "name": "stderr",
     "output_type": "stream",
     "text": [
      "INFO:absl: \n",
      "\t\t NumberOfEpisodes = 27\n",
      "\t\t EnvironmentSteps = 56001\n",
      "\t\t AverageReturn = -2706.884521484375\n",
      "\t\t AverageEpisodeLength = 5110.0\n"
     ]
    },
    {
     "name": "stdout",
     "output_type": "stream",
     "text": [
      "56989 loss:0.9055865"
     ]
    },
    {
     "name": "stderr",
     "output_type": "stream",
     "text": [
      "INFO:absl: \n",
      "\t\t NumberOfEpisodes = 27\n",
      "\t\t EnvironmentSteps = 57001\n",
      "\t\t AverageReturn = -2706.884521484375\n",
      "\t\t AverageEpisodeLength = 5110.0\n"
     ]
    },
    {
     "name": "stdout",
     "output_type": "stream",
     "text": [
      "57985 loss:564.98029"
     ]
    },
    {
     "name": "stderr",
     "output_type": "stream",
     "text": [
      "INFO:absl: \n",
      "\t\t NumberOfEpisodes = 27\n",
      "\t\t EnvironmentSteps = 58001\n",
      "\t\t AverageReturn = -2706.884521484375\n",
      "\t\t AverageEpisodeLength = 5110.0\n"
     ]
    },
    {
     "name": "stdout",
     "output_type": "stream",
     "text": [
      "58930 loss:0.6741008"
     ]
    },
    {
     "name": "stderr",
     "output_type": "stream",
     "text": [
      "INFO:absl: \n",
      "\t\t NumberOfEpisodes = 27\n",
      "\t\t EnvironmentSteps = 59001\n",
      "\t\t AverageReturn = -2706.884521484375\n",
      "\t\t AverageEpisodeLength = 5110.0\n"
     ]
    },
    {
     "name": "stdout",
     "output_type": "stream",
     "text": [
      "59929 loss:1.7617428"
     ]
    },
    {
     "name": "stderr",
     "output_type": "stream",
     "text": [
      "INFO:absl: \n",
      "\t\t NumberOfEpisodes = 27\n",
      "\t\t EnvironmentSteps = 60001\n",
      "\t\t AverageReturn = -2706.884521484375\n",
      "\t\t AverageEpisodeLength = 5110.0\n"
     ]
    },
    {
     "name": "stdout",
     "output_type": "stream",
     "text": [
      "60990 loss:0.9505498"
     ]
    },
    {
     "name": "stderr",
     "output_type": "stream",
     "text": [
      "INFO:absl: \n",
      "\t\t NumberOfEpisodes = 27\n",
      "\t\t EnvironmentSteps = 61001\n",
      "\t\t AverageReturn = -2706.884521484375\n",
      "\t\t AverageEpisodeLength = 5110.0\n"
     ]
    },
    {
     "name": "stdout",
     "output_type": "stream",
     "text": [
      "61984 loss:0.7803331"
     ]
    },
    {
     "name": "stderr",
     "output_type": "stream",
     "text": [
      "INFO:absl: \n",
      "\t\t NumberOfEpisodes = 27\n",
      "\t\t EnvironmentSteps = 62001\n",
      "\t\t AverageReturn = -2706.884521484375\n",
      "\t\t AverageEpisodeLength = 5110.0\n"
     ]
    },
    {
     "name": "stdout",
     "output_type": "stream",
     "text": [
      "62976 loss:1.3165368"
     ]
    },
    {
     "name": "stderr",
     "output_type": "stream",
     "text": [
      "INFO:absl: \n",
      "\t\t NumberOfEpisodes = 27\n",
      "\t\t EnvironmentSteps = 63001\n",
      "\t\t AverageReturn = -2706.884521484375\n",
      "\t\t AverageEpisodeLength = 5110.0\n"
     ]
    },
    {
     "name": "stdout",
     "output_type": "stream",
     "text": [
      "63983 loss:1.1847758"
     ]
    },
    {
     "name": "stderr",
     "output_type": "stream",
     "text": [
      "INFO:absl: \n",
      "\t\t NumberOfEpisodes = 27\n",
      "\t\t EnvironmentSteps = 64001\n",
      "\t\t AverageReturn = -2706.884521484375\n",
      "\t\t AverageEpisodeLength = 5110.0\n"
     ]
    },
    {
     "name": "stdout",
     "output_type": "stream",
     "text": [
      "64974 loss:0.5918767"
     ]
    },
    {
     "name": "stderr",
     "output_type": "stream",
     "text": [
      "INFO:absl: \n",
      "\t\t NumberOfEpisodes = 27\n",
      "\t\t EnvironmentSteps = 65001\n",
      "\t\t AverageReturn = -2706.884521484375\n",
      "\t\t AverageEpisodeLength = 5110.0\n"
     ]
    },
    {
     "name": "stdout",
     "output_type": "stream",
     "text": [
      "65968 loss:0.9393341"
     ]
    },
    {
     "name": "stderr",
     "output_type": "stream",
     "text": [
      "INFO:absl: \n",
      "\t\t NumberOfEpisodes = 28\n",
      "\t\t EnvironmentSteps = 66001\n",
      "\t\t AverageReturn = -3119.59033203125\n",
      "\t\t AverageEpisodeLength = 6106.2001953125\n"
     ]
    },
    {
     "name": "stdout",
     "output_type": "stream",
     "text": [
      "66934 loss:1.0328536"
     ]
    },
    {
     "name": "stderr",
     "output_type": "stream",
     "text": [
      "INFO:absl: \n",
      "\t\t NumberOfEpisodes = 28\n",
      "\t\t EnvironmentSteps = 67001\n",
      "\t\t AverageReturn = -3119.59033203125\n",
      "\t\t AverageEpisodeLength = 6106.2001953125\n"
     ]
    },
    {
     "name": "stdout",
     "output_type": "stream",
     "text": [
      "67928 loss:1.6526662"
     ]
    },
    {
     "name": "stderr",
     "output_type": "stream",
     "text": [
      "INFO:absl: \n",
      "\t\t NumberOfEpisodes = 28\n",
      "\t\t EnvironmentSteps = 68001\n",
      "\t\t AverageReturn = -3119.59033203125\n",
      "\t\t AverageEpisodeLength = 6106.2001953125\n"
     ]
    },
    {
     "name": "stdout",
     "output_type": "stream",
     "text": [
      "68997 loss:1.6283283"
     ]
    },
    {
     "name": "stderr",
     "output_type": "stream",
     "text": [
      "INFO:absl: \n",
      "\t\t NumberOfEpisodes = 28\n",
      "\t\t EnvironmentSteps = 69001\n",
      "\t\t AverageReturn = -3119.59033203125\n",
      "\t\t AverageEpisodeLength = 6106.2001953125\n"
     ]
    },
    {
     "name": "stdout",
     "output_type": "stream",
     "text": [
      "69995 loss:1.4516708"
     ]
    },
    {
     "name": "stderr",
     "output_type": "stream",
     "text": [
      "INFO:absl: \n",
      "\t\t NumberOfEpisodes = 28\n",
      "\t\t EnvironmentSteps = 70001\n",
      "\t\t AverageReturn = -3119.59033203125\n",
      "\t\t AverageEpisodeLength = 6106.2001953125\n"
     ]
    },
    {
     "name": "stdout",
     "output_type": "stream",
     "text": [
      "70989 loss:1.04959681"
     ]
    },
    {
     "name": "stderr",
     "output_type": "stream",
     "text": [
      "INFO:absl: \n",
      "\t\t NumberOfEpisodes = 28\n",
      "\t\t EnvironmentSteps = 71001\n",
      "\t\t AverageReturn = -3119.59033203125\n",
      "\t\t AverageEpisodeLength = 6106.2001953125\n"
     ]
    },
    {
     "name": "stdout",
     "output_type": "stream",
     "text": [
      "71979 loss:1.6967168"
     ]
    },
    {
     "name": "stderr",
     "output_type": "stream",
     "text": [
      "INFO:absl: \n",
      "\t\t NumberOfEpisodes = 28\n",
      "\t\t EnvironmentSteps = 72001\n",
      "\t\t AverageReturn = -3119.59033203125\n",
      "\t\t AverageEpisodeLength = 6106.2001953125\n"
     ]
    },
    {
     "name": "stdout",
     "output_type": "stream",
     "text": [
      "72997 loss:0.5661415"
     ]
    },
    {
     "name": "stderr",
     "output_type": "stream",
     "text": [
      "INFO:absl: \n",
      "\t\t NumberOfEpisodes = 28\n",
      "\t\t EnvironmentSteps = 73001\n",
      "\t\t AverageReturn = -3119.59033203125\n",
      "\t\t AverageEpisodeLength = 6106.2001953125\n"
     ]
    },
    {
     "name": "stdout",
     "output_type": "stream",
     "text": [
      "73993 loss:0.7135796"
     ]
    },
    {
     "name": "stderr",
     "output_type": "stream",
     "text": [
      "INFO:absl: \n",
      "\t\t NumberOfEpisodes = 28\n",
      "\t\t EnvironmentSteps = 74001\n",
      "\t\t AverageReturn = -3119.59033203125\n",
      "\t\t AverageEpisodeLength = 6106.2001953125\n"
     ]
    },
    {
     "name": "stdout",
     "output_type": "stream",
     "text": [
      "74957 loss:0.8378161"
     ]
    },
    {
     "name": "stderr",
     "output_type": "stream",
     "text": [
      "INFO:absl: \n",
      "\t\t NumberOfEpisodes = 28\n",
      "\t\t EnvironmentSteps = 75001\n",
      "\t\t AverageReturn = -3119.59033203125\n",
      "\t\t AverageEpisodeLength = 6106.2001953125\n"
     ]
    },
    {
     "name": "stdout",
     "output_type": "stream",
     "text": [
      "75950 loss:1.2572421"
     ]
    },
    {
     "name": "stderr",
     "output_type": "stream",
     "text": [
      "INFO:absl: \n",
      "\t\t NumberOfEpisodes = 29\n",
      "\t\t EnvironmentSteps = 76001\n",
      "\t\t AverageReturn = -3387.024169921875\n",
      "\t\t AverageEpisodeLength = 6788.7001953125\n"
     ]
    },
    {
     "name": "stdout",
     "output_type": "stream",
     "text": [
      "76940 loss:1.4525341"
     ]
    },
    {
     "name": "stderr",
     "output_type": "stream",
     "text": [
      "INFO:absl: \n",
      "\t\t NumberOfEpisodes = 29\n",
      "\t\t EnvironmentSteps = 77001\n",
      "\t\t AverageReturn = -3387.024169921875\n",
      "\t\t AverageEpisodeLength = 6788.7001953125\n"
     ]
    },
    {
     "name": "stdout",
     "output_type": "stream",
     "text": [
      "77999 loss:1.2384204"
     ]
    },
    {
     "name": "stderr",
     "output_type": "stream",
     "text": [
      "INFO:absl: \n",
      "\t\t NumberOfEpisodes = 29\n",
      "\t\t EnvironmentSteps = 78001\n",
      "\t\t AverageReturn = -3387.024169921875\n",
      "\t\t AverageEpisodeLength = 6788.7001953125\n"
     ]
    },
    {
     "name": "stdout",
     "output_type": "stream",
     "text": [
      "78996 loss:1.2843164"
     ]
    },
    {
     "name": "stderr",
     "output_type": "stream",
     "text": [
      "INFO:absl: \n",
      "\t\t NumberOfEpisodes = 29\n",
      "\t\t EnvironmentSteps = 79001\n",
      "\t\t AverageReturn = -3387.024169921875\n",
      "\t\t AverageEpisodeLength = 6788.7001953125\n"
     ]
    },
    {
     "name": "stdout",
     "output_type": "stream",
     "text": [
      "79970 loss:1.0752117"
     ]
    },
    {
     "name": "stderr",
     "output_type": "stream",
     "text": [
      "INFO:absl: \n",
      "\t\t NumberOfEpisodes = 29\n",
      "\t\t EnvironmentSteps = 80001\n",
      "\t\t AverageReturn = -3387.024169921875\n",
      "\t\t AverageEpisodeLength = 6788.7001953125\n"
     ]
    },
    {
     "name": "stdout",
     "output_type": "stream",
     "text": [
      "80966 loss:0.7724145"
     ]
    },
    {
     "name": "stderr",
     "output_type": "stream",
     "text": [
      "INFO:absl: \n",
      "\t\t NumberOfEpisodes = 29\n",
      "\t\t EnvironmentSteps = 81001\n",
      "\t\t AverageReturn = -3387.024169921875\n",
      "\t\t AverageEpisodeLength = 6788.7001953125\n"
     ]
    },
    {
     "name": "stdout",
     "output_type": "stream",
     "text": [
      "81971 loss:392.49963"
     ]
    },
    {
     "name": "stderr",
     "output_type": "stream",
     "text": [
      "INFO:absl: \n",
      "\t\t NumberOfEpisodes = 29\n",
      "\t\t EnvironmentSteps = 82001\n",
      "\t\t AverageReturn = -3387.024169921875\n",
      "\t\t AverageEpisodeLength = 6788.7001953125\n"
     ]
    },
    {
     "name": "stdout",
     "output_type": "stream",
     "text": [
      "82997 loss:1.4436431"
     ]
    },
    {
     "name": "stderr",
     "output_type": "stream",
     "text": [
      "INFO:absl: \n",
      "\t\t NumberOfEpisodes = 29\n",
      "\t\t EnvironmentSteps = 83001\n",
      "\t\t AverageReturn = -3387.024169921875\n",
      "\t\t AverageEpisodeLength = 6788.7001953125\n"
     ]
    },
    {
     "name": "stdout",
     "output_type": "stream",
     "text": [
      "83999 loss:3.0258456"
     ]
    },
    {
     "name": "stderr",
     "output_type": "stream",
     "text": [
      "INFO:absl: \n",
      "\t\t NumberOfEpisodes = 29\n",
      "\t\t EnvironmentSteps = 84001\n",
      "\t\t AverageReturn = -3387.024169921875\n",
      "\t\t AverageEpisodeLength = 6788.7001953125\n"
     ]
    },
    {
     "name": "stdout",
     "output_type": "stream",
     "text": [
      "84946 loss:0.9317018"
     ]
    },
    {
     "name": "stderr",
     "output_type": "stream",
     "text": [
      "INFO:absl: \n",
      "\t\t NumberOfEpisodes = 29\n",
      "\t\t EnvironmentSteps = 85001\n",
      "\t\t AverageReturn = -3387.024169921875\n",
      "\t\t AverageEpisodeLength = 6788.7001953125\n"
     ]
    },
    {
     "name": "stdout",
     "output_type": "stream",
     "text": [
      "85940 loss:0.7364967"
     ]
    },
    {
     "name": "stderr",
     "output_type": "stream",
     "text": [
      "INFO:absl: \n",
      "\t\t NumberOfEpisodes = 30\n",
      "\t\t EnvironmentSteps = 86001\n",
      "\t\t AverageReturn = -3846.24755859375\n",
      "\t\t AverageEpisodeLength = 7674.7998046875\n"
     ]
    },
    {
     "name": "stdout",
     "output_type": "stream",
     "text": [
      "86932 loss:1.2646019"
     ]
    },
    {
     "name": "stderr",
     "output_type": "stream",
     "text": [
      "INFO:absl: \n",
      "\t\t NumberOfEpisodes = 30\n",
      "\t\t EnvironmentSteps = 87001\n",
      "\t\t AverageReturn = -3846.24755859375\n",
      "\t\t AverageEpisodeLength = 7674.7998046875\n"
     ]
    },
    {
     "name": "stdout",
     "output_type": "stream",
     "text": [
      "87971 loss:0.8374468"
     ]
    },
    {
     "name": "stderr",
     "output_type": "stream",
     "text": [
      "INFO:absl: \n",
      "\t\t NumberOfEpisodes = 30\n",
      "\t\t EnvironmentSteps = 88001\n",
      "\t\t AverageReturn = -3846.24755859375\n",
      "\t\t AverageEpisodeLength = 7674.7998046875\n"
     ]
    },
    {
     "name": "stdout",
     "output_type": "stream",
     "text": [
      "88971 loss:1.7082777"
     ]
    },
    {
     "name": "stderr",
     "output_type": "stream",
     "text": [
      "INFO:absl: \n",
      "\t\t NumberOfEpisodes = 30\n",
      "\t\t EnvironmentSteps = 89001\n",
      "\t\t AverageReturn = -3846.24755859375\n",
      "\t\t AverageEpisodeLength = 7674.7998046875\n"
     ]
    },
    {
     "name": "stdout",
     "output_type": "stream",
     "text": [
      "89976 loss:0.8406475"
     ]
    },
    {
     "name": "stderr",
     "output_type": "stream",
     "text": [
      "INFO:absl: \n",
      "\t\t NumberOfEpisodes = 30\n",
      "\t\t EnvironmentSteps = 90001\n",
      "\t\t AverageReturn = -3846.24755859375\n",
      "\t\t AverageEpisodeLength = 7674.7998046875\n"
     ]
    },
    {
     "name": "stdout",
     "output_type": "stream",
     "text": [
      "90991 loss:1.0517857"
     ]
    },
    {
     "name": "stderr",
     "output_type": "stream",
     "text": [
      "INFO:absl: \n",
      "\t\t NumberOfEpisodes = 30\n",
      "\t\t EnvironmentSteps = 91001\n",
      "\t\t AverageReturn = -3846.24755859375\n",
      "\t\t AverageEpisodeLength = 7674.7998046875\n"
     ]
    },
    {
     "name": "stdout",
     "output_type": "stream",
     "text": [
      "91987 loss:1.0083043"
     ]
    },
    {
     "name": "stderr",
     "output_type": "stream",
     "text": [
      "INFO:absl: \n",
      "\t\t NumberOfEpisodes = 30\n",
      "\t\t EnvironmentSteps = 92001\n",
      "\t\t AverageReturn = -3846.24755859375\n",
      "\t\t AverageEpisodeLength = 7674.7998046875\n"
     ]
    },
    {
     "name": "stdout",
     "output_type": "stream",
     "text": [
      "92979 loss:0.7331254"
     ]
    },
    {
     "name": "stderr",
     "output_type": "stream",
     "text": [
      "INFO:absl: \n",
      "\t\t NumberOfEpisodes = 30\n",
      "\t\t EnvironmentSteps = 93001\n",
      "\t\t AverageReturn = -3846.24755859375\n",
      "\t\t AverageEpisodeLength = 7674.7998046875\n"
     ]
    },
    {
     "name": "stdout",
     "output_type": "stream",
     "text": [
      "93974 loss:1.4053258"
     ]
    },
    {
     "name": "stderr",
     "output_type": "stream",
     "text": [
      "INFO:absl: \n",
      "\t\t NumberOfEpisodes = 30\n",
      "\t\t EnvironmentSteps = 94001\n",
      "\t\t AverageReturn = -3846.24755859375\n",
      "\t\t AverageEpisodeLength = 7674.7998046875\n"
     ]
    },
    {
     "name": "stdout",
     "output_type": "stream",
     "text": [
      "94981 loss:1.1599910"
     ]
    },
    {
     "name": "stderr",
     "output_type": "stream",
     "text": [
      "INFO:absl: \n",
      "\t\t NumberOfEpisodes = 30\n",
      "\t\t EnvironmentSteps = 95001\n",
      "\t\t AverageReturn = -3846.24755859375\n",
      "\t\t AverageEpisodeLength = 7674.7998046875\n"
     ]
    },
    {
     "name": "stdout",
     "output_type": "stream",
     "text": [
      "95983 loss:0.7701387"
     ]
    },
    {
     "name": "stderr",
     "output_type": "stream",
     "text": [
      "INFO:absl: \n",
      "\t\t NumberOfEpisodes = 31\n",
      "\t\t EnvironmentSteps = 96001\n",
      "\t\t AverageReturn = -4119.82421875\n",
      "\t\t AverageEpisodeLength = 8581.2001953125\n"
     ]
    },
    {
     "name": "stdout",
     "output_type": "stream",
     "text": [
      "96943 loss:0.5249231"
     ]
    },
    {
     "name": "stderr",
     "output_type": "stream",
     "text": [
      "INFO:absl: \n",
      "\t\t NumberOfEpisodes = 31\n",
      "\t\t EnvironmentSteps = 97001\n",
      "\t\t AverageReturn = -4119.82421875\n",
      "\t\t AverageEpisodeLength = 8581.2001953125\n"
     ]
    },
    {
     "name": "stdout",
     "output_type": "stream",
     "text": [
      "97985 loss:1.8451953"
     ]
    },
    {
     "name": "stderr",
     "output_type": "stream",
     "text": [
      "INFO:absl: \n",
      "\t\t NumberOfEpisodes = 31\n",
      "\t\t EnvironmentSteps = 98001\n",
      "\t\t AverageReturn = -4119.82421875\n",
      "\t\t AverageEpisodeLength = 8581.2001953125\n"
     ]
    },
    {
     "name": "stdout",
     "output_type": "stream",
     "text": [
      "98978 loss:0.9714877"
     ]
    },
    {
     "name": "stderr",
     "output_type": "stream",
     "text": [
      "INFO:absl: \n",
      "\t\t NumberOfEpisodes = 31\n",
      "\t\t EnvironmentSteps = 99001\n",
      "\t\t AverageReturn = -4119.82421875\n",
      "\t\t AverageEpisodeLength = 8581.2001953125\n"
     ]
    },
    {
     "name": "stdout",
     "output_type": "stream",
     "text": [
      "99975 loss:1.2755450"
     ]
    },
    {
     "name": "stderr",
     "output_type": "stream",
     "text": [
      "INFO:absl: \n",
      "\t\t NumberOfEpisodes = 31\n",
      "\t\t EnvironmentSteps = 100001\n",
      "\t\t AverageReturn = -4119.82421875\n",
      "\t\t AverageEpisodeLength = 8581.2001953125\n"
     ]
    },
    {
     "name": "stdout",
     "output_type": "stream",
     "text": [
      "100957 loss:0.5396248"
     ]
    },
    {
     "name": "stderr",
     "output_type": "stream",
     "text": [
      "INFO:absl: \n",
      "\t\t NumberOfEpisodes = 31\n",
      "\t\t EnvironmentSteps = 101001\n",
      "\t\t AverageReturn = -4119.82421875\n",
      "\t\t AverageEpisodeLength = 8581.2001953125\n"
     ]
    },
    {
     "name": "stdout",
     "output_type": "stream",
     "text": [
      "101949 loss:0.8220236"
     ]
    },
    {
     "name": "stderr",
     "output_type": "stream",
     "text": [
      "INFO:absl: \n",
      "\t\t NumberOfEpisodes = 31\n",
      "\t\t EnvironmentSteps = 102001\n",
      "\t\t AverageReturn = -4119.82421875\n",
      "\t\t AverageEpisodeLength = 8581.2001953125\n"
     ]
    },
    {
     "name": "stdout",
     "output_type": "stream",
     "text": [
      "102976 loss:1.3096946"
     ]
    },
    {
     "name": "stderr",
     "output_type": "stream",
     "text": [
      "INFO:absl: \n",
      "\t\t NumberOfEpisodes = 31\n",
      "\t\t EnvironmentSteps = 103001\n",
      "\t\t AverageReturn = -4119.82421875\n",
      "\t\t AverageEpisodeLength = 8581.2001953125\n"
     ]
    },
    {
     "name": "stdout",
     "output_type": "stream",
     "text": [
      "103967 loss:0.75077"
     ]
    },
    {
     "name": "stderr",
     "output_type": "stream",
     "text": [
      "INFO:absl: \n",
      "\t\t NumberOfEpisodes = 31\n",
      "\t\t EnvironmentSteps = 104001\n",
      "\t\t AverageReturn = -4119.82421875\n",
      "\t\t AverageEpisodeLength = 8581.2001953125\n"
     ]
    },
    {
     "name": "stdout",
     "output_type": "stream",
     "text": [
      "104960 loss:0.7364828"
     ]
    },
    {
     "name": "stderr",
     "output_type": "stream",
     "text": [
      "INFO:absl: \n",
      "\t\t NumberOfEpisodes = 31\n",
      "\t\t EnvironmentSteps = 105001\n",
      "\t\t AverageReturn = -4119.82421875\n",
      "\t\t AverageEpisodeLength = 8581.2001953125\n"
     ]
    },
    {
     "name": "stdout",
     "output_type": "stream",
     "text": [
      "105974 loss:0.8307693"
     ]
    },
    {
     "name": "stderr",
     "output_type": "stream",
     "text": [
      "INFO:absl: \n",
      "\t\t NumberOfEpisodes = 32\n",
      "\t\t EnvironmentSteps = 106001\n",
      "\t\t AverageReturn = -4536.51513671875\n",
      "\t\t AverageEpisodeLength = 9581.099609375\n"
     ]
    },
    {
     "name": "stdout",
     "output_type": "stream",
     "text": [
      "106931 loss:0.8189455"
     ]
    },
    {
     "name": "stderr",
     "output_type": "stream",
     "text": [
      "INFO:absl: \n",
      "\t\t NumberOfEpisodes = 32\n",
      "\t\t EnvironmentSteps = 107001\n",
      "\t\t AverageReturn = -4536.51513671875\n",
      "\t\t AverageEpisodeLength = 9581.099609375\n"
     ]
    },
    {
     "name": "stdout",
     "output_type": "stream",
     "text": [
      "107932 loss:0.7728797"
     ]
    },
    {
     "name": "stderr",
     "output_type": "stream",
     "text": [
      "INFO:absl: \n",
      "\t\t NumberOfEpisodes = 32\n",
      "\t\t EnvironmentSteps = 108001\n",
      "\t\t AverageReturn = -4536.51513671875\n",
      "\t\t AverageEpisodeLength = 9581.099609375\n"
     ]
    },
    {
     "name": "stdout",
     "output_type": "stream",
     "text": [
      "108938 loss:0.6771025"
     ]
    },
    {
     "name": "stderr",
     "output_type": "stream",
     "text": [
      "INFO:absl: \n",
      "\t\t NumberOfEpisodes = 32\n",
      "\t\t EnvironmentSteps = 109001\n",
      "\t\t AverageReturn = -4536.51513671875\n",
      "\t\t AverageEpisodeLength = 9581.099609375\n"
     ]
    },
    {
     "name": "stdout",
     "output_type": "stream",
     "text": [
      "109937 loss:1.4948830"
     ]
    },
    {
     "name": "stderr",
     "output_type": "stream",
     "text": [
      "INFO:absl: \n",
      "\t\t NumberOfEpisodes = 32\n",
      "\t\t EnvironmentSteps = 110001\n",
      "\t\t AverageReturn = -4536.51513671875\n",
      "\t\t AverageEpisodeLength = 9581.099609375\n"
     ]
    },
    {
     "name": "stdout",
     "output_type": "stream",
     "text": [
      "110935 loss:0.65317"
     ]
    },
    {
     "name": "stderr",
     "output_type": "stream",
     "text": [
      "INFO:absl: \n",
      "\t\t NumberOfEpisodes = 32\n",
      "\t\t EnvironmentSteps = 111001\n",
      "\t\t AverageReturn = -4536.51513671875\n",
      "\t\t AverageEpisodeLength = 9581.099609375\n"
     ]
    },
    {
     "name": "stdout",
     "output_type": "stream",
     "text": [
      "111959 loss:0.8502100"
     ]
    },
    {
     "name": "stderr",
     "output_type": "stream",
     "text": [
      "INFO:absl: \n",
      "\t\t NumberOfEpisodes = 32\n",
      "\t\t EnvironmentSteps = 112001\n",
      "\t\t AverageReturn = -4536.51513671875\n",
      "\t\t AverageEpisodeLength = 9581.099609375\n"
     ]
    },
    {
     "name": "stdout",
     "output_type": "stream",
     "text": [
      "112953 loss:1.03005"
     ]
    },
    {
     "name": "stderr",
     "output_type": "stream",
     "text": [
      "INFO:absl: \n",
      "\t\t NumberOfEpisodes = 32\n",
      "\t\t EnvironmentSteps = 113001\n",
      "\t\t AverageReturn = -4536.51513671875\n",
      "\t\t AverageEpisodeLength = 9581.099609375\n"
     ]
    },
    {
     "name": "stdout",
     "output_type": "stream",
     "text": [
      "113976 loss:0.6092170"
     ]
    },
    {
     "name": "stderr",
     "output_type": "stream",
     "text": [
      "INFO:absl: \n",
      "\t\t NumberOfEpisodes = 32\n",
      "\t\t EnvironmentSteps = 114001\n",
      "\t\t AverageReturn = -4536.51513671875\n",
      "\t\t AverageEpisodeLength = 9581.099609375\n"
     ]
    },
    {
     "name": "stdout",
     "output_type": "stream",
     "text": [
      "114998 loss:1.5196219"
     ]
    },
    {
     "name": "stderr",
     "output_type": "stream",
     "text": [
      "INFO:absl: \n",
      "\t\t NumberOfEpisodes = 32\n",
      "\t\t EnvironmentSteps = 115001\n",
      "\t\t AverageReturn = -4536.51513671875\n",
      "\t\t AverageEpisodeLength = 9581.099609375\n"
     ]
    },
    {
     "name": "stdout",
     "output_type": "stream",
     "text": [
      "115936 loss:0.92052"
     ]
    },
    {
     "name": "stderr",
     "output_type": "stream",
     "text": [
      "INFO:absl: \n",
      "\t\t NumberOfEpisodes = 33\n",
      "\t\t EnvironmentSteps = 116001\n",
      "\t\t AverageReturn = -4592.1943359375\n",
      "\t\t AverageEpisodeLength = 9581.099609375\n"
     ]
    },
    {
     "name": "stdout",
     "output_type": "stream",
     "text": [
      "117000 loss:1.0542968"
     ]
    },
    {
     "name": "stderr",
     "output_type": "stream",
     "text": [
      "INFO:absl: \n",
      "\t\t NumberOfEpisodes = 33\n",
      "\t\t EnvironmentSteps = 117001\n",
      "\t\t AverageReturn = -4592.1943359375\n",
      "\t\t AverageEpisodeLength = 9581.099609375\n"
     ]
    },
    {
     "name": "stdout",
     "output_type": "stream",
     "text": [
      "117961 loss:1.2209520"
     ]
    },
    {
     "name": "stderr",
     "output_type": "stream",
     "text": [
      "INFO:absl: \n",
      "\t\t NumberOfEpisodes = 33\n",
      "\t\t EnvironmentSteps = 118001\n",
      "\t\t AverageReturn = -4592.1943359375\n",
      "\t\t AverageEpisodeLength = 9581.099609375\n"
     ]
    },
    {
     "name": "stdout",
     "output_type": "stream",
     "text": [
      "118967 loss:1.59254"
     ]
    },
    {
     "name": "stderr",
     "output_type": "stream",
     "text": [
      "INFO:absl: \n",
      "\t\t NumberOfEpisodes = 33\n",
      "\t\t EnvironmentSteps = 119001\n",
      "\t\t AverageReturn = -4592.1943359375\n",
      "\t\t AverageEpisodeLength = 9581.099609375\n"
     ]
    },
    {
     "name": "stdout",
     "output_type": "stream",
     "text": [
      "119970 loss:0.7010433"
     ]
    },
    {
     "name": "stderr",
     "output_type": "stream",
     "text": [
      "INFO:absl: \n",
      "\t\t NumberOfEpisodes = 33\n",
      "\t\t EnvironmentSteps = 120001\n",
      "\t\t AverageReturn = -4592.1943359375\n",
      "\t\t AverageEpisodeLength = 9581.099609375\n"
     ]
    },
    {
     "name": "stdout",
     "output_type": "stream",
     "text": [
      "120961 loss:0.89581"
     ]
    },
    {
     "name": "stderr",
     "output_type": "stream",
     "text": [
      "INFO:absl: \n",
      "\t\t NumberOfEpisodes = 33\n",
      "\t\t EnvironmentSteps = 121001\n",
      "\t\t AverageReturn = -4592.1943359375\n",
      "\t\t AverageEpisodeLength = 9581.099609375\n"
     ]
    },
    {
     "name": "stdout",
     "output_type": "stream",
     "text": [
      "121993 loss:0.75536"
     ]
    },
    {
     "name": "stderr",
     "output_type": "stream",
     "text": [
      "INFO:absl: \n",
      "\t\t NumberOfEpisodes = 33\n",
      "\t\t EnvironmentSteps = 122001\n",
      "\t\t AverageReturn = -4592.1943359375\n",
      "\t\t AverageEpisodeLength = 9581.099609375\n"
     ]
    },
    {
     "name": "stdout",
     "output_type": "stream",
     "text": [
      "122980 loss:0.7536642"
     ]
    },
    {
     "name": "stderr",
     "output_type": "stream",
     "text": [
      "INFO:absl: \n",
      "\t\t NumberOfEpisodes = 33\n",
      "\t\t EnvironmentSteps = 123001\n",
      "\t\t AverageReturn = -4592.1943359375\n",
      "\t\t AverageEpisodeLength = 9581.099609375\n"
     ]
    },
    {
     "name": "stdout",
     "output_type": "stream",
     "text": [
      "123990 loss:1.4969353"
     ]
    },
    {
     "name": "stderr",
     "output_type": "stream",
     "text": [
      "INFO:absl: \n",
      "\t\t NumberOfEpisodes = 33\n",
      "\t\t EnvironmentSteps = 124001\n",
      "\t\t AverageReturn = -4592.1943359375\n",
      "\t\t AverageEpisodeLength = 9581.099609375\n"
     ]
    },
    {
     "name": "stdout",
     "output_type": "stream",
     "text": [
      "124995 loss:1.21208"
     ]
    },
    {
     "name": "stderr",
     "output_type": "stream",
     "text": [
      "INFO:absl: \n",
      "\t\t NumberOfEpisodes = 33\n",
      "\t\t EnvironmentSteps = 125001\n",
      "\t\t AverageReturn = -4592.1943359375\n",
      "\t\t AverageEpisodeLength = 9581.099609375\n"
     ]
    },
    {
     "name": "stdout",
     "output_type": "stream",
     "text": [
      "125935 loss:1.7516838"
     ]
    },
    {
     "name": "stderr",
     "output_type": "stream",
     "text": [
      "INFO:absl: \n",
      "\t\t NumberOfEpisodes = 34\n",
      "\t\t EnvironmentSteps = 126001\n",
      "\t\t AverageReturn = -4426.51171875\n",
      "\t\t AverageEpisodeLength = 9581.099609375\n"
     ]
    },
    {
     "name": "stdout",
     "output_type": "stream",
     "text": [
      "126941 loss:1.07986"
     ]
    },
    {
     "name": "stderr",
     "output_type": "stream",
     "text": [
      "INFO:absl: \n",
      "\t\t NumberOfEpisodes = 34\n",
      "\t\t EnvironmentSteps = 127001\n",
      "\t\t AverageReturn = -4426.51171875\n",
      "\t\t AverageEpisodeLength = 9581.099609375\n"
     ]
    },
    {
     "name": "stdout",
     "output_type": "stream",
     "text": [
      "127946 loss:0.6590937"
     ]
    },
    {
     "name": "stderr",
     "output_type": "stream",
     "text": [
      "INFO:absl: \n",
      "\t\t NumberOfEpisodes = 34\n",
      "\t\t EnvironmentSteps = 128001\n",
      "\t\t AverageReturn = -4426.51171875\n",
      "\t\t AverageEpisodeLength = 9581.099609375\n"
     ]
    },
    {
     "name": "stdout",
     "output_type": "stream",
     "text": [
      "128931 loss:1.1019994"
     ]
    },
    {
     "name": "stderr",
     "output_type": "stream",
     "text": [
      "INFO:absl: \n",
      "\t\t NumberOfEpisodes = 34\n",
      "\t\t EnvironmentSteps = 129001\n",
      "\t\t AverageReturn = -4426.51171875\n",
      "\t\t AverageEpisodeLength = 9581.099609375\n"
     ]
    },
    {
     "name": "stdout",
     "output_type": "stream",
     "text": [
      "129940 loss:1.23105"
     ]
    },
    {
     "name": "stderr",
     "output_type": "stream",
     "text": [
      "INFO:absl: \n",
      "\t\t NumberOfEpisodes = 34\n",
      "\t\t EnvironmentSteps = 130001\n",
      "\t\t AverageReturn = -4426.51171875\n",
      "\t\t AverageEpisodeLength = 9581.099609375\n"
     ]
    },
    {
     "name": "stdout",
     "output_type": "stream",
     "text": [
      "130949 loss:1.25913"
     ]
    },
    {
     "name": "stderr",
     "output_type": "stream",
     "text": [
      "INFO:absl: \n",
      "\t\t NumberOfEpisodes = 34\n",
      "\t\t EnvironmentSteps = 131001\n",
      "\t\t AverageReturn = -4426.51171875\n",
      "\t\t AverageEpisodeLength = 9581.099609375\n"
     ]
    },
    {
     "name": "stdout",
     "output_type": "stream",
     "text": [
      "131942 loss:1.10658"
     ]
    },
    {
     "name": "stderr",
     "output_type": "stream",
     "text": [
      "INFO:absl: \n",
      "\t\t NumberOfEpisodes = 34\n",
      "\t\t EnvironmentSteps = 132001\n",
      "\t\t AverageReturn = -4426.51171875\n",
      "\t\t AverageEpisodeLength = 9581.099609375\n"
     ]
    },
    {
     "name": "stdout",
     "output_type": "stream",
     "text": [
      "132944 loss:1.42572"
     ]
    },
    {
     "name": "stderr",
     "output_type": "stream",
     "text": [
      "INFO:absl: \n",
      "\t\t NumberOfEpisodes = 34\n",
      "\t\t EnvironmentSteps = 133001\n",
      "\t\t AverageReturn = -4426.51171875\n",
      "\t\t AverageEpisodeLength = 9581.099609375\n"
     ]
    },
    {
     "name": "stdout",
     "output_type": "stream",
     "text": [
      "133935 loss:1.3956626"
     ]
    },
    {
     "name": "stderr",
     "output_type": "stream",
     "text": [
      "INFO:absl: \n",
      "\t\t NumberOfEpisodes = 34\n",
      "\t\t EnvironmentSteps = 134001\n",
      "\t\t AverageReturn = -4426.51171875\n",
      "\t\t AverageEpisodeLength = 9581.099609375\n"
     ]
    },
    {
     "name": "stdout",
     "output_type": "stream",
     "text": [
      "134931 loss:0.9199749"
     ]
    },
    {
     "name": "stderr",
     "output_type": "stream",
     "text": [
      "INFO:absl: \n",
      "\t\t NumberOfEpisodes = 34\n",
      "\t\t EnvironmentSteps = 135001\n",
      "\t\t AverageReturn = -4426.51171875\n",
      "\t\t AverageEpisodeLength = 9581.099609375\n"
     ]
    },
    {
     "name": "stdout",
     "output_type": "stream",
     "text": [
      "135949 loss:0.86726"
     ]
    },
    {
     "name": "stderr",
     "output_type": "stream",
     "text": [
      "INFO:absl: \n",
      "\t\t NumberOfEpisodes = 35\n",
      "\t\t EnvironmentSteps = 136001\n",
      "\t\t AverageReturn = -4562.82958984375\n",
      "\t\t AverageEpisodeLength = 10000.0\n"
     ]
    },
    {
     "name": "stdout",
     "output_type": "stream",
     "text": [
      "136960 loss:2.07502"
     ]
    },
    {
     "name": "stderr",
     "output_type": "stream",
     "text": [
      "INFO:absl: \n",
      "\t\t NumberOfEpisodes = 35\n",
      "\t\t EnvironmentSteps = 137001\n",
      "\t\t AverageReturn = -4562.82958984375\n",
      "\t\t AverageEpisodeLength = 10000.0\n"
     ]
    },
    {
     "name": "stdout",
     "output_type": "stream",
     "text": [
      "137959 loss:0.80370"
     ]
    },
    {
     "name": "stderr",
     "output_type": "stream",
     "text": [
      "INFO:absl: \n",
      "\t\t NumberOfEpisodes = 35\n",
      "\t\t EnvironmentSteps = 138001\n",
      "\t\t AverageReturn = -4562.82958984375\n",
      "\t\t AverageEpisodeLength = 10000.0\n"
     ]
    },
    {
     "name": "stdout",
     "output_type": "stream",
     "text": [
      "138988 loss:0.95095"
     ]
    },
    {
     "name": "stderr",
     "output_type": "stream",
     "text": [
      "INFO:absl: \n",
      "\t\t NumberOfEpisodes = 35\n",
      "\t\t EnvironmentSteps = 139001\n",
      "\t\t AverageReturn = -4562.82958984375\n",
      "\t\t AverageEpisodeLength = 10000.0\n"
     ]
    },
    {
     "name": "stdout",
     "output_type": "stream",
     "text": [
      "139964 loss:1.30122"
     ]
    },
    {
     "name": "stderr",
     "output_type": "stream",
     "text": [
      "INFO:absl: \n",
      "\t\t NumberOfEpisodes = 35\n",
      "\t\t EnvironmentSteps = 140001\n",
      "\t\t AverageReturn = -4562.82958984375\n",
      "\t\t AverageEpisodeLength = 10000.0\n"
     ]
    },
    {
     "name": "stdout",
     "output_type": "stream",
     "text": [
      "140975 loss:1.08316"
     ]
    },
    {
     "name": "stderr",
     "output_type": "stream",
     "text": [
      "INFO:absl: \n",
      "\t\t NumberOfEpisodes = 35\n",
      "\t\t EnvironmentSteps = 141001\n",
      "\t\t AverageReturn = -4562.82958984375\n",
      "\t\t AverageEpisodeLength = 10000.0\n"
     ]
    },
    {
     "name": "stdout",
     "output_type": "stream",
     "text": [
      "141972 loss:0.72172"
     ]
    },
    {
     "name": "stderr",
     "output_type": "stream",
     "text": [
      "INFO:absl: \n",
      "\t\t NumberOfEpisodes = 35\n",
      "\t\t EnvironmentSteps = 142001\n",
      "\t\t AverageReturn = -4562.82958984375\n",
      "\t\t AverageEpisodeLength = 10000.0\n"
     ]
    },
    {
     "name": "stdout",
     "output_type": "stream",
     "text": [
      "142983 loss:0.91731"
     ]
    },
    {
     "name": "stderr",
     "output_type": "stream",
     "text": [
      "INFO:absl: \n",
      "\t\t NumberOfEpisodes = 35\n",
      "\t\t EnvironmentSteps = 143001\n",
      "\t\t AverageReturn = -4562.82958984375\n",
      "\t\t AverageEpisodeLength = 10000.0\n"
     ]
    },
    {
     "name": "stdout",
     "output_type": "stream",
     "text": [
      "143978 loss:0.88753"
     ]
    },
    {
     "name": "stderr",
     "output_type": "stream",
     "text": [
      "INFO:absl: \n",
      "\t\t NumberOfEpisodes = 35\n",
      "\t\t EnvironmentSteps = 144001\n",
      "\t\t AverageReturn = -4562.82958984375\n",
      "\t\t AverageEpisodeLength = 10000.0\n"
     ]
    },
    {
     "name": "stdout",
     "output_type": "stream",
     "text": [
      "144987 loss:0.66531"
     ]
    },
    {
     "name": "stderr",
     "output_type": "stream",
     "text": [
      "INFO:absl: \n",
      "\t\t NumberOfEpisodes = 35\n",
      "\t\t EnvironmentSteps = 145001\n",
      "\t\t AverageReturn = -4562.82958984375\n",
      "\t\t AverageEpisodeLength = 10000.0\n"
     ]
    },
    {
     "name": "stdout",
     "output_type": "stream",
     "text": [
      "145980 loss:1.75356"
     ]
    },
    {
     "name": "stderr",
     "output_type": "stream",
     "text": [
      "INFO:absl: \n",
      "\t\t NumberOfEpisodes = 36\n",
      "\t\t EnvironmentSteps = 146001\n",
      "\t\t AverageReturn = -4590.99365234375\n",
      "\t\t AverageEpisodeLength = 10000.0\n"
     ]
    },
    {
     "name": "stdout",
     "output_type": "stream",
     "text": [
      "146937 loss:0.76082"
     ]
    },
    {
     "name": "stderr",
     "output_type": "stream",
     "text": [
      "INFO:absl: \n",
      "\t\t NumberOfEpisodes = 36\n",
      "\t\t EnvironmentSteps = 147001\n",
      "\t\t AverageReturn = -4590.99365234375\n",
      "\t\t AverageEpisodeLength = 10000.0\n"
     ]
    },
    {
     "name": "stdout",
     "output_type": "stream",
     "text": [
      "147930 loss:0.58710"
     ]
    },
    {
     "name": "stderr",
     "output_type": "stream",
     "text": [
      "INFO:absl: \n",
      "\t\t NumberOfEpisodes = 36\n",
      "\t\t EnvironmentSteps = 148001\n",
      "\t\t AverageReturn = -4590.99365234375\n",
      "\t\t AverageEpisodeLength = 10000.0\n"
     ]
    },
    {
     "name": "stdout",
     "output_type": "stream",
     "text": [
      "148932 loss:0.92833"
     ]
    },
    {
     "name": "stderr",
     "output_type": "stream",
     "text": [
      "INFO:absl: \n",
      "\t\t NumberOfEpisodes = 36\n",
      "\t\t EnvironmentSteps = 149001\n",
      "\t\t AverageReturn = -4590.99365234375\n",
      "\t\t AverageEpisodeLength = 10000.0\n"
     ]
    },
    {
     "name": "stdout",
     "output_type": "stream",
     "text": [
      "149970 loss:0.80071"
     ]
    },
    {
     "name": "stderr",
     "output_type": "stream",
     "text": [
      "INFO:absl: \n",
      "\t\t NumberOfEpisodes = 36\n",
      "\t\t EnvironmentSteps = 150001\n",
      "\t\t AverageReturn = -4590.99365234375\n",
      "\t\t AverageEpisodeLength = 10000.0\n"
     ]
    },
    {
     "name": "stdout",
     "output_type": "stream",
     "text": [
      "150994 loss:1.84405"
     ]
    },
    {
     "name": "stderr",
     "output_type": "stream",
     "text": [
      "INFO:absl: \n",
      "\t\t NumberOfEpisodes = 36\n",
      "\t\t EnvironmentSteps = 151001\n",
      "\t\t AverageReturn = -4590.99365234375\n",
      "\t\t AverageEpisodeLength = 10000.0\n"
     ]
    },
    {
     "name": "stdout",
     "output_type": "stream",
     "text": [
      "151942 loss:1.44867"
     ]
    },
    {
     "name": "stderr",
     "output_type": "stream",
     "text": [
      "INFO:absl: \n",
      "\t\t NumberOfEpisodes = 36\n",
      "\t\t EnvironmentSteps = 152001\n",
      "\t\t AverageReturn = -4590.99365234375\n",
      "\t\t AverageEpisodeLength = 10000.0\n"
     ]
    },
    {
     "name": "stdout",
     "output_type": "stream",
     "text": [
      "152937 loss:0.59064"
     ]
    },
    {
     "name": "stderr",
     "output_type": "stream",
     "text": [
      "INFO:absl: \n",
      "\t\t NumberOfEpisodes = 36\n",
      "\t\t EnvironmentSteps = 153001\n",
      "\t\t AverageReturn = -4590.99365234375\n",
      "\t\t AverageEpisodeLength = 10000.0\n"
     ]
    },
    {
     "name": "stdout",
     "output_type": "stream",
     "text": [
      "153954 loss:1.35614"
     ]
    },
    {
     "name": "stderr",
     "output_type": "stream",
     "text": [
      "INFO:absl: \n",
      "\t\t NumberOfEpisodes = 36\n",
      "\t\t EnvironmentSteps = 154001\n",
      "\t\t AverageReturn = -4590.99365234375\n",
      "\t\t AverageEpisodeLength = 10000.0\n"
     ]
    },
    {
     "name": "stdout",
     "output_type": "stream",
     "text": [
      "154963 loss:1.75756"
     ]
    },
    {
     "name": "stderr",
     "output_type": "stream",
     "text": [
      "INFO:absl: \n",
      "\t\t NumberOfEpisodes = 36\n",
      "\t\t EnvironmentSteps = 155001\n",
      "\t\t AverageReturn = -4590.99365234375\n",
      "\t\t AverageEpisodeLength = 10000.0\n"
     ]
    },
    {
     "name": "stdout",
     "output_type": "stream",
     "text": [
      "155952 loss:1.25444"
     ]
    },
    {
     "name": "stderr",
     "output_type": "stream",
     "text": [
      "INFO:absl: \n",
      "\t\t NumberOfEpisodes = 37\n",
      "\t\t EnvironmentSteps = 156001\n",
      "\t\t AverageReturn = -4430.27734375\n",
      "\t\t AverageEpisodeLength = 10000.0\n"
     ]
    },
    {
     "name": "stdout",
     "output_type": "stream",
     "text": [
      "156945 loss:1.07887"
     ]
    },
    {
     "name": "stderr",
     "output_type": "stream",
     "text": [
      "INFO:absl: \n",
      "\t\t NumberOfEpisodes = 37\n",
      "\t\t EnvironmentSteps = 157001\n",
      "\t\t AverageReturn = -4430.27734375\n",
      "\t\t AverageEpisodeLength = 10000.0\n"
     ]
    },
    {
     "name": "stdout",
     "output_type": "stream",
     "text": [
      "157942 loss:0.88443"
     ]
    },
    {
     "name": "stderr",
     "output_type": "stream",
     "text": [
      "INFO:absl: \n",
      "\t\t NumberOfEpisodes = 37\n",
      "\t\t EnvironmentSteps = 158001\n",
      "\t\t AverageReturn = -4430.27734375\n",
      "\t\t AverageEpisodeLength = 10000.0\n"
     ]
    },
    {
     "name": "stdout",
     "output_type": "stream",
     "text": [
      "158933 loss:1.91915"
     ]
    },
    {
     "name": "stderr",
     "output_type": "stream",
     "text": [
      "INFO:absl: \n",
      "\t\t NumberOfEpisodes = 37\n",
      "\t\t EnvironmentSteps = 159001\n",
      "\t\t AverageReturn = -4430.27734375\n",
      "\t\t AverageEpisodeLength = 10000.0\n"
     ]
    },
    {
     "name": "stdout",
     "output_type": "stream",
     "text": [
      "159998 loss:2.15785"
     ]
    },
    {
     "name": "stderr",
     "output_type": "stream",
     "text": [
      "INFO:absl: \n",
      "\t\t NumberOfEpisodes = 37\n",
      "\t\t EnvironmentSteps = 160001\n",
      "\t\t AverageReturn = -4430.27734375\n",
      "\t\t AverageEpisodeLength = 10000.0\n"
     ]
    },
    {
     "name": "stdout",
     "output_type": "stream",
     "text": [
      "160968 loss:0.85281"
     ]
    },
    {
     "name": "stderr",
     "output_type": "stream",
     "text": [
      "INFO:absl: \n",
      "\t\t NumberOfEpisodes = 37\n",
      "\t\t EnvironmentSteps = 161001\n",
      "\t\t AverageReturn = -4430.27734375\n",
      "\t\t AverageEpisodeLength = 10000.0\n"
     ]
    },
    {
     "name": "stdout",
     "output_type": "stream",
     "text": [
      "161984 loss:0.62214"
     ]
    },
    {
     "name": "stderr",
     "output_type": "stream",
     "text": [
      "INFO:absl: \n",
      "\t\t NumberOfEpisodes = 37\n",
      "\t\t EnvironmentSteps = 162001\n",
      "\t\t AverageReturn = -4430.27734375\n",
      "\t\t AverageEpisodeLength = 10000.0\n"
     ]
    },
    {
     "name": "stdout",
     "output_type": "stream",
     "text": [
      "162982 loss:1.28084"
     ]
    },
    {
     "name": "stderr",
     "output_type": "stream",
     "text": [
      "INFO:absl: \n",
      "\t\t NumberOfEpisodes = 37\n",
      "\t\t EnvironmentSteps = 163001\n",
      "\t\t AverageReturn = -4430.27734375\n",
      "\t\t AverageEpisodeLength = 10000.0\n"
     ]
    },
    {
     "name": "stdout",
     "output_type": "stream",
     "text": [
      "163974 loss:1.12717"
     ]
    },
    {
     "name": "stderr",
     "output_type": "stream",
     "text": [
      "INFO:absl: \n",
      "\t\t NumberOfEpisodes = 37\n",
      "\t\t EnvironmentSteps = 164001\n",
      "\t\t AverageReturn = -4430.27734375\n",
      "\t\t AverageEpisodeLength = 10000.0\n"
     ]
    },
    {
     "name": "stdout",
     "output_type": "stream",
     "text": [
      "164985 loss:1.10826"
     ]
    },
    {
     "name": "stderr",
     "output_type": "stream",
     "text": [
      "INFO:absl: \n",
      "\t\t NumberOfEpisodes = 37\n",
      "\t\t EnvironmentSteps = 165001\n",
      "\t\t AverageReturn = -4430.27734375\n",
      "\t\t AverageEpisodeLength = 10000.0\n"
     ]
    },
    {
     "name": "stdout",
     "output_type": "stream",
     "text": [
      "165929 loss:1.19142"
     ]
    },
    {
     "name": "stderr",
     "output_type": "stream",
     "text": [
      "INFO:absl: \n",
      "\t\t NumberOfEpisodes = 38\n",
      "\t\t EnvironmentSteps = 166001\n",
      "\t\t AverageReturn = -4521.3076171875\n",
      "\t\t AverageEpisodeLength = 10000.0\n"
     ]
    },
    {
     "name": "stdout",
     "output_type": "stream",
     "text": [
      "166946 loss:1.53927"
     ]
    },
    {
     "name": "stderr",
     "output_type": "stream",
     "text": [
      "INFO:absl: \n",
      "\t\t NumberOfEpisodes = 38\n",
      "\t\t EnvironmentSteps = 167001\n",
      "\t\t AverageReturn = -4521.3076171875\n",
      "\t\t AverageEpisodeLength = 10000.0\n"
     ]
    },
    {
     "name": "stdout",
     "output_type": "stream",
     "text": [
      "167966 loss:1.45632"
     ]
    },
    {
     "name": "stderr",
     "output_type": "stream",
     "text": [
      "INFO:absl: \n",
      "\t\t NumberOfEpisodes = 38\n",
      "\t\t EnvironmentSteps = 168001\n",
      "\t\t AverageReturn = -4521.3076171875\n",
      "\t\t AverageEpisodeLength = 10000.0\n"
     ]
    },
    {
     "name": "stdout",
     "output_type": "stream",
     "text": [
      "168981 loss:1.00942"
     ]
    },
    {
     "name": "stderr",
     "output_type": "stream",
     "text": [
      "INFO:absl: \n",
      "\t\t NumberOfEpisodes = 38\n",
      "\t\t EnvironmentSteps = 169001\n",
      "\t\t AverageReturn = -4521.3076171875\n",
      "\t\t AverageEpisodeLength = 10000.0\n"
     ]
    },
    {
     "name": "stdout",
     "output_type": "stream",
     "text": [
      "169974 loss:0.78513"
     ]
    },
    {
     "name": "stderr",
     "output_type": "stream",
     "text": [
      "INFO:absl: \n",
      "\t\t NumberOfEpisodes = 38\n",
      "\t\t EnvironmentSteps = 170001\n",
      "\t\t AverageReturn = -4521.3076171875\n",
      "\t\t AverageEpisodeLength = 10000.0\n"
     ]
    },
    {
     "name": "stdout",
     "output_type": "stream",
     "text": [
      "170966 loss:1.42341"
     ]
    },
    {
     "name": "stderr",
     "output_type": "stream",
     "text": [
      "INFO:absl: \n",
      "\t\t NumberOfEpisodes = 38\n",
      "\t\t EnvironmentSteps = 171001\n",
      "\t\t AverageReturn = -4521.3076171875\n",
      "\t\t AverageEpisodeLength = 10000.0\n"
     ]
    },
    {
     "name": "stdout",
     "output_type": "stream",
     "text": [
      "171931 loss:2.22758"
     ]
    },
    {
     "name": "stderr",
     "output_type": "stream",
     "text": [
      "INFO:absl: \n",
      "\t\t NumberOfEpisodes = 38\n",
      "\t\t EnvironmentSteps = 172001\n",
      "\t\t AverageReturn = -4521.3076171875\n",
      "\t\t AverageEpisodeLength = 10000.0\n"
     ]
    },
    {
     "name": "stdout",
     "output_type": "stream",
     "text": [
      "172992 loss:0.77635"
     ]
    },
    {
     "name": "stderr",
     "output_type": "stream",
     "text": [
      "INFO:absl: \n",
      "\t\t NumberOfEpisodes = 38\n",
      "\t\t EnvironmentSteps = 173001\n",
      "\t\t AverageReturn = -4521.3076171875\n",
      "\t\t AverageEpisodeLength = 10000.0\n"
     ]
    },
    {
     "name": "stdout",
     "output_type": "stream",
     "text": [
      "173988 loss:1.19931"
     ]
    },
    {
     "name": "stderr",
     "output_type": "stream",
     "text": [
      "INFO:absl: \n",
      "\t\t NumberOfEpisodes = 38\n",
      "\t\t EnvironmentSteps = 174001\n",
      "\t\t AverageReturn = -4521.3076171875\n",
      "\t\t AverageEpisodeLength = 10000.0\n"
     ]
    },
    {
     "name": "stdout",
     "output_type": "stream",
     "text": [
      "174979 loss:1.52928"
     ]
    },
    {
     "name": "stderr",
     "output_type": "stream",
     "text": [
      "INFO:absl: \n",
      "\t\t NumberOfEpisodes = 38\n",
      "\t\t EnvironmentSteps = 175001\n",
      "\t\t AverageReturn = -4521.3076171875\n",
      "\t\t AverageEpisodeLength = 10000.0\n"
     ]
    },
    {
     "name": "stdout",
     "output_type": "stream",
     "text": [
      "175973 loss:1.63881"
     ]
    },
    {
     "name": "stderr",
     "output_type": "stream",
     "text": [
      "INFO:absl: \n",
      "\t\t NumberOfEpisodes = 40\n",
      "\t\t EnvironmentSteps = 176001\n",
      "\t\t AverageReturn = -3902.135498046875\n",
      "\t\t AverageEpisodeLength = 9000.099609375\n"
     ]
    },
    {
     "name": "stdout",
     "output_type": "stream",
     "text": [
      "176970 loss:0.4065323"
     ]
    },
    {
     "name": "stderr",
     "output_type": "stream",
     "text": [
      "INFO:absl: \n",
      "\t\t NumberOfEpisodes = 40\n",
      "\t\t EnvironmentSteps = 177001\n",
      "\t\t AverageReturn = -3902.135498046875\n",
      "\t\t AverageEpisodeLength = 9000.099609375\n"
     ]
    },
    {
     "name": "stdout",
     "output_type": "stream",
     "text": [
      "177963 loss:1.37577"
     ]
    },
    {
     "name": "stderr",
     "output_type": "stream",
     "text": [
      "INFO:absl: \n",
      "\t\t NumberOfEpisodes = 40\n",
      "\t\t EnvironmentSteps = 178001\n",
      "\t\t AverageReturn = -3902.135498046875\n",
      "\t\t AverageEpisodeLength = 9000.099609375\n"
     ]
    },
    {
     "name": "stdout",
     "output_type": "stream",
     "text": [
      "178962 loss:1.12823"
     ]
    },
    {
     "name": "stderr",
     "output_type": "stream",
     "text": [
      "INFO:absl: \n",
      "\t\t NumberOfEpisodes = 40\n",
      "\t\t EnvironmentSteps = 179001\n",
      "\t\t AverageReturn = -3902.135498046875\n",
      "\t\t AverageEpisodeLength = 9000.099609375\n"
     ]
    },
    {
     "name": "stdout",
     "output_type": "stream",
     "text": [
      "179948 loss:0.9095567"
     ]
    },
    {
     "name": "stderr",
     "output_type": "stream",
     "text": [
      "INFO:absl: \n",
      "\t\t NumberOfEpisodes = 40\n",
      "\t\t EnvironmentSteps = 180001\n",
      "\t\t AverageReturn = -3902.135498046875\n",
      "\t\t AverageEpisodeLength = 9000.099609375\n"
     ]
    },
    {
     "name": "stdout",
     "output_type": "stream",
     "text": [
      "180961 loss:1.6503143"
     ]
    },
    {
     "name": "stderr",
     "output_type": "stream",
     "text": [
      "INFO:absl: \n",
      "\t\t NumberOfEpisodes = 40\n",
      "\t\t EnvironmentSteps = 181001\n",
      "\t\t AverageReturn = -3902.135498046875\n",
      "\t\t AverageEpisodeLength = 9000.099609375\n"
     ]
    },
    {
     "name": "stdout",
     "output_type": "stream",
     "text": [
      "181952 loss:1.4289578"
     ]
    },
    {
     "name": "stderr",
     "output_type": "stream",
     "text": [
      "INFO:absl: \n",
      "\t\t NumberOfEpisodes = 40\n",
      "\t\t EnvironmentSteps = 182001\n",
      "\t\t AverageReturn = -3902.135498046875\n",
      "\t\t AverageEpisodeLength = 9000.099609375\n"
     ]
    },
    {
     "name": "stdout",
     "output_type": "stream",
     "text": [
      "182947 loss:0.50346"
     ]
    },
    {
     "name": "stderr",
     "output_type": "stream",
     "text": [
      "INFO:absl: \n",
      "\t\t NumberOfEpisodes = 40\n",
      "\t\t EnvironmentSteps = 183001\n",
      "\t\t AverageReturn = -3902.135498046875\n",
      "\t\t AverageEpisodeLength = 9000.099609375\n"
     ]
    },
    {
     "name": "stdout",
     "output_type": "stream",
     "text": [
      "183934 loss:0.77750"
     ]
    },
    {
     "name": "stderr",
     "output_type": "stream",
     "text": [
      "INFO:absl: \n",
      "\t\t NumberOfEpisodes = 41\n",
      "\t\t EnvironmentSteps = 184001\n",
      "\t\t AverageReturn = -3935.274658203125\n",
      "\t\t AverageEpisodeLength = 8768.400390625\n"
     ]
    },
    {
     "name": "stdout",
     "output_type": "stream",
     "text": [
      "184931 loss:1.1868428"
     ]
    },
    {
     "name": "stderr",
     "output_type": "stream",
     "text": [
      "INFO:absl: \n",
      "\t\t NumberOfEpisodes = 41\n",
      "\t\t EnvironmentSteps = 185001\n",
      "\t\t AverageReturn = -3935.274658203125\n",
      "\t\t AverageEpisodeLength = 8768.400390625\n"
     ]
    },
    {
     "name": "stdout",
     "output_type": "stream",
     "text": [
      "185938 loss:0.8169365"
     ]
    },
    {
     "name": "stderr",
     "output_type": "stream",
     "text": [
      "INFO:absl: \n",
      "\t\t NumberOfEpisodes = 41\n",
      "\t\t EnvironmentSteps = 186001\n",
      "\t\t AverageReturn = -3935.274658203125\n",
      "\t\t AverageEpisodeLength = 8768.400390625\n"
     ]
    },
    {
     "name": "stdout",
     "output_type": "stream",
     "text": [
      "186941 loss:1.20904"
     ]
    },
    {
     "name": "stderr",
     "output_type": "stream",
     "text": [
      "INFO:absl: \n",
      "\t\t NumberOfEpisodes = 41\n",
      "\t\t EnvironmentSteps = 187001\n",
      "\t\t AverageReturn = -3935.274658203125\n",
      "\t\t AverageEpisodeLength = 8768.400390625\n"
     ]
    },
    {
     "name": "stdout",
     "output_type": "stream",
     "text": [
      "187937 loss:0.71881"
     ]
    },
    {
     "name": "stderr",
     "output_type": "stream",
     "text": [
      "INFO:absl: \n",
      "\t\t NumberOfEpisodes = 41\n",
      "\t\t EnvironmentSteps = 188001\n",
      "\t\t AverageReturn = -3935.274658203125\n",
      "\t\t AverageEpisodeLength = 8768.400390625\n"
     ]
    },
    {
     "name": "stdout",
     "output_type": "stream",
     "text": [
      "188999 loss:1.0882702"
     ]
    },
    {
     "name": "stderr",
     "output_type": "stream",
     "text": [
      "INFO:absl: \n",
      "\t\t NumberOfEpisodes = 41\n",
      "\t\t EnvironmentSteps = 189001\n",
      "\t\t AverageReturn = -3935.274658203125\n",
      "\t\t AverageEpisodeLength = 8768.400390625\n"
     ]
    },
    {
     "name": "stdout",
     "output_type": "stream",
     "text": [
      "189933 loss:0.71587"
     ]
    },
    {
     "name": "stderr",
     "output_type": "stream",
     "text": [
      "INFO:absl: \n",
      "\t\t NumberOfEpisodes = 41\n",
      "\t\t EnvironmentSteps = 190001\n",
      "\t\t AverageReturn = -3935.274658203125\n",
      "\t\t AverageEpisodeLength = 8768.400390625\n"
     ]
    },
    {
     "name": "stdout",
     "output_type": "stream",
     "text": [
      "190949 loss:0.9610404"
     ]
    },
    {
     "name": "stderr",
     "output_type": "stream",
     "text": [
      "INFO:absl: \n",
      "\t\t NumberOfEpisodes = 41\n",
      "\t\t EnvironmentSteps = 191001\n",
      "\t\t AverageReturn = -3935.274658203125\n",
      "\t\t AverageEpisodeLength = 8768.400390625\n"
     ]
    },
    {
     "name": "stdout",
     "output_type": "stream",
     "text": [
      "191945 loss:0.68879"
     ]
    },
    {
     "name": "stderr",
     "output_type": "stream",
     "text": [
      "INFO:absl: \n",
      "\t\t NumberOfEpisodes = 41\n",
      "\t\t EnvironmentSteps = 192001\n",
      "\t\t AverageReturn = -3935.274658203125\n",
      "\t\t AverageEpisodeLength = 8768.400390625\n"
     ]
    },
    {
     "name": "stdout",
     "output_type": "stream",
     "text": [
      "192964 loss:1.2076473"
     ]
    },
    {
     "name": "stderr",
     "output_type": "stream",
     "text": [
      "INFO:absl: \n",
      "\t\t NumberOfEpisodes = 41\n",
      "\t\t EnvironmentSteps = 193001\n",
      "\t\t AverageReturn = -3935.274658203125\n",
      "\t\t AverageEpisodeLength = 8768.400390625\n"
     ]
    },
    {
     "name": "stdout",
     "output_type": "stream",
     "text": [
      "193986 loss:0.71020"
     ]
    },
    {
     "name": "stderr",
     "output_type": "stream",
     "text": [
      "INFO:absl: \n",
      "\t\t NumberOfEpisodes = 42\n",
      "\t\t EnvironmentSteps = 194001\n",
      "\t\t AverageReturn = -3994.44580078125\n",
      "\t\t AverageEpisodeLength = 8768.400390625\n"
     ]
    },
    {
     "name": "stdout",
     "output_type": "stream",
     "text": [
      "194967 loss:1.06024"
     ]
    },
    {
     "name": "stderr",
     "output_type": "stream",
     "text": [
      "INFO:absl: \n",
      "\t\t NumberOfEpisodes = 42\n",
      "\t\t EnvironmentSteps = 195001\n",
      "\t\t AverageReturn = -3994.44580078125\n",
      "\t\t AverageEpisodeLength = 8768.400390625\n"
     ]
    },
    {
     "name": "stdout",
     "output_type": "stream",
     "text": [
      "195964 loss:0.8521907"
     ]
    },
    {
     "name": "stderr",
     "output_type": "stream",
     "text": [
      "INFO:absl: \n",
      "\t\t NumberOfEpisodes = 42\n",
      "\t\t EnvironmentSteps = 196001\n",
      "\t\t AverageReturn = -3994.44580078125\n",
      "\t\t AverageEpisodeLength = 8768.400390625\n"
     ]
    },
    {
     "name": "stdout",
     "output_type": "stream",
     "text": [
      "196963 loss:1.0142088"
     ]
    },
    {
     "name": "stderr",
     "output_type": "stream",
     "text": [
      "INFO:absl: \n",
      "\t\t NumberOfEpisodes = 43\n",
      "\t\t EnvironmentSteps = 197001\n",
      "\t\t AverageReturn = -3569.961669921875\n",
      "\t\t AverageEpisodeLength = 8061.0\n"
     ]
    },
    {
     "name": "stdout",
     "output_type": "stream",
     "text": [
      "197960 loss:1.1424459"
     ]
    },
    {
     "name": "stderr",
     "output_type": "stream",
     "text": [
      "INFO:absl: \n",
      "\t\t NumberOfEpisodes = 43\n",
      "\t\t EnvironmentSteps = 198001\n",
      "\t\t AverageReturn = -3569.961669921875\n",
      "\t\t AverageEpisodeLength = 8061.0\n"
     ]
    },
    {
     "name": "stdout",
     "output_type": "stream",
     "text": [
      "198949 loss:0.5962499"
     ]
    },
    {
     "name": "stderr",
     "output_type": "stream",
     "text": [
      "INFO:absl: \n",
      "\t\t NumberOfEpisodes = 43\n",
      "\t\t EnvironmentSteps = 199001\n",
      "\t\t AverageReturn = -3569.961669921875\n",
      "\t\t AverageEpisodeLength = 8061.0\n"
     ]
    },
    {
     "name": "stdout",
     "output_type": "stream",
     "text": [
      "199949 loss:0.9390481"
     ]
    },
    {
     "name": "stderr",
     "output_type": "stream",
     "text": [
      "INFO:absl: \n",
      "\t\t NumberOfEpisodes = 44\n",
      "\t\t EnvironmentSteps = 200001\n",
      "\t\t AverageReturn = -3388.28271484375\n",
      "\t\t AverageEpisodeLength = 7451.89990234375\n"
     ]
    },
    {
     "name": "stdout",
     "output_type": "stream",
     "text": [
      "200966 loss:1.8327888"
     ]
    },
    {
     "name": "stderr",
     "output_type": "stream",
     "text": [
      "INFO:absl: \n",
      "\t\t NumberOfEpisodes = 44\n",
      "\t\t EnvironmentSteps = 201001\n",
      "\t\t AverageReturn = -3388.28271484375\n",
      "\t\t AverageEpisodeLength = 7451.89990234375\n"
     ]
    },
    {
     "name": "stdout",
     "output_type": "stream",
     "text": [
      "201984 loss:0.4725509"
     ]
    },
    {
     "name": "stderr",
     "output_type": "stream",
     "text": [
      "INFO:absl: \n",
      "\t\t NumberOfEpisodes = 44\n",
      "\t\t EnvironmentSteps = 202001\n",
      "\t\t AverageReturn = -3388.28271484375\n",
      "\t\t AverageEpisodeLength = 7451.89990234375\n"
     ]
    },
    {
     "name": "stdout",
     "output_type": "stream",
     "text": [
      "202989 loss:1.1211082"
     ]
    },
    {
     "name": "stderr",
     "output_type": "stream",
     "text": [
      "INFO:absl: \n",
      "\t\t NumberOfEpisodes = 45\n",
      "\t\t EnvironmentSteps = 203001\n",
      "\t\t AverageReturn = -3122.70703125\n",
      "\t\t AverageEpisodeLength = 6682.7998046875\n"
     ]
    },
    {
     "name": "stdout",
     "output_type": "stream",
     "text": [
      "203955 loss:1.6022043"
     ]
    },
    {
     "name": "stderr",
     "output_type": "stream",
     "text": [
      "INFO:absl: \n",
      "\t\t NumberOfEpisodes = 45\n",
      "\t\t EnvironmentSteps = 204001\n",
      "\t\t AverageReturn = -3122.70703125\n",
      "\t\t AverageEpisodeLength = 6682.7998046875\n"
     ]
    },
    {
     "name": "stdout",
     "output_type": "stream",
     "text": [
      "204955 loss:0.6290541"
     ]
    },
    {
     "name": "stderr",
     "output_type": "stream",
     "text": [
      "INFO:absl: \n",
      "\t\t NumberOfEpisodes = 45\n",
      "\t\t EnvironmentSteps = 205001\n",
      "\t\t AverageReturn = -3122.70703125\n",
      "\t\t AverageEpisodeLength = 6682.7998046875\n"
     ]
    },
    {
     "name": "stdout",
     "output_type": "stream",
     "text": [
      "205954 loss:1.4155346"
     ]
    },
    {
     "name": "stderr",
     "output_type": "stream",
     "text": [
      "INFO:absl: \n",
      "\t\t NumberOfEpisodes = 45\n",
      "\t\t EnvironmentSteps = 206001\n",
      "\t\t AverageReturn = -3122.70703125\n",
      "\t\t AverageEpisodeLength = 6682.7998046875\n"
     ]
    },
    {
     "name": "stdout",
     "output_type": "stream",
     "text": [
      "206943 loss:1.7110405"
     ]
    },
    {
     "name": "stderr",
     "output_type": "stream",
     "text": [
      "INFO:absl: \n",
      "\t\t NumberOfEpisodes = 47\n",
      "\t\t EnvironmentSteps = 207001\n",
      "\t\t AverageReturn = -2274.476806640625\n",
      "\t\t AverageEpisodeLength = 5099.60009765625\n"
     ]
    },
    {
     "name": "stdout",
     "output_type": "stream",
     "text": [
      "207968 loss:1.5042536"
     ]
    },
    {
     "name": "stderr",
     "output_type": "stream",
     "text": [
      "INFO:absl: \n",
      "\t\t NumberOfEpisodes = 47\n",
      "\t\t EnvironmentSteps = 208001\n",
      "\t\t AverageReturn = -2274.476806640625\n",
      "\t\t AverageEpisodeLength = 5099.60009765625\n"
     ]
    },
    {
     "name": "stdout",
     "output_type": "stream",
     "text": [
      "208958 loss:1.4281056"
     ]
    },
    {
     "name": "stderr",
     "output_type": "stream",
     "text": [
      "INFO:absl: \n",
      "\t\t NumberOfEpisodes = 47\n",
      "\t\t EnvironmentSteps = 209001\n",
      "\t\t AverageReturn = -2274.476806640625\n",
      "\t\t AverageEpisodeLength = 5099.60009765625\n"
     ]
    },
    {
     "name": "stdout",
     "output_type": "stream",
     "text": [
      "209979 loss:0.8743721"
     ]
    },
    {
     "name": "stderr",
     "output_type": "stream",
     "text": [
      "INFO:absl: \n",
      "\t\t NumberOfEpisodes = 47\n",
      "\t\t EnvironmentSteps = 210001\n",
      "\t\t AverageReturn = -2274.476806640625\n",
      "\t\t AverageEpisodeLength = 5099.60009765625\n"
     ]
    },
    {
     "name": "stdout",
     "output_type": "stream",
     "text": [
      "210971 loss:1.3338167"
     ]
    },
    {
     "name": "stderr",
     "output_type": "stream",
     "text": [
      "INFO:absl: \n",
      "\t\t NumberOfEpisodes = 47\n",
      "\t\t EnvironmentSteps = 211001\n",
      "\t\t AverageReturn = -2274.476806640625\n",
      "\t\t AverageEpisodeLength = 5099.60009765625\n"
     ]
    },
    {
     "name": "stdout",
     "output_type": "stream",
     "text": [
      "211960 loss:0.7466225"
     ]
    },
    {
     "name": "stderr",
     "output_type": "stream",
     "text": [
      "INFO:absl: \n",
      "\t\t NumberOfEpisodes = 47\n",
      "\t\t EnvironmentSteps = 212001\n",
      "\t\t AverageReturn = -2274.476806640625\n",
      "\t\t AverageEpisodeLength = 5099.60009765625\n"
     ]
    },
    {
     "name": "stdout",
     "output_type": "stream",
     "text": [
      "212955 loss:0.5920728"
     ]
    },
    {
     "name": "stderr",
     "output_type": "stream",
     "text": [
      "INFO:absl: \n",
      "\t\t NumberOfEpisodes = 47\n",
      "\t\t EnvironmentSteps = 213001\n",
      "\t\t AverageReturn = -2274.476806640625\n",
      "\t\t AverageEpisodeLength = 5099.60009765625\n"
     ]
    },
    {
     "name": "stdout",
     "output_type": "stream",
     "text": [
      "213945 loss:2.1583269"
     ]
    },
    {
     "name": "stderr",
     "output_type": "stream",
     "text": [
      "INFO:absl: \n",
      "\t\t NumberOfEpisodes = 47\n",
      "\t\t EnvironmentSteps = 214001\n",
      "\t\t AverageReturn = -2274.476806640625\n",
      "\t\t AverageEpisodeLength = 5099.60009765625\n"
     ]
    },
    {
     "name": "stdout",
     "output_type": "stream",
     "text": [
      "214943 loss:0.9622119"
     ]
    },
    {
     "name": "stderr",
     "output_type": "stream",
     "text": [
      "INFO:absl: \n",
      "\t\t NumberOfEpisodes = 48\n",
      "\t\t EnvironmentSteps = 215001\n",
      "\t\t AverageReturn = -2082.13818359375\n",
      "\t\t AverageEpisodeLength = 4942.10009765625\n"
     ]
    },
    {
     "name": "stdout",
     "output_type": "stream",
     "text": [
      "215931 loss:0.6896703"
     ]
    },
    {
     "name": "stderr",
     "output_type": "stream",
     "text": [
      "INFO:absl: \n",
      "\t\t NumberOfEpisodes = 48\n",
      "\t\t EnvironmentSteps = 216001\n",
      "\t\t AverageReturn = -2082.13818359375\n",
      "\t\t AverageEpisodeLength = 4942.10009765625\n"
     ]
    },
    {
     "name": "stdout",
     "output_type": "stream",
     "text": [
      "216948 loss:1.2331377"
     ]
    },
    {
     "name": "stderr",
     "output_type": "stream",
     "text": [
      "INFO:absl: \n",
      "\t\t NumberOfEpisodes = 48\n",
      "\t\t EnvironmentSteps = 217001\n",
      "\t\t AverageReturn = -2082.13818359375\n",
      "\t\t AverageEpisodeLength = 4942.10009765625\n"
     ]
    },
    {
     "name": "stdout",
     "output_type": "stream",
     "text": [
      "217948 loss:0.7063786"
     ]
    },
    {
     "name": "stderr",
     "output_type": "stream",
     "text": [
      "INFO:absl: \n",
      "\t\t NumberOfEpisodes = 48\n",
      "\t\t EnvironmentSteps = 218001\n",
      "\t\t AverageReturn = -2082.13818359375\n",
      "\t\t AverageEpisodeLength = 4942.10009765625\n"
     ]
    },
    {
     "name": "stdout",
     "output_type": "stream",
     "text": [
      "218939 loss:0.6131522"
     ]
    },
    {
     "name": "stderr",
     "output_type": "stream",
     "text": [
      "INFO:absl: \n",
      "\t\t NumberOfEpisodes = 48\n",
      "\t\t EnvironmentSteps = 219001\n",
      "\t\t AverageReturn = -2082.13818359375\n",
      "\t\t AverageEpisodeLength = 4942.10009765625\n"
     ]
    },
    {
     "name": "stdout",
     "output_type": "stream",
     "text": [
      "219938 loss:1.3146611"
     ]
    },
    {
     "name": "stderr",
     "output_type": "stream",
     "text": [
      "INFO:absl: \n",
      "\t\t NumberOfEpisodes = 48\n",
      "\t\t EnvironmentSteps = 220001\n",
      "\t\t AverageReturn = -2082.13818359375\n",
      "\t\t AverageEpisodeLength = 4942.10009765625\n"
     ]
    },
    {
     "name": "stdout",
     "output_type": "stream",
     "text": [
      "220938 loss:1.0939101"
     ]
    },
    {
     "name": "stderr",
     "output_type": "stream",
     "text": [
      "INFO:absl: \n",
      "\t\t NumberOfEpisodes = 48\n",
      "\t\t EnvironmentSteps = 221001\n",
      "\t\t AverageReturn = -2082.13818359375\n",
      "\t\t AverageEpisodeLength = 4942.10009765625\n"
     ]
    },
    {
     "name": "stdout",
     "output_type": "stream",
     "text": [
      "221936 loss:0.4370817"
     ]
    },
    {
     "name": "stderr",
     "output_type": "stream",
     "text": [
      "INFO:absl: \n",
      "\t\t NumberOfEpisodes = 48\n",
      "\t\t EnvironmentSteps = 222001\n",
      "\t\t AverageReturn = -2082.13818359375\n",
      "\t\t AverageEpisodeLength = 4942.10009765625\n"
     ]
    },
    {
     "name": "stdout",
     "output_type": "stream",
     "text": [
      "222934 loss:1.0162610"
     ]
    },
    {
     "name": "stderr",
     "output_type": "stream",
     "text": [
      "INFO:absl: \n",
      "\t\t NumberOfEpisodes = 48\n",
      "\t\t EnvironmentSteps = 223001\n",
      "\t\t AverageReturn = -2082.13818359375\n",
      "\t\t AverageEpisodeLength = 4942.10009765625\n"
     ]
    },
    {
     "name": "stdout",
     "output_type": "stream",
     "text": [
      "223999 loss:1.9068104"
     ]
    },
    {
     "name": "stderr",
     "output_type": "stream",
     "text": [
      "INFO:absl: \n",
      "\t\t NumberOfEpisodes = 48\n",
      "\t\t EnvironmentSteps = 224001\n",
      "\t\t AverageReturn = -2082.13818359375\n",
      "\t\t AverageEpisodeLength = 4942.10009765625\n"
     ]
    },
    {
     "name": "stdout",
     "output_type": "stream",
     "text": [
      "224933 loss:0.8110202"
     ]
    },
    {
     "name": "stderr",
     "output_type": "stream",
     "text": [
      "INFO:absl: \n",
      "\t\t NumberOfEpisodes = 49\n",
      "\t\t EnvironmentSteps = 225001\n",
      "\t\t AverageReturn = -2016.425537109375\n",
      "\t\t AverageEpisodeLength = 4942.10009765625\n"
     ]
    },
    {
     "name": "stdout",
     "output_type": "stream",
     "text": [
      "225968 loss:1.0845959"
     ]
    },
    {
     "name": "stderr",
     "output_type": "stream",
     "text": [
      "INFO:absl: \n",
      "\t\t NumberOfEpisodes = 49\n",
      "\t\t EnvironmentSteps = 226001\n",
      "\t\t AverageReturn = -2016.425537109375\n",
      "\t\t AverageEpisodeLength = 4942.10009765625\n"
     ]
    },
    {
     "name": "stdout",
     "output_type": "stream",
     "text": [
      "226960 loss:1.2065789"
     ]
    },
    {
     "name": "stderr",
     "output_type": "stream",
     "text": [
      "INFO:absl: \n",
      "\t\t NumberOfEpisodes = 49\n",
      "\t\t EnvironmentSteps = 227001\n",
      "\t\t AverageReturn = -2016.425537109375\n",
      "\t\t AverageEpisodeLength = 4942.10009765625\n"
     ]
    },
    {
     "name": "stdout",
     "output_type": "stream",
     "text": [
      "227957 loss:1.1379462"
     ]
    },
    {
     "name": "stderr",
     "output_type": "stream",
     "text": [
      "INFO:absl: \n",
      "\t\t NumberOfEpisodes = 49\n",
      "\t\t EnvironmentSteps = 228001\n",
      "\t\t AverageReturn = -2016.425537109375\n",
      "\t\t AverageEpisodeLength = 4942.10009765625\n"
     ]
    },
    {
     "name": "stdout",
     "output_type": "stream",
     "text": [
      "228952 loss:1.4442048"
     ]
    },
    {
     "name": "stderr",
     "output_type": "stream",
     "text": [
      "INFO:absl: \n",
      "\t\t NumberOfEpisodes = 49\n",
      "\t\t EnvironmentSteps = 229001\n",
      "\t\t AverageReturn = -2016.425537109375\n",
      "\t\t AverageEpisodeLength = 4942.10009765625\n"
     ]
    },
    {
     "name": "stdout",
     "output_type": "stream",
     "text": [
      "229966 loss:1.3911587"
     ]
    },
    {
     "name": "stderr",
     "output_type": "stream",
     "text": [
      "INFO:absl: \n",
      "\t\t NumberOfEpisodes = 49\n",
      "\t\t EnvironmentSteps = 230001\n",
      "\t\t AverageReturn = -2016.425537109375\n",
      "\t\t AverageEpisodeLength = 4942.10009765625\n"
     ]
    },
    {
     "name": "stdout",
     "output_type": "stream",
     "text": [
      "230969 loss:0.8883779"
     ]
    },
    {
     "name": "stderr",
     "output_type": "stream",
     "text": [
      "INFO:absl: \n",
      "\t\t NumberOfEpisodes = 49\n",
      "\t\t EnvironmentSteps = 231001\n",
      "\t\t AverageReturn = -2016.425537109375\n",
      "\t\t AverageEpisodeLength = 4942.10009765625\n"
     ]
    },
    {
     "name": "stdout",
     "output_type": "stream",
     "text": [
      "231974 loss:1.2338536"
     ]
    },
    {
     "name": "stderr",
     "output_type": "stream",
     "text": [
      "INFO:absl: \n",
      "\t\t NumberOfEpisodes = 49\n",
      "\t\t EnvironmentSteps = 232001\n",
      "\t\t AverageReturn = -2016.425537109375\n",
      "\t\t AverageEpisodeLength = 4942.10009765625\n"
     ]
    },
    {
     "name": "stdout",
     "output_type": "stream",
     "text": [
      "232983 loss:0.7925969"
     ]
    },
    {
     "name": "stderr",
     "output_type": "stream",
     "text": [
      "INFO:absl: \n",
      "\t\t NumberOfEpisodes = 49\n",
      "\t\t EnvironmentSteps = 233001\n",
      "\t\t AverageReturn = -2016.425537109375\n",
      "\t\t AverageEpisodeLength = 4942.10009765625\n"
     ]
    },
    {
     "name": "stdout",
     "output_type": "stream",
     "text": [
      "233930 loss:0.8908470"
     ]
    },
    {
     "name": "stderr",
     "output_type": "stream",
     "text": [
      "INFO:absl: \n",
      "\t\t NumberOfEpisodes = 49\n",
      "\t\t EnvironmentSteps = 234001\n",
      "\t\t AverageReturn = -2016.425537109375\n",
      "\t\t AverageEpisodeLength = 4942.10009765625\n"
     ]
    },
    {
     "name": "stdout",
     "output_type": "stream",
     "text": [
      "234934 loss:1.4255905"
     ]
    },
    {
     "name": "stderr",
     "output_type": "stream",
     "text": [
      "INFO:absl: \n",
      "\t\t NumberOfEpisodes = 50\n",
      "\t\t EnvironmentSteps = 235001\n",
      "\t\t AverageReturn = -2306.173828125\n",
      "\t\t AverageEpisodeLength = 5942.0\n"
     ]
    },
    {
     "name": "stdout",
     "output_type": "stream",
     "text": [
      "235996 loss:0.9449250"
     ]
    },
    {
     "name": "stderr",
     "output_type": "stream",
     "text": [
      "INFO:absl: \n",
      "\t\t NumberOfEpisodes = 50\n",
      "\t\t EnvironmentSteps = 236001\n",
      "\t\t AverageReturn = -2306.173828125\n",
      "\t\t AverageEpisodeLength = 5942.0\n"
     ]
    },
    {
     "name": "stdout",
     "output_type": "stream",
     "text": [
      "236994 loss:1.9565479"
     ]
    },
    {
     "name": "stderr",
     "output_type": "stream",
     "text": [
      "INFO:absl: \n",
      "\t\t NumberOfEpisodes = 50\n",
      "\t\t EnvironmentSteps = 237001\n",
      "\t\t AverageReturn = -2306.173828125\n",
      "\t\t AverageEpisodeLength = 5942.0\n"
     ]
    },
    {
     "name": "stdout",
     "output_type": "stream",
     "text": [
      "237982 loss:2.1861203"
     ]
    },
    {
     "name": "stderr",
     "output_type": "stream",
     "text": [
      "INFO:absl: \n",
      "\t\t NumberOfEpisodes = 50\n",
      "\t\t EnvironmentSteps = 238001\n",
      "\t\t AverageReturn = -2306.173828125\n",
      "\t\t AverageEpisodeLength = 5942.0\n"
     ]
    },
    {
     "name": "stdout",
     "output_type": "stream",
     "text": [
      "238978 loss:1.6998276"
     ]
    },
    {
     "name": "stderr",
     "output_type": "stream",
     "text": [
      "INFO:absl: \n",
      "\t\t NumberOfEpisodes = 50\n",
      "\t\t EnvironmentSteps = 239001\n",
      "\t\t AverageReturn = -2306.173828125\n",
      "\t\t AverageEpisodeLength = 5942.0\n"
     ]
    },
    {
     "name": "stdout",
     "output_type": "stream",
     "text": [
      "239974 loss:0.6555158"
     ]
    },
    {
     "name": "stderr",
     "output_type": "stream",
     "text": [
      "INFO:absl: \n",
      "\t\t NumberOfEpisodes = 50\n",
      "\t\t EnvironmentSteps = 240001\n",
      "\t\t AverageReturn = -2306.173828125\n",
      "\t\t AverageEpisodeLength = 5942.0\n"
     ]
    },
    {
     "name": "stdout",
     "output_type": "stream",
     "text": [
      "240985 loss:1.2825314"
     ]
    },
    {
     "name": "stderr",
     "output_type": "stream",
     "text": [
      "INFO:absl: \n",
      "\t\t NumberOfEpisodes = 50\n",
      "\t\t EnvironmentSteps = 241001\n",
      "\t\t AverageReturn = -2306.173828125\n",
      "\t\t AverageEpisodeLength = 5942.0\n"
     ]
    },
    {
     "name": "stdout",
     "output_type": "stream",
     "text": [
      "241983 loss:1.1318680"
     ]
    },
    {
     "name": "stderr",
     "output_type": "stream",
     "text": [
      "INFO:absl: \n",
      "\t\t NumberOfEpisodes = 50\n",
      "\t\t EnvironmentSteps = 242001\n",
      "\t\t AverageReturn = -2306.173828125\n",
      "\t\t AverageEpisodeLength = 5942.0\n"
     ]
    },
    {
     "name": "stdout",
     "output_type": "stream",
     "text": [
      "242985 loss:1.7872397"
     ]
    },
    {
     "name": "stderr",
     "output_type": "stream",
     "text": [
      "INFO:absl: \n",
      "\t\t NumberOfEpisodes = 50\n",
      "\t\t EnvironmentSteps = 243001\n",
      "\t\t AverageReturn = -2306.173828125\n",
      "\t\t AverageEpisodeLength = 5942.0\n"
     ]
    },
    {
     "name": "stdout",
     "output_type": "stream",
     "text": [
      "243996 loss:1.4031879"
     ]
    },
    {
     "name": "stderr",
     "output_type": "stream",
     "text": [
      "INFO:absl: \n",
      "\t\t NumberOfEpisodes = 50\n",
      "\t\t EnvironmentSteps = 244001\n",
      "\t\t AverageReturn = -2306.173828125\n",
      "\t\t AverageEpisodeLength = 5942.0\n"
     ]
    },
    {
     "name": "stdout",
     "output_type": "stream",
     "text": [
      "244988 loss:2.3170978"
     ]
    },
    {
     "name": "stderr",
     "output_type": "stream",
     "text": [
      "INFO:absl: \n",
      "\t\t NumberOfEpisodes = 51\n",
      "\t\t EnvironmentSteps = 245001\n",
      "\t\t AverageReturn = -2356.9970703125\n",
      "\t\t AverageEpisodeLength = 6173.7001953125\n"
     ]
    },
    {
     "name": "stdout",
     "output_type": "stream",
     "text": [
      "245998 loss:1.6056806"
     ]
    },
    {
     "name": "stderr",
     "output_type": "stream",
     "text": [
      "INFO:absl: \n",
      "\t\t NumberOfEpisodes = 51\n",
      "\t\t EnvironmentSteps = 246001\n",
      "\t\t AverageReturn = -2356.9970703125\n",
      "\t\t AverageEpisodeLength = 6173.7001953125\n"
     ]
    },
    {
     "name": "stdout",
     "output_type": "stream",
     "text": [
      "246963 loss:0.9270700"
     ]
    },
    {
     "name": "stderr",
     "output_type": "stream",
     "text": [
      "INFO:absl: \n",
      "\t\t NumberOfEpisodes = 51\n",
      "\t\t EnvironmentSteps = 247001\n",
      "\t\t AverageReturn = -2356.9970703125\n",
      "\t\t AverageEpisodeLength = 6173.7001953125\n"
     ]
    },
    {
     "name": "stdout",
     "output_type": "stream",
     "text": [
      "247947 loss:1.5287018"
     ]
    },
    {
     "name": "stderr",
     "output_type": "stream",
     "text": [
      "INFO:absl: \n",
      "\t\t NumberOfEpisodes = 51\n",
      "\t\t EnvironmentSteps = 248001\n",
      "\t\t AverageReturn = -2356.9970703125\n",
      "\t\t AverageEpisodeLength = 6173.7001953125\n"
     ]
    },
    {
     "name": "stdout",
     "output_type": "stream",
     "text": [
      "248966 loss:0.8663877"
     ]
    },
    {
     "name": "stderr",
     "output_type": "stream",
     "text": [
      "INFO:absl: \n",
      "\t\t NumberOfEpisodes = 51\n",
      "\t\t EnvironmentSteps = 249001\n",
      "\t\t AverageReturn = -2356.9970703125\n",
      "\t\t AverageEpisodeLength = 6173.7001953125\n"
     ]
    },
    {
     "name": "stdout",
     "output_type": "stream",
     "text": [
      "249952 loss:0.8429644"
     ]
    },
    {
     "name": "stderr",
     "output_type": "stream",
     "text": [
      "INFO:absl: \n",
      "\t\t NumberOfEpisodes = 51\n",
      "\t\t EnvironmentSteps = 250001\n",
      "\t\t AverageReturn = -2356.9970703125\n",
      "\t\t AverageEpisodeLength = 6173.7001953125\n"
     ]
    },
    {
     "name": "stdout",
     "output_type": "stream",
     "text": [
      "250967 loss:1.0827639"
     ]
    },
    {
     "name": "stderr",
     "output_type": "stream",
     "text": [
      "INFO:absl: \n",
      "\t\t NumberOfEpisodes = 51\n",
      "\t\t EnvironmentSteps = 251001\n",
      "\t\t AverageReturn = -2356.9970703125\n",
      "\t\t AverageEpisodeLength = 6173.7001953125\n"
     ]
    },
    {
     "name": "stdout",
     "output_type": "stream",
     "text": [
      "251974 loss:0.7590345"
     ]
    },
    {
     "name": "stderr",
     "output_type": "stream",
     "text": [
      "INFO:absl: \n",
      "\t\t NumberOfEpisodes = 51\n",
      "\t\t EnvironmentSteps = 252001\n",
      "\t\t AverageReturn = -2356.9970703125\n",
      "\t\t AverageEpisodeLength = 6173.7001953125\n"
     ]
    },
    {
     "name": "stdout",
     "output_type": "stream",
     "text": [
      "252982 loss:1.0894080"
     ]
    },
    {
     "name": "stderr",
     "output_type": "stream",
     "text": [
      "INFO:absl: \n",
      "\t\t NumberOfEpisodes = 51\n",
      "\t\t EnvironmentSteps = 253001\n",
      "\t\t AverageReturn = -2356.9970703125\n",
      "\t\t AverageEpisodeLength = 6173.7001953125\n"
     ]
    },
    {
     "name": "stdout",
     "output_type": "stream",
     "text": [
      "253998 loss:0.6610516"
     ]
    },
    {
     "name": "stderr",
     "output_type": "stream",
     "text": [
      "INFO:absl: \n",
      "\t\t NumberOfEpisodes = 51\n",
      "\t\t EnvironmentSteps = 254001\n",
      "\t\t AverageReturn = -2356.9970703125\n",
      "\t\t AverageEpisodeLength = 6173.7001953125\n"
     ]
    },
    {
     "name": "stdout",
     "output_type": "stream",
     "text": [
      "254932 loss:0.6560992"
     ]
    },
    {
     "name": "stderr",
     "output_type": "stream",
     "text": [
      "INFO:absl: \n",
      "\t\t NumberOfEpisodes = 52\n",
      "\t\t EnvironmentSteps = 255001\n",
      "\t\t AverageReturn = -2192.5283203125\n",
      "\t\t AverageEpisodeLength = 6173.7001953125\n"
     ]
    },
    {
     "name": "stdout",
     "output_type": "stream",
     "text": [
      "255995 loss:0.7725366"
     ]
    },
    {
     "name": "stderr",
     "output_type": "stream",
     "text": [
      "INFO:absl: \n",
      "\t\t NumberOfEpisodes = 52\n",
      "\t\t EnvironmentSteps = 256001\n",
      "\t\t AverageReturn = -2192.5283203125\n",
      "\t\t AverageEpisodeLength = 6173.7001953125\n"
     ]
    },
    {
     "name": "stdout",
     "output_type": "stream",
     "text": [
      "256991 loss:1.2835819"
     ]
    },
    {
     "name": "stderr",
     "output_type": "stream",
     "text": [
      "INFO:absl: \n",
      "\t\t NumberOfEpisodes = 52\n",
      "\t\t EnvironmentSteps = 257001\n",
      "\t\t AverageReturn = -2192.5283203125\n",
      "\t\t AverageEpisodeLength = 6173.7001953125\n"
     ]
    },
    {
     "name": "stdout",
     "output_type": "stream",
     "text": [
      "257976 loss:1.3991437"
     ]
    },
    {
     "name": "stderr",
     "output_type": "stream",
     "text": [
      "INFO:absl: \n",
      "\t\t NumberOfEpisodes = 52\n",
      "\t\t EnvironmentSteps = 258001\n",
      "\t\t AverageReturn = -2192.5283203125\n",
      "\t\t AverageEpisodeLength = 6173.7001953125\n"
     ]
    },
    {
     "name": "stdout",
     "output_type": "stream",
     "text": [
      "258981 loss:1.0517734"
     ]
    },
    {
     "name": "stderr",
     "output_type": "stream",
     "text": [
      "INFO:absl: \n",
      "\t\t NumberOfEpisodes = 52\n",
      "\t\t EnvironmentSteps = 259001\n",
      "\t\t AverageReturn = -2192.5283203125\n",
      "\t\t AverageEpisodeLength = 6173.7001953125\n"
     ]
    },
    {
     "name": "stdout",
     "output_type": "stream",
     "text": [
      "259984 loss:1.4219974"
     ]
    },
    {
     "name": "stderr",
     "output_type": "stream",
     "text": [
      "INFO:absl: \n",
      "\t\t NumberOfEpisodes = 52\n",
      "\t\t EnvironmentSteps = 260001\n",
      "\t\t AverageReturn = -2192.5283203125\n",
      "\t\t AverageEpisodeLength = 6173.7001953125\n"
     ]
    },
    {
     "name": "stdout",
     "output_type": "stream",
     "text": [
      "260984 loss:2.2544903"
     ]
    },
    {
     "name": "stderr",
     "output_type": "stream",
     "text": [
      "INFO:absl: \n",
      "\t\t NumberOfEpisodes = 52\n",
      "\t\t EnvironmentSteps = 261001\n",
      "\t\t AverageReturn = -2192.5283203125\n",
      "\t\t AverageEpisodeLength = 6173.7001953125\n"
     ]
    },
    {
     "name": "stdout",
     "output_type": "stream",
     "text": [
      "261977 loss:1.0451089"
     ]
    },
    {
     "name": "stderr",
     "output_type": "stream",
     "text": [
      "INFO:absl: \n",
      "\t\t NumberOfEpisodes = 52\n",
      "\t\t EnvironmentSteps = 262001\n",
      "\t\t AverageReturn = -2192.5283203125\n",
      "\t\t AverageEpisodeLength = 6173.7001953125\n"
     ]
    },
    {
     "name": "stdout",
     "output_type": "stream",
     "text": [
      "262980 loss:1.1401913"
     ]
    },
    {
     "name": "stderr",
     "output_type": "stream",
     "text": [
      "INFO:absl: \n",
      "\t\t NumberOfEpisodes = 52\n",
      "\t\t EnvironmentSteps = 263001\n",
      "\t\t AverageReturn = -2192.5283203125\n",
      "\t\t AverageEpisodeLength = 6173.7001953125\n"
     ]
    },
    {
     "name": "stdout",
     "output_type": "stream",
     "text": [
      "263977 loss:0.5699700"
     ]
    },
    {
     "name": "stderr",
     "output_type": "stream",
     "text": [
      "INFO:absl: \n",
      "\t\t NumberOfEpisodes = 52\n",
      "\t\t EnvironmentSteps = 264001\n",
      "\t\t AverageReturn = -2192.5283203125\n",
      "\t\t AverageEpisodeLength = 6173.7001953125\n"
     ]
    },
    {
     "name": "stdout",
     "output_type": "stream",
     "text": [
      "264990 loss:0.6788916"
     ]
    },
    {
     "name": "stderr",
     "output_type": "stream",
     "text": [
      "INFO:absl: \n",
      "\t\t NumberOfEpisodes = 53\n",
      "\t\t EnvironmentSteps = 265001\n",
      "\t\t AverageReturn = -2414.790771484375\n",
      "\t\t AverageEpisodeLength = 6881.10009765625\n"
     ]
    },
    {
     "name": "stdout",
     "output_type": "stream",
     "text": [
      "265982 loss:1.1660392"
     ]
    },
    {
     "name": "stderr",
     "output_type": "stream",
     "text": [
      "INFO:absl: \n",
      "\t\t NumberOfEpisodes = 53\n",
      "\t\t EnvironmentSteps = 266001\n",
      "\t\t AverageReturn = -2414.790771484375\n",
      "\t\t AverageEpisodeLength = 6881.10009765625\n"
     ]
    },
    {
     "name": "stdout",
     "output_type": "stream",
     "text": [
      "266983 loss:1.7970479"
     ]
    },
    {
     "name": "stderr",
     "output_type": "stream",
     "text": [
      "INFO:absl: \n",
      "\t\t NumberOfEpisodes = 53\n",
      "\t\t EnvironmentSteps = 267001\n",
      "\t\t AverageReturn = -2414.790771484375\n",
      "\t\t AverageEpisodeLength = 6881.10009765625\n"
     ]
    },
    {
     "name": "stdout",
     "output_type": "stream",
     "text": [
      "267983 loss:1.0654275"
     ]
    },
    {
     "name": "stderr",
     "output_type": "stream",
     "text": [
      "INFO:absl: \n",
      "\t\t NumberOfEpisodes = 53\n",
      "\t\t EnvironmentSteps = 268001\n",
      "\t\t AverageReturn = -2414.790771484375\n",
      "\t\t AverageEpisodeLength = 6881.10009765625\n"
     ]
    },
    {
     "name": "stdout",
     "output_type": "stream",
     "text": [
      "268961 loss:0.7507087"
     ]
    },
    {
     "name": "stderr",
     "output_type": "stream",
     "text": [
      "INFO:absl: \n",
      "\t\t NumberOfEpisodes = 53\n",
      "\t\t EnvironmentSteps = 269001\n",
      "\t\t AverageReturn = -2414.790771484375\n",
      "\t\t AverageEpisodeLength = 6881.10009765625\n"
     ]
    },
    {
     "name": "stdout",
     "output_type": "stream",
     "text": [
      "269977 loss:0.9520477"
     ]
    },
    {
     "name": "stderr",
     "output_type": "stream",
     "text": [
      "INFO:absl: \n",
      "\t\t NumberOfEpisodes = 53\n",
      "\t\t EnvironmentSteps = 270001\n",
      "\t\t AverageReturn = -2414.790771484375\n",
      "\t\t AverageEpisodeLength = 6881.10009765625\n"
     ]
    },
    {
     "name": "stdout",
     "output_type": "stream",
     "text": [
      "270973 loss:1.0474480"
     ]
    },
    {
     "name": "stderr",
     "output_type": "stream",
     "text": [
      "INFO:absl: \n",
      "\t\t NumberOfEpisodes = 53\n",
      "\t\t EnvironmentSteps = 271001\n",
      "\t\t AverageReturn = -2414.790771484375\n",
      "\t\t AverageEpisodeLength = 6881.10009765625\n"
     ]
    },
    {
     "name": "stdout",
     "output_type": "stream",
     "text": [
      "271970 loss:0.3722351"
     ]
    },
    {
     "name": "stderr",
     "output_type": "stream",
     "text": [
      "INFO:absl: \n",
      "\t\t NumberOfEpisodes = 53\n",
      "\t\t EnvironmentSteps = 272001\n",
      "\t\t AverageReturn = -2414.790771484375\n",
      "\t\t AverageEpisodeLength = 6881.10009765625\n"
     ]
    },
    {
     "name": "stdout",
     "output_type": "stream",
     "text": [
      "272976 loss:0.7180941"
     ]
    },
    {
     "name": "stderr",
     "output_type": "stream",
     "text": [
      "INFO:absl: \n",
      "\t\t NumberOfEpisodes = 53\n",
      "\t\t EnvironmentSteps = 273001\n",
      "\t\t AverageReturn = -2414.790771484375\n",
      "\t\t AverageEpisodeLength = 6881.10009765625\n"
     ]
    },
    {
     "name": "stdout",
     "output_type": "stream",
     "text": [
      "273969 loss:0.8325462"
     ]
    },
    {
     "name": "stderr",
     "output_type": "stream",
     "text": [
      "INFO:absl: \n",
      "\t\t NumberOfEpisodes = 53\n",
      "\t\t EnvironmentSteps = 274001\n",
      "\t\t AverageReturn = -2414.790771484375\n",
      "\t\t AverageEpisodeLength = 6881.10009765625\n"
     ]
    },
    {
     "name": "stdout",
     "output_type": "stream",
     "text": [
      "274966 loss:0.8542849"
     ]
    },
    {
     "name": "stderr",
     "output_type": "stream",
     "text": [
      "INFO:absl: \n",
      "\t\t NumberOfEpisodes = 54\n",
      "\t\t EnvironmentSteps = 275001\n",
      "\t\t AverageReturn = -2618.83837890625\n",
      "\t\t AverageEpisodeLength = 7490.2001953125\n"
     ]
    },
    {
     "name": "stdout",
     "output_type": "stream",
     "text": [
      "275974 loss:1.4806617"
     ]
    },
    {
     "name": "stderr",
     "output_type": "stream",
     "text": [
      "INFO:absl: \n",
      "\t\t NumberOfEpisodes = 54\n",
      "\t\t EnvironmentSteps = 276001\n",
      "\t\t AverageReturn = -2618.83837890625\n",
      "\t\t AverageEpisodeLength = 7490.2001953125\n"
     ]
    },
    {
     "name": "stdout",
     "output_type": "stream",
     "text": [
      "276979 loss:0.9785629"
     ]
    },
    {
     "name": "stderr",
     "output_type": "stream",
     "text": [
      "INFO:absl: \n",
      "\t\t NumberOfEpisodes = 54\n",
      "\t\t EnvironmentSteps = 277001\n",
      "\t\t AverageReturn = -2618.83837890625\n",
      "\t\t AverageEpisodeLength = 7490.2001953125\n"
     ]
    },
    {
     "name": "stdout",
     "output_type": "stream",
     "text": [
      "277994 loss:1.4933829"
     ]
    },
    {
     "name": "stderr",
     "output_type": "stream",
     "text": [
      "INFO:absl: \n",
      "\t\t NumberOfEpisodes = 54\n",
      "\t\t EnvironmentSteps = 278001\n",
      "\t\t AverageReturn = -2618.83837890625\n",
      "\t\t AverageEpisodeLength = 7490.2001953125\n"
     ]
    },
    {
     "name": "stdout",
     "output_type": "stream",
     "text": [
      "278938 loss:1.3564752"
     ]
    },
    {
     "name": "stderr",
     "output_type": "stream",
     "text": [
      "INFO:absl: \n",
      "\t\t NumberOfEpisodes = 54\n",
      "\t\t EnvironmentSteps = 279001\n",
      "\t\t AverageReturn = -2618.83837890625\n",
      "\t\t AverageEpisodeLength = 7490.2001953125\n"
     ]
    },
    {
     "name": "stdout",
     "output_type": "stream",
     "text": [
      "279952 loss:1.1110380"
     ]
    },
    {
     "name": "stderr",
     "output_type": "stream",
     "text": [
      "INFO:absl: \n",
      "\t\t NumberOfEpisodes = 54\n",
      "\t\t EnvironmentSteps = 280001\n",
      "\t\t AverageReturn = -2618.83837890625\n",
      "\t\t AverageEpisodeLength = 7490.2001953125\n"
     ]
    },
    {
     "name": "stdout",
     "output_type": "stream",
     "text": [
      "280956 loss:0.8530302"
     ]
    },
    {
     "name": "stderr",
     "output_type": "stream",
     "text": [
      "INFO:absl: \n",
      "\t\t NumberOfEpisodes = 54\n",
      "\t\t EnvironmentSteps = 281001\n",
      "\t\t AverageReturn = -2618.83837890625\n",
      "\t\t AverageEpisodeLength = 7490.2001953125\n"
     ]
    },
    {
     "name": "stdout",
     "output_type": "stream",
     "text": [
      "281960 loss:1.5804532"
     ]
    },
    {
     "name": "stderr",
     "output_type": "stream",
     "text": [
      "INFO:absl: \n",
      "\t\t NumberOfEpisodes = 54\n",
      "\t\t EnvironmentSteps = 282001\n",
      "\t\t AverageReturn = -2618.83837890625\n",
      "\t\t AverageEpisodeLength = 7490.2001953125\n"
     ]
    },
    {
     "name": "stdout",
     "output_type": "stream",
     "text": [
      "282954 loss:1.0262135"
     ]
    },
    {
     "name": "stderr",
     "output_type": "stream",
     "text": [
      "INFO:absl: \n",
      "\t\t NumberOfEpisodes = 54\n",
      "\t\t EnvironmentSteps = 283001\n",
      "\t\t AverageReturn = -2618.83837890625\n",
      "\t\t AverageEpisodeLength = 7490.2001953125\n"
     ]
    },
    {
     "name": "stdout",
     "output_type": "stream",
     "text": [
      "283978 loss:1.4056065"
     ]
    },
    {
     "name": "stderr",
     "output_type": "stream",
     "text": [
      "INFO:absl: \n",
      "\t\t NumberOfEpisodes = 54\n",
      "\t\t EnvironmentSteps = 284001\n",
      "\t\t AverageReturn = -2618.83837890625\n",
      "\t\t AverageEpisodeLength = 7490.2001953125\n"
     ]
    },
    {
     "name": "stdout",
     "output_type": "stream",
     "text": [
      "284940 loss:0.5275354"
     ]
    },
    {
     "name": "stderr",
     "output_type": "stream",
     "text": [
      "INFO:absl: \n",
      "\t\t NumberOfEpisodes = 55\n",
      "\t\t EnvironmentSteps = 285001\n",
      "\t\t AverageReturn = -2956.72021484375\n",
      "\t\t AverageEpisodeLength = 8259.2998046875\n"
     ]
    },
    {
     "name": "stdout",
     "output_type": "stream",
     "text": [
      "285935 loss:0.9686056"
     ]
    },
    {
     "name": "stderr",
     "output_type": "stream",
     "text": [
      "INFO:absl: \n",
      "\t\t NumberOfEpisodes = 55\n",
      "\t\t EnvironmentSteps = 286001\n",
      "\t\t AverageReturn = -2956.72021484375\n",
      "\t\t AverageEpisodeLength = 8259.2998046875\n"
     ]
    },
    {
     "name": "stdout",
     "output_type": "stream",
     "text": [
      "286986 loss:0.7629788"
     ]
    },
    {
     "name": "stderr",
     "output_type": "stream",
     "text": [
      "INFO:absl: \n",
      "\t\t NumberOfEpisodes = 55\n",
      "\t\t EnvironmentSteps = 287001\n",
      "\t\t AverageReturn = -2956.72021484375\n",
      "\t\t AverageEpisodeLength = 8259.2998046875\n"
     ]
    },
    {
     "name": "stdout",
     "output_type": "stream",
     "text": [
      "287929 loss:0.8711287"
     ]
    },
    {
     "name": "stderr",
     "output_type": "stream",
     "text": [
      "INFO:absl: \n",
      "\t\t NumberOfEpisodes = 55\n",
      "\t\t EnvironmentSteps = 288001\n",
      "\t\t AverageReturn = -2956.72021484375\n",
      "\t\t AverageEpisodeLength = 8259.2998046875\n"
     ]
    },
    {
     "name": "stdout",
     "output_type": "stream",
     "text": [
      "288965 loss:1.5860157"
     ]
    },
    {
     "name": "stderr",
     "output_type": "stream",
     "text": [
      "INFO:absl: \n",
      "\t\t NumberOfEpisodes = 55\n",
      "\t\t EnvironmentSteps = 289001\n",
      "\t\t AverageReturn = -2956.72021484375\n",
      "\t\t AverageEpisodeLength = 8259.2998046875\n"
     ]
    },
    {
     "name": "stdout",
     "output_type": "stream",
     "text": [
      "289945 loss:1.2203602"
     ]
    },
    {
     "name": "stderr",
     "output_type": "stream",
     "text": [
      "INFO:absl: \n",
      "\t\t NumberOfEpisodes = 55\n",
      "\t\t EnvironmentSteps = 290001\n",
      "\t\t AverageReturn = -2956.72021484375\n",
      "\t\t AverageEpisodeLength = 8259.2998046875\n"
     ]
    },
    {
     "name": "stdout",
     "output_type": "stream",
     "text": [
      "290965 loss:1.1922023"
     ]
    },
    {
     "name": "stderr",
     "output_type": "stream",
     "text": [
      "INFO:absl: \n",
      "\t\t NumberOfEpisodes = 55\n",
      "\t\t EnvironmentSteps = 291001\n",
      "\t\t AverageReturn = -2956.72021484375\n",
      "\t\t AverageEpisodeLength = 8259.2998046875\n"
     ]
    },
    {
     "name": "stdout",
     "output_type": "stream",
     "text": [
      "291969 loss:0.9798518"
     ]
    },
    {
     "name": "stderr",
     "output_type": "stream",
     "text": [
      "INFO:absl: \n",
      "\t\t NumberOfEpisodes = 56\n",
      "\t\t EnvironmentSteps = 292001\n",
      "\t\t AverageReturn = -3066.787841796875\n",
      "\t\t AverageEpisodeLength = 8505.900390625\n"
     ]
    },
    {
     "name": "stdout",
     "output_type": "stream",
     "text": [
      "292954 loss:1.4121938"
     ]
    },
    {
     "name": "stderr",
     "output_type": "stream",
     "text": [
      "INFO:absl: \n",
      "\t\t NumberOfEpisodes = 56\n",
      "\t\t EnvironmentSteps = 293001\n",
      "\t\t AverageReturn = -3066.787841796875\n",
      "\t\t AverageEpisodeLength = 8505.900390625\n"
     ]
    },
    {
     "name": "stdout",
     "output_type": "stream",
     "text": [
      "293986 loss:1.5661104"
     ]
    },
    {
     "name": "stderr",
     "output_type": "stream",
     "text": [
      "INFO:absl: \n",
      "\t\t NumberOfEpisodes = 56\n",
      "\t\t EnvironmentSteps = 294001\n",
      "\t\t AverageReturn = -3066.787841796875\n",
      "\t\t AverageEpisodeLength = 8505.900390625\n"
     ]
    },
    {
     "name": "stdout",
     "output_type": "stream",
     "text": [
      "294979 loss:1.0520345"
     ]
    },
    {
     "name": "stderr",
     "output_type": "stream",
     "text": [
      "INFO:absl: \n",
      "\t\t NumberOfEpisodes = 56\n",
      "\t\t EnvironmentSteps = 295001\n",
      "\t\t AverageReturn = -3066.787841796875\n",
      "\t\t AverageEpisodeLength = 8505.900390625\n"
     ]
    },
    {
     "name": "stdout",
     "output_type": "stream",
     "text": [
      "295947 loss:1.4210625"
     ]
    },
    {
     "name": "stderr",
     "output_type": "stream",
     "text": [
      "INFO:absl: \n",
      "\t\t NumberOfEpisodes = 56\n",
      "\t\t EnvironmentSteps = 296001\n",
      "\t\t AverageReturn = -3066.787841796875\n",
      "\t\t AverageEpisodeLength = 8505.900390625\n"
     ]
    },
    {
     "name": "stdout",
     "output_type": "stream",
     "text": [
      "296935 loss:0.6322200"
     ]
    },
    {
     "name": "stderr",
     "output_type": "stream",
     "text": [
      "INFO:absl: \n",
      "\t\t NumberOfEpisodes = 56\n",
      "\t\t EnvironmentSteps = 297001\n",
      "\t\t AverageReturn = -3066.787841796875\n",
      "\t\t AverageEpisodeLength = 8505.900390625\n"
     ]
    },
    {
     "name": "stdout",
     "output_type": "stream",
     "text": [
      "297957 loss:0.7455696"
     ]
    },
    {
     "name": "stderr",
     "output_type": "stream",
     "text": [
      "INFO:absl: \n",
      "\t\t NumberOfEpisodes = 56\n",
      "\t\t EnvironmentSteps = 298001\n",
      "\t\t AverageReturn = -3066.787841796875\n",
      "\t\t AverageEpisodeLength = 8505.900390625\n"
     ]
    },
    {
     "name": "stdout",
     "output_type": "stream",
     "text": [
      "298970 loss:1.2838996"
     ]
    },
    {
     "name": "stderr",
     "output_type": "stream",
     "text": [
      "INFO:absl: \n",
      "\t\t NumberOfEpisodes = 56\n",
      "\t\t EnvironmentSteps = 299001\n",
      "\t\t AverageReturn = -3066.787841796875\n",
      "\t\t AverageEpisodeLength = 8505.900390625\n"
     ]
    },
    {
     "name": "stdout",
     "output_type": "stream",
     "text": [
      "299995 loss:0.7970164"
     ]
    },
    {
     "name": "stderr",
     "output_type": "stream",
     "text": [
      "INFO:absl: \n",
      "\t\t NumberOfEpisodes = 56\n",
      "\t\t EnvironmentSteps = 300001\n",
      "\t\t AverageReturn = -3066.787841796875\n",
      "\t\t AverageEpisodeLength = 8505.900390625\n"
     ]
    },
    {
     "name": "stdout",
     "output_type": "stream",
     "text": [
      "300974 loss:1.1139393"
     ]
    },
    {
     "name": "stderr",
     "output_type": "stream",
     "text": [
      "INFO:absl: \n",
      "\t\t NumberOfEpisodes = 56\n",
      "\t\t EnvironmentSteps = 301001\n",
      "\t\t AverageReturn = -3066.787841796875\n",
      "\t\t AverageEpisodeLength = 8505.900390625\n"
     ]
    },
    {
     "name": "stdout",
     "output_type": "stream",
     "text": [
      "301958 loss:0.9487062"
     ]
    },
    {
     "name": "stderr",
     "output_type": "stream",
     "text": [
      "INFO:absl: \n",
      "\t\t NumberOfEpisodes = 57\n",
      "\t\t EnvironmentSteps = 302001\n",
      "\t\t AverageReturn = -3485.66943359375\n",
      "\t\t AverageEpisodeLength = 9505.7998046875\n"
     ]
    },
    {
     "name": "stdout",
     "output_type": "stream",
     "text": [
      "302930 loss:0.8370413"
     ]
    },
    {
     "name": "stderr",
     "output_type": "stream",
     "text": [
      "INFO:absl: \n",
      "\t\t NumberOfEpisodes = 57\n",
      "\t\t EnvironmentSteps = 303001\n",
      "\t\t AverageReturn = -3485.66943359375\n",
      "\t\t AverageEpisodeLength = 9505.7998046875\n"
     ]
    },
    {
     "name": "stdout",
     "output_type": "stream",
     "text": [
      "303958 loss:0.9095921"
     ]
    },
    {
     "name": "stderr",
     "output_type": "stream",
     "text": [
      "INFO:absl: \n",
      "\t\t NumberOfEpisodes = 57\n",
      "\t\t EnvironmentSteps = 304001\n",
      "\t\t AverageReturn = -3485.66943359375\n",
      "\t\t AverageEpisodeLength = 9505.7998046875\n"
     ]
    },
    {
     "name": "stdout",
     "output_type": "stream",
     "text": [
      "304948 loss:0.9156097"
     ]
    },
    {
     "name": "stderr",
     "output_type": "stream",
     "text": [
      "INFO:absl: \n",
      "\t\t NumberOfEpisodes = 57\n",
      "\t\t EnvironmentSteps = 305001\n",
      "\t\t AverageReturn = -3485.66943359375\n",
      "\t\t AverageEpisodeLength = 9505.7998046875\n"
     ]
    },
    {
     "name": "stdout",
     "output_type": "stream",
     "text": [
      "305942 loss:0.64140"
     ]
    },
    {
     "name": "stderr",
     "output_type": "stream",
     "text": [
      "INFO:absl: \n",
      "\t\t NumberOfEpisodes = 57\n",
      "\t\t EnvironmentSteps = 306001\n",
      "\t\t AverageReturn = -3485.66943359375\n",
      "\t\t AverageEpisodeLength = 9505.7998046875\n"
     ]
    },
    {
     "name": "stdout",
     "output_type": "stream",
     "text": [
      "306998 loss:0.6616211"
     ]
    },
    {
     "name": "stderr",
     "output_type": "stream",
     "text": [
      "INFO:absl: \n",
      "\t\t NumberOfEpisodes = 57\n",
      "\t\t EnvironmentSteps = 307001\n",
      "\t\t AverageReturn = -3485.66943359375\n",
      "\t\t AverageEpisodeLength = 9505.7998046875\n"
     ]
    },
    {
     "name": "stdout",
     "output_type": "stream",
     "text": [
      "307960 loss:0.9617725"
     ]
    },
    {
     "name": "stderr",
     "output_type": "stream",
     "text": [
      "INFO:absl: \n",
      "\t\t NumberOfEpisodes = 57\n",
      "\t\t EnvironmentSteps = 308001\n",
      "\t\t AverageReturn = -3485.66943359375\n",
      "\t\t AverageEpisodeLength = 9505.7998046875\n"
     ]
    },
    {
     "name": "stdout",
     "output_type": "stream",
     "text": [
      "308965 loss:1.4728182"
     ]
    },
    {
     "name": "stderr",
     "output_type": "stream",
     "text": [
      "INFO:absl: \n",
      "\t\t NumberOfEpisodes = 57\n",
      "\t\t EnvironmentSteps = 309001\n",
      "\t\t AverageReturn = -3485.66943359375\n",
      "\t\t AverageEpisodeLength = 9505.7998046875\n"
     ]
    },
    {
     "name": "stdout",
     "output_type": "stream",
     "text": [
      "309988 loss:0.7467554"
     ]
    },
    {
     "name": "stderr",
     "output_type": "stream",
     "text": [
      "INFO:absl: \n",
      "\t\t NumberOfEpisodes = 57\n",
      "\t\t EnvironmentSteps = 310001\n",
      "\t\t AverageReturn = -3485.66943359375\n",
      "\t\t AverageEpisodeLength = 9505.7998046875\n"
     ]
    },
    {
     "name": "stdout",
     "output_type": "stream",
     "text": [
      "310952 loss:1.77040"
     ]
    },
    {
     "name": "stderr",
     "output_type": "stream",
     "text": [
      "INFO:absl: \n",
      "\t\t NumberOfEpisodes = 57\n",
      "\t\t EnvironmentSteps = 311001\n",
      "\t\t AverageReturn = -3485.66943359375\n",
      "\t\t AverageEpisodeLength = 9505.7998046875\n"
     ]
    },
    {
     "name": "stdout",
     "output_type": "stream",
     "text": [
      "311990 loss:1.5301919"
     ]
    },
    {
     "name": "stderr",
     "output_type": "stream",
     "text": [
      "INFO:absl: \n",
      "\t\t NumberOfEpisodes = 58\n",
      "\t\t EnvironmentSteps = 312001\n",
      "\t\t AverageReturn = -3502.4140625\n",
      "\t\t AverageEpisodeLength = 9663.2998046875\n"
     ]
    },
    {
     "name": "stdout",
     "output_type": "stream",
     "text": [
      "312986 loss:0.51400"
     ]
    },
    {
     "name": "stderr",
     "output_type": "stream",
     "text": [
      "INFO:absl: \n",
      "\t\t NumberOfEpisodes = 58\n",
      "\t\t EnvironmentSteps = 313001\n",
      "\t\t AverageReturn = -3502.4140625\n",
      "\t\t AverageEpisodeLength = 9663.2998046875\n"
     ]
    },
    {
     "name": "stdout",
     "output_type": "stream",
     "text": [
      "313973 loss:1.53602"
     ]
    },
    {
     "name": "stderr",
     "output_type": "stream",
     "text": [
      "INFO:absl: \n",
      "\t\t NumberOfEpisodes = 58\n",
      "\t\t EnvironmentSteps = 314001\n",
      "\t\t AverageReturn = -3502.4140625\n",
      "\t\t AverageEpisodeLength = 9663.2998046875\n"
     ]
    },
    {
     "name": "stdout",
     "output_type": "stream",
     "text": [
      "314965 loss:0.7049830"
     ]
    },
    {
     "name": "stderr",
     "output_type": "stream",
     "text": [
      "INFO:absl: \n",
      "\t\t NumberOfEpisodes = 59\n",
      "\t\t EnvironmentSteps = 315001\n",
      "\t\t AverageReturn = -3352.306640625\n",
      "\t\t AverageEpisodeLength = 8922.7998046875\n"
     ]
    },
    {
     "name": "stdout",
     "output_type": "stream",
     "text": [
      "315969 loss:0.67794"
     ]
    },
    {
     "name": "stderr",
     "output_type": "stream",
     "text": [
      "INFO:absl: \n",
      "\t\t NumberOfEpisodes = 59\n",
      "\t\t EnvironmentSteps = 316001\n",
      "\t\t AverageReturn = -3352.306640625\n",
      "\t\t AverageEpisodeLength = 8922.7998046875\n"
     ]
    },
    {
     "name": "stdout",
     "output_type": "stream",
     "text": [
      "316950 loss:1.09260"
     ]
    },
    {
     "name": "stderr",
     "output_type": "stream",
     "text": [
      "INFO:absl: \n",
      "\t\t NumberOfEpisodes = 59\n",
      "\t\t EnvironmentSteps = 317001\n",
      "\t\t AverageReturn = -3352.306640625\n",
      "\t\t AverageEpisodeLength = 8922.7998046875\n"
     ]
    },
    {
     "name": "stdout",
     "output_type": "stream",
     "text": [
      "317993 loss:2.23515"
     ]
    },
    {
     "name": "stderr",
     "output_type": "stream",
     "text": [
      "INFO:absl: \n",
      "\t\t NumberOfEpisodes = 59\n",
      "\t\t EnvironmentSteps = 318001\n",
      "\t\t AverageReturn = -3352.306640625\n",
      "\t\t AverageEpisodeLength = 8922.7998046875\n"
     ]
    },
    {
     "name": "stdout",
     "output_type": "stream",
     "text": [
      "318944 loss:0.5889550"
     ]
    },
    {
     "name": "stderr",
     "output_type": "stream",
     "text": [
      "INFO:absl: \n",
      "\t\t NumberOfEpisodes = 59\n",
      "\t\t EnvironmentSteps = 319001\n",
      "\t\t AverageReturn = -3352.306640625\n",
      "\t\t AverageEpisodeLength = 8922.7998046875\n"
     ]
    },
    {
     "name": "stdout",
     "output_type": "stream",
     "text": [
      "319935 loss:2.25343"
     ]
    },
    {
     "name": "stderr",
     "output_type": "stream",
     "text": [
      "INFO:absl: \n",
      "\t\t NumberOfEpisodes = 59\n",
      "\t\t EnvironmentSteps = 320001\n",
      "\t\t AverageReturn = -3352.306640625\n",
      "\t\t AverageEpisodeLength = 8922.7998046875\n"
     ]
    },
    {
     "name": "stdout",
     "output_type": "stream",
     "text": [
      "320991 loss:1.2738649"
     ]
    },
    {
     "name": "stderr",
     "output_type": "stream",
     "text": [
      "INFO:absl: \n",
      "\t\t NumberOfEpisodes = 59\n",
      "\t\t EnvironmentSteps = 321001\n",
      "\t\t AverageReturn = -3352.306640625\n",
      "\t\t AverageEpisodeLength = 8922.7998046875\n"
     ]
    },
    {
     "name": "stdout",
     "output_type": "stream",
     "text": [
      "321979 loss:1.4545258"
     ]
    },
    {
     "name": "stderr",
     "output_type": "stream",
     "text": [
      "INFO:absl: \n",
      "\t\t NumberOfEpisodes = 59\n",
      "\t\t EnvironmentSteps = 322001\n",
      "\t\t AverageReturn = -3352.306640625\n",
      "\t\t AverageEpisodeLength = 8922.7998046875\n"
     ]
    },
    {
     "name": "stdout",
     "output_type": "stream",
     "text": [
      "322947 loss:1.1703283"
     ]
    },
    {
     "name": "stderr",
     "output_type": "stream",
     "text": [
      "INFO:absl: \n",
      "\t\t NumberOfEpisodes = 59\n",
      "\t\t EnvironmentSteps = 323001\n",
      "\t\t AverageReturn = -3352.306640625\n",
      "\t\t AverageEpisodeLength = 8922.7998046875\n"
     ]
    },
    {
     "name": "stdout",
     "output_type": "stream",
     "text": [
      "323929 loss:0.9498138"
     ]
    },
    {
     "name": "stderr",
     "output_type": "stream",
     "text": [
      "INFO:absl: \n",
      "\t\t NumberOfEpisodes = 59\n",
      "\t\t EnvironmentSteps = 324001\n",
      "\t\t AverageReturn = -3352.306640625\n",
      "\t\t AverageEpisodeLength = 8922.7998046875\n"
     ]
    },
    {
     "name": "stdout",
     "output_type": "stream",
     "text": [
      "324991 loss:0.5666805"
     ]
    },
    {
     "name": "stderr",
     "output_type": "stream",
     "text": [
      "INFO:absl: \n",
      "\t\t NumberOfEpisodes = 60\n",
      "\t\t EnvironmentSteps = 325001\n",
      "\t\t AverageReturn = -3342.05810546875\n",
      "\t\t AverageEpisodeLength = 8922.7998046875\n"
     ]
    },
    {
     "name": "stdout",
     "output_type": "stream",
     "text": [
      "325944 loss:0.7541391"
     ]
    },
    {
     "name": "stderr",
     "output_type": "stream",
     "text": [
      "INFO:absl: \n",
      "\t\t NumberOfEpisodes = 60\n",
      "\t\t EnvironmentSteps = 326001\n",
      "\t\t AverageReturn = -3342.05810546875\n",
      "\t\t AverageEpisodeLength = 8922.7998046875\n"
     ]
    },
    {
     "name": "stdout",
     "output_type": "stream",
     "text": [
      "326976 loss:1.68689"
     ]
    },
    {
     "name": "stderr",
     "output_type": "stream",
     "text": [
      "INFO:absl: \n",
      "\t\t NumberOfEpisodes = 60\n",
      "\t\t EnvironmentSteps = 327001\n",
      "\t\t AverageReturn = -3342.05810546875\n",
      "\t\t AverageEpisodeLength = 8922.7998046875\n"
     ]
    },
    {
     "name": "stdout",
     "output_type": "stream",
     "text": [
      "327976 loss:1.3197386"
     ]
    },
    {
     "name": "stderr",
     "output_type": "stream",
     "text": [
      "INFO:absl: \n",
      "\t\t NumberOfEpisodes = 60\n",
      "\t\t EnvironmentSteps = 328001\n",
      "\t\t AverageReturn = -3342.05810546875\n",
      "\t\t AverageEpisodeLength = 8922.7998046875\n"
     ]
    },
    {
     "name": "stdout",
     "output_type": "stream",
     "text": [
      "328986 loss:0.57385"
     ]
    },
    {
     "name": "stderr",
     "output_type": "stream",
     "text": [
      "INFO:absl: \n",
      "\t\t NumberOfEpisodes = 60\n",
      "\t\t EnvironmentSteps = 329001\n",
      "\t\t AverageReturn = -3342.05810546875\n",
      "\t\t AverageEpisodeLength = 8922.7998046875\n"
     ]
    },
    {
     "name": "stdout",
     "output_type": "stream",
     "text": [
      "329966 loss:1.0806961"
     ]
    },
    {
     "name": "stderr",
     "output_type": "stream",
     "text": [
      "INFO:absl: \n",
      "\t\t NumberOfEpisodes = 60\n",
      "\t\t EnvironmentSteps = 330001\n",
      "\t\t AverageReturn = -3342.05810546875\n",
      "\t\t AverageEpisodeLength = 8922.7998046875\n"
     ]
    },
    {
     "name": "stdout",
     "output_type": "stream",
     "text": [
      "330988 loss:1.2173385"
     ]
    },
    {
     "name": "stderr",
     "output_type": "stream",
     "text": [
      "INFO:absl: \n",
      "\t\t NumberOfEpisodes = 60\n",
      "\t\t EnvironmentSteps = 331001\n",
      "\t\t AverageReturn = -3342.05810546875\n",
      "\t\t AverageEpisodeLength = 8922.7998046875\n"
     ]
    },
    {
     "name": "stdout",
     "output_type": "stream",
     "text": [
      "331972 loss:0.5581930"
     ]
    },
    {
     "name": "stderr",
     "output_type": "stream",
     "text": [
      "INFO:absl: \n",
      "\t\t NumberOfEpisodes = 60\n",
      "\t\t EnvironmentSteps = 332001\n",
      "\t\t AverageReturn = -3342.05810546875\n",
      "\t\t AverageEpisodeLength = 8922.7998046875\n"
     ]
    },
    {
     "name": "stdout",
     "output_type": "stream",
     "text": [
      "332975 loss:0.4565017"
     ]
    },
    {
     "name": "stderr",
     "output_type": "stream",
     "text": [
      "INFO:absl: \n",
      "\t\t NumberOfEpisodes = 60\n",
      "\t\t EnvironmentSteps = 333001\n",
      "\t\t AverageReturn = -3342.05810546875\n",
      "\t\t AverageEpisodeLength = 8922.7998046875\n"
     ]
    },
    {
     "name": "stdout",
     "output_type": "stream",
     "text": [
      "333997 loss:0.8811040"
     ]
    },
    {
     "name": "stderr",
     "output_type": "stream",
     "text": [
      "INFO:absl: \n",
      "\t\t NumberOfEpisodes = 61\n",
      "\t\t EnvironmentSteps = 334001\n",
      "\t\t AverageReturn = -3243.794189453125\n",
      "\t\t AverageEpisodeLength = 8891.7001953125\n"
     ]
    },
    {
     "name": "stdout",
     "output_type": "stream",
     "text": [
      "334948 loss:1.55721"
     ]
    },
    {
     "name": "stderr",
     "output_type": "stream",
     "text": [
      "INFO:absl: \n",
      "\t\t NumberOfEpisodes = 61\n",
      "\t\t EnvironmentSteps = 335001\n",
      "\t\t AverageReturn = -3243.794189453125\n",
      "\t\t AverageEpisodeLength = 8891.7001953125\n"
     ]
    },
    {
     "name": "stdout",
     "output_type": "stream",
     "text": [
      "335963 loss:0.80052"
     ]
    },
    {
     "name": "stderr",
     "output_type": "stream",
     "text": [
      "INFO:absl: \n",
      "\t\t NumberOfEpisodes = 61\n",
      "\t\t EnvironmentSteps = 336001\n",
      "\t\t AverageReturn = -3243.794189453125\n",
      "\t\t AverageEpisodeLength = 8891.7001953125\n"
     ]
    },
    {
     "name": "stdout",
     "output_type": "stream",
     "text": [
      "336971 loss:0.64217"
     ]
    },
    {
     "name": "stderr",
     "output_type": "stream",
     "text": [
      "INFO:absl: \n",
      "\t\t NumberOfEpisodes = 61\n",
      "\t\t EnvironmentSteps = 337001\n",
      "\t\t AverageReturn = -3243.794189453125\n",
      "\t\t AverageEpisodeLength = 8891.7001953125\n"
     ]
    },
    {
     "name": "stdout",
     "output_type": "stream",
     "text": [
      "337949 loss:0.4319758"
     ]
    },
    {
     "name": "stderr",
     "output_type": "stream",
     "text": [
      "INFO:absl: \n",
      "\t\t NumberOfEpisodes = 61\n",
      "\t\t EnvironmentSteps = 338001\n",
      "\t\t AverageReturn = -3243.794189453125\n",
      "\t\t AverageEpisodeLength = 8891.7001953125\n"
     ]
    },
    {
     "name": "stdout",
     "output_type": "stream",
     "text": [
      "338971 loss:0.5664105"
     ]
    },
    {
     "name": "stderr",
     "output_type": "stream",
     "text": [
      "INFO:absl: \n",
      "\t\t NumberOfEpisodes = 61\n",
      "\t\t EnvironmentSteps = 339001\n",
      "\t\t AverageReturn = -3243.794189453125\n",
      "\t\t AverageEpisodeLength = 8891.7001953125\n"
     ]
    },
    {
     "name": "stdout",
     "output_type": "stream",
     "text": [
      "339945 loss:1.1002387"
     ]
    },
    {
     "name": "stderr",
     "output_type": "stream",
     "text": [
      "INFO:absl: \n",
      "\t\t NumberOfEpisodes = 61\n",
      "\t\t EnvironmentSteps = 340001\n",
      "\t\t AverageReturn = -3243.794189453125\n",
      "\t\t AverageEpisodeLength = 8891.7001953125\n"
     ]
    },
    {
     "name": "stdout",
     "output_type": "stream",
     "text": [
      "340998 loss:0.72484"
     ]
    },
    {
     "name": "stderr",
     "output_type": "stream",
     "text": [
      "INFO:absl: \n",
      "\t\t NumberOfEpisodes = 61\n",
      "\t\t EnvironmentSteps = 341001\n",
      "\t\t AverageReturn = -3243.794189453125\n",
      "\t\t AverageEpisodeLength = 8891.7001953125\n"
     ]
    },
    {
     "name": "stdout",
     "output_type": "stream",
     "text": [
      "341981 loss:0.3180882"
     ]
    },
    {
     "name": "stderr",
     "output_type": "stream",
     "text": [
      "INFO:absl: \n",
      "\t\t NumberOfEpisodes = 61\n",
      "\t\t EnvironmentSteps = 342001\n",
      "\t\t AverageReturn = -3243.794189453125\n",
      "\t\t AverageEpisodeLength = 8891.7001953125\n"
     ]
    },
    {
     "name": "stdout",
     "output_type": "stream",
     "text": [
      "342962 loss:0.9935626"
     ]
    },
    {
     "name": "stderr",
     "output_type": "stream",
     "text": [
      "INFO:absl: \n",
      "\t\t NumberOfEpisodes = 61\n",
      "\t\t EnvironmentSteps = 343001\n",
      "\t\t AverageReturn = -3243.794189453125\n",
      "\t\t AverageEpisodeLength = 8891.7001953125\n"
     ]
    },
    {
     "name": "stdout",
     "output_type": "stream",
     "text": [
      "343924 loss:0.9271321"
     ]
    },
    {
     "name": "stderr",
     "output_type": "stream",
     "text": [
      "INFO:absl: \n",
      "\t\t NumberOfEpisodes = 62\n",
      "\t\t EnvironmentSteps = 344001\n",
      "\t\t AverageReturn = -3158.666015625\n",
      "\t\t AverageEpisodeLength = 8891.7001953125\n"
     ]
    },
    {
     "name": "stdout",
     "output_type": "stream",
     "text": [
      "344998 loss:1.0218078"
     ]
    },
    {
     "name": "stderr",
     "output_type": "stream",
     "text": [
      "INFO:absl: \n",
      "\t\t NumberOfEpisodes = 62\n",
      "\t\t EnvironmentSteps = 345001\n",
      "\t\t AverageReturn = -3158.666015625\n",
      "\t\t AverageEpisodeLength = 8891.7001953125\n"
     ]
    },
    {
     "name": "stdout",
     "output_type": "stream",
     "text": [
      "345981 loss:0.9213911"
     ]
    },
    {
     "name": "stderr",
     "output_type": "stream",
     "text": [
      "INFO:absl: \n",
      "\t\t NumberOfEpisodes = 62\n",
      "\t\t EnvironmentSteps = 346001\n",
      "\t\t AverageReturn = -3158.666015625\n",
      "\t\t AverageEpisodeLength = 8891.7001953125\n"
     ]
    },
    {
     "name": "stdout",
     "output_type": "stream",
     "text": [
      "346957 loss:1.0393137"
     ]
    },
    {
     "name": "stderr",
     "output_type": "stream",
     "text": [
      "INFO:absl: \n",
      "\t\t NumberOfEpisodes = 62\n",
      "\t\t EnvironmentSteps = 347001\n",
      "\t\t AverageReturn = -3158.666015625\n",
      "\t\t AverageEpisodeLength = 8891.7001953125\n"
     ]
    },
    {
     "name": "stdout",
     "output_type": "stream",
     "text": [
      "347960 loss:0.9121358"
     ]
    },
    {
     "name": "stderr",
     "output_type": "stream",
     "text": [
      "INFO:absl: \n",
      "\t\t NumberOfEpisodes = 63\n",
      "\t\t EnvironmentSteps = 348001\n",
      "\t\t AverageReturn = -2937.080810546875\n",
      "\t\t AverageEpisodeLength = 8239.7998046875\n"
     ]
    },
    {
     "name": "stdout",
     "output_type": "stream",
     "text": [
      "348931 loss:0.8489626"
     ]
    },
    {
     "name": "stderr",
     "output_type": "stream",
     "text": [
      "INFO:absl: \n",
      "\t\t NumberOfEpisodes = 63\n",
      "\t\t EnvironmentSteps = 349001\n",
      "\t\t AverageReturn = -2937.080810546875\n",
      "\t\t AverageEpisodeLength = 8239.7998046875\n"
     ]
    },
    {
     "name": "stdout",
     "output_type": "stream",
     "text": [
      "349943 loss:0.6867875"
     ]
    },
    {
     "name": "stderr",
     "output_type": "stream",
     "text": [
      "INFO:absl: \n",
      "\t\t NumberOfEpisodes = 63\n",
      "\t\t EnvironmentSteps = 350001\n",
      "\t\t AverageReturn = -2937.080810546875\n",
      "\t\t AverageEpisodeLength = 8239.7998046875\n"
     ]
    },
    {
     "name": "stdout",
     "output_type": "stream",
     "text": [
      "350989 loss:0.65255"
     ]
    },
    {
     "name": "stderr",
     "output_type": "stream",
     "text": [
      "INFO:absl: \n",
      "\t\t NumberOfEpisodes = 63\n",
      "\t\t EnvironmentSteps = 351001\n",
      "\t\t AverageReturn = -2937.080810546875\n",
      "\t\t AverageEpisodeLength = 8239.7998046875\n"
     ]
    },
    {
     "name": "stdout",
     "output_type": "stream",
     "text": [
      "351984 loss:0.5892953"
     ]
    },
    {
     "name": "stderr",
     "output_type": "stream",
     "text": [
      "INFO:absl: \n",
      "\t\t NumberOfEpisodes = 63\n",
      "\t\t EnvironmentSteps = 352001\n",
      "\t\t AverageReturn = -2937.080810546875\n",
      "\t\t AverageEpisodeLength = 8239.7998046875\n"
     ]
    },
    {
     "name": "stdout",
     "output_type": "stream",
     "text": [
      "352936 loss:0.9112178"
     ]
    },
    {
     "name": "stderr",
     "output_type": "stream",
     "text": [
      "INFO:absl: \n",
      "\t\t NumberOfEpisodes = 63\n",
      "\t\t EnvironmentSteps = 353001\n",
      "\t\t AverageReturn = -2937.080810546875\n",
      "\t\t AverageEpisodeLength = 8239.7998046875\n"
     ]
    },
    {
     "name": "stdout",
     "output_type": "stream",
     "text": [
      "353986 loss:0.7545136"
     ]
    },
    {
     "name": "stderr",
     "output_type": "stream",
     "text": [
      "INFO:absl: \n",
      "\t\t NumberOfEpisodes = 63\n",
      "\t\t EnvironmentSteps = 354001\n",
      "\t\t AverageReturn = -2937.080810546875\n",
      "\t\t AverageEpisodeLength = 8239.7998046875\n"
     ]
    },
    {
     "name": "stdout",
     "output_type": "stream",
     "text": [
      "354977 loss:1.1758503"
     ]
    },
    {
     "name": "stderr",
     "output_type": "stream",
     "text": [
      "INFO:absl: \n",
      "\t\t NumberOfEpisodes = 63\n",
      "\t\t EnvironmentSteps = 355001\n",
      "\t\t AverageReturn = -2937.080810546875\n",
      "\t\t AverageEpisodeLength = 8239.7998046875\n"
     ]
    },
    {
     "name": "stdout",
     "output_type": "stream",
     "text": [
      "355979 loss:0.2887237"
     ]
    },
    {
     "name": "stderr",
     "output_type": "stream",
     "text": [
      "INFO:absl: \n",
      "\t\t NumberOfEpisodes = 63\n",
      "\t\t EnvironmentSteps = 356001\n",
      "\t\t AverageReturn = -2937.080810546875\n",
      "\t\t AverageEpisodeLength = 8239.7998046875\n"
     ]
    },
    {
     "name": "stdout",
     "output_type": "stream",
     "text": [
      "356938 loss:0.3355933"
     ]
    },
    {
     "name": "stderr",
     "output_type": "stream",
     "text": [
      "INFO:absl: \n",
      "\t\t NumberOfEpisodes = 63\n",
      "\t\t EnvironmentSteps = 357001\n",
      "\t\t AverageReturn = -2937.080810546875\n",
      "\t\t AverageEpisodeLength = 8239.7998046875\n"
     ]
    },
    {
     "name": "stdout",
     "output_type": "stream",
     "text": [
      "357965 loss:0.7200080"
     ]
    },
    {
     "name": "stderr",
     "output_type": "stream",
     "text": [
      "INFO:absl: \n",
      "\t\t NumberOfEpisodes = 64\n",
      "\t\t EnvironmentSteps = 358001\n",
      "\t\t AverageReturn = -2942.72607421875\n",
      "\t\t AverageEpisodeLength = 8239.7998046875\n"
     ]
    },
    {
     "name": "stdout",
     "output_type": "stream",
     "text": [
      "358966 loss:1.1291349"
     ]
    },
    {
     "name": "stderr",
     "output_type": "stream",
     "text": [
      "INFO:absl: \n",
      "\t\t NumberOfEpisodes = 64\n",
      "\t\t EnvironmentSteps = 359001\n",
      "\t\t AverageReturn = -2942.72607421875\n",
      "\t\t AverageEpisodeLength = 8239.7998046875\n"
     ]
    },
    {
     "name": "stdout",
     "output_type": "stream",
     "text": [
      "359980 loss:1.02783"
     ]
    },
    {
     "name": "stderr",
     "output_type": "stream",
     "text": [
      "INFO:absl: \n",
      "\t\t NumberOfEpisodes = 64\n",
      "\t\t EnvironmentSteps = 360001\n",
      "\t\t AverageReturn = -2942.72607421875\n",
      "\t\t AverageEpisodeLength = 8239.7998046875\n"
     ]
    },
    {
     "name": "stdout",
     "output_type": "stream",
     "text": [
      "360969 loss:0.6278618"
     ]
    },
    {
     "name": "stderr",
     "output_type": "stream",
     "text": [
      "INFO:absl: \n",
      "\t\t NumberOfEpisodes = 64\n",
      "\t\t EnvironmentSteps = 361001\n",
      "\t\t AverageReturn = -2942.72607421875\n",
      "\t\t AverageEpisodeLength = 8239.7998046875\n"
     ]
    },
    {
     "name": "stdout",
     "output_type": "stream",
     "text": [
      "361967 loss:0.6828806"
     ]
    },
    {
     "name": "stderr",
     "output_type": "stream",
     "text": [
      "INFO:absl: \n",
      "\t\t NumberOfEpisodes = 64\n",
      "\t\t EnvironmentSteps = 362001\n",
      "\t\t AverageReturn = -2942.72607421875\n",
      "\t\t AverageEpisodeLength = 8239.7998046875\n"
     ]
    },
    {
     "name": "stdout",
     "output_type": "stream",
     "text": [
      "362978 loss:1.1250422"
     ]
    },
    {
     "name": "stderr",
     "output_type": "stream",
     "text": [
      "INFO:absl: \n",
      "\t\t NumberOfEpisodes = 64\n",
      "\t\t EnvironmentSteps = 363001\n",
      "\t\t AverageReturn = -2942.72607421875\n",
      "\t\t AverageEpisodeLength = 8239.7998046875\n"
     ]
    },
    {
     "name": "stdout",
     "output_type": "stream",
     "text": [
      "363971 loss:1.21517"
     ]
    },
    {
     "name": "stderr",
     "output_type": "stream",
     "text": [
      "INFO:absl: \n",
      "\t\t NumberOfEpisodes = 64\n",
      "\t\t EnvironmentSteps = 364001\n",
      "\t\t AverageReturn = -2942.72607421875\n",
      "\t\t AverageEpisodeLength = 8239.7998046875\n"
     ]
    },
    {
     "name": "stdout",
     "output_type": "stream",
     "text": [
      "364939 loss:1.2357851"
     ]
    },
    {
     "name": "stderr",
     "output_type": "stream",
     "text": [
      "INFO:absl: \n",
      "\t\t NumberOfEpisodes = 64\n",
      "\t\t EnvironmentSteps = 365001\n",
      "\t\t AverageReturn = -2942.72607421875\n",
      "\t\t AverageEpisodeLength = 8239.7998046875\n"
     ]
    },
    {
     "name": "stdout",
     "output_type": "stream",
     "text": [
      "365930 loss:0.9276478"
     ]
    },
    {
     "name": "stderr",
     "output_type": "stream",
     "text": [
      "INFO:absl: \n",
      "\t\t NumberOfEpisodes = 64\n",
      "\t\t EnvironmentSteps = 366001\n",
      "\t\t AverageReturn = -2942.72607421875\n",
      "\t\t AverageEpisodeLength = 8239.7998046875\n"
     ]
    },
    {
     "name": "stdout",
     "output_type": "stream",
     "text": [
      "366953 loss:1.3182607"
     ]
    },
    {
     "name": "stderr",
     "output_type": "stream",
     "text": [
      "INFO:absl: \n",
      "\t\t NumberOfEpisodes = 65\n",
      "\t\t EnvironmentSteps = 367001\n",
      "\t\t AverageReturn = -2948.409423828125\n",
      "\t\t AverageEpisodeLength = 8209.900390625\n"
     ]
    },
    {
     "name": "stdout",
     "output_type": "stream",
     "text": [
      "367966 loss:0.6904544"
     ]
    },
    {
     "name": "stderr",
     "output_type": "stream",
     "text": [
      "INFO:absl: \n",
      "\t\t NumberOfEpisodes = 65\n",
      "\t\t EnvironmentSteps = 368001\n",
      "\t\t AverageReturn = -2948.409423828125\n",
      "\t\t AverageEpisodeLength = 8209.900390625\n"
     ]
    },
    {
     "name": "stdout",
     "output_type": "stream",
     "text": [
      "368969 loss:0.6934667"
     ]
    },
    {
     "name": "stderr",
     "output_type": "stream",
     "text": [
      "INFO:absl: \n",
      "\t\t NumberOfEpisodes = 65\n",
      "\t\t EnvironmentSteps = 369001\n",
      "\t\t AverageReturn = -2948.409423828125\n",
      "\t\t AverageEpisodeLength = 8209.900390625\n"
     ]
    },
    {
     "name": "stdout",
     "output_type": "stream",
     "text": [
      "369972 loss:0.3589391"
     ]
    },
    {
     "name": "stderr",
     "output_type": "stream",
     "text": [
      "INFO:absl: \n",
      "\t\t NumberOfEpisodes = 65\n",
      "\t\t EnvironmentSteps = 370001\n",
      "\t\t AverageReturn = -2948.409423828125\n",
      "\t\t AverageEpisodeLength = 8209.900390625\n"
     ]
    },
    {
     "name": "stdout",
     "output_type": "stream",
     "text": [
      "370963 loss:0.6002737"
     ]
    },
    {
     "name": "stderr",
     "output_type": "stream",
     "text": [
      "INFO:absl: \n",
      "\t\t NumberOfEpisodes = 65\n",
      "\t\t EnvironmentSteps = 371001\n",
      "\t\t AverageReturn = -2948.409423828125\n",
      "\t\t AverageEpisodeLength = 8209.900390625\n"
     ]
    },
    {
     "name": "stdout",
     "output_type": "stream",
     "text": [
      "371978 loss:1.3503483"
     ]
    },
    {
     "name": "stderr",
     "output_type": "stream",
     "text": [
      "INFO:absl: \n",
      "\t\t NumberOfEpisodes = 65\n",
      "\t\t EnvironmentSteps = 372001\n",
      "\t\t AverageReturn = -2948.409423828125\n",
      "\t\t AverageEpisodeLength = 8209.900390625\n"
     ]
    },
    {
     "name": "stdout",
     "output_type": "stream",
     "text": [
      "372973 loss:1.1212784"
     ]
    },
    {
     "name": "stderr",
     "output_type": "stream",
     "text": [
      "INFO:absl: \n",
      "\t\t NumberOfEpisodes = 65\n",
      "\t\t EnvironmentSteps = 373001\n",
      "\t\t AverageReturn = -2948.409423828125\n",
      "\t\t AverageEpisodeLength = 8209.900390625\n"
     ]
    },
    {
     "name": "stdout",
     "output_type": "stream",
     "text": [
      "373967 loss:1.5830596"
     ]
    },
    {
     "name": "stderr",
     "output_type": "stream",
     "text": [
      "INFO:absl: \n",
      "\t\t NumberOfEpisodes = 65\n",
      "\t\t EnvironmentSteps = 374001\n",
      "\t\t AverageReturn = -2948.409423828125\n",
      "\t\t AverageEpisodeLength = 8209.900390625\n"
     ]
    },
    {
     "name": "stdout",
     "output_type": "stream",
     "text": [
      "374940 loss:0.9354638"
     ]
    },
    {
     "name": "stderr",
     "output_type": "stream",
     "text": [
      "INFO:absl: \n",
      "\t\t NumberOfEpisodes = 65\n",
      "\t\t EnvironmentSteps = 375001\n",
      "\t\t AverageReturn = -2948.409423828125\n",
      "\t\t AverageEpisodeLength = 8209.900390625\n"
     ]
    },
    {
     "name": "stdout",
     "output_type": "stream",
     "text": [
      "375968 loss:0.6060309"
     ]
    },
    {
     "name": "stderr",
     "output_type": "stream",
     "text": [
      "INFO:absl: \n",
      "\t\t NumberOfEpisodes = 65\n",
      "\t\t EnvironmentSteps = 376001\n",
      "\t\t AverageReturn = -2948.409423828125\n",
      "\t\t AverageEpisodeLength = 8209.900390625\n"
     ]
    },
    {
     "name": "stdout",
     "output_type": "stream",
     "text": [
      "376988 loss:0.5003089"
     ]
    },
    {
     "name": "stderr",
     "output_type": "stream",
     "text": [
      "INFO:absl: \n",
      "\t\t NumberOfEpisodes = 66\n",
      "\t\t EnvironmentSteps = 377001\n",
      "\t\t AverageReturn = -2897.796142578125\n",
      "\t\t AverageEpisodeLength = 8546.599609375\n"
     ]
    },
    {
     "name": "stdout",
     "output_type": "stream",
     "text": [
      "377978 loss:1.0380307"
     ]
    },
    {
     "name": "stderr",
     "output_type": "stream",
     "text": [
      "INFO:absl: \n",
      "\t\t NumberOfEpisodes = 66\n",
      "\t\t EnvironmentSteps = 378001\n",
      "\t\t AverageReturn = -2897.796142578125\n",
      "\t\t AverageEpisodeLength = 8546.599609375\n"
     ]
    },
    {
     "name": "stdout",
     "output_type": "stream",
     "text": [
      "378983 loss:0.4371008"
     ]
    },
    {
     "name": "stderr",
     "output_type": "stream",
     "text": [
      "INFO:absl: \n",
      "\t\t NumberOfEpisodes = 66\n",
      "\t\t EnvironmentSteps = 379001\n",
      "\t\t AverageReturn = -2897.796142578125\n",
      "\t\t AverageEpisodeLength = 8546.599609375\n"
     ]
    },
    {
     "name": "stdout",
     "output_type": "stream",
     "text": [
      "379990 loss:1.2911889"
     ]
    },
    {
     "name": "stderr",
     "output_type": "stream",
     "text": [
      "INFO:absl: \n",
      "\t\t NumberOfEpisodes = 66\n",
      "\t\t EnvironmentSteps = 380001\n",
      "\t\t AverageReturn = -2897.796142578125\n",
      "\t\t AverageEpisodeLength = 8546.599609375\n"
     ]
    },
    {
     "name": "stdout",
     "output_type": "stream",
     "text": [
      "380988 loss:0.6491972"
     ]
    },
    {
     "name": "stderr",
     "output_type": "stream",
     "text": [
      "INFO:absl: \n",
      "\t\t NumberOfEpisodes = 66\n",
      "\t\t EnvironmentSteps = 381001\n",
      "\t\t AverageReturn = -2897.796142578125\n",
      "\t\t AverageEpisodeLength = 8546.599609375\n"
     ]
    },
    {
     "name": "stdout",
     "output_type": "stream",
     "text": [
      "381937 loss:1.1659838"
     ]
    },
    {
     "name": "stderr",
     "output_type": "stream",
     "text": [
      "INFO:absl: \n",
      "\t\t NumberOfEpisodes = 66\n",
      "\t\t EnvironmentSteps = 382001\n",
      "\t\t AverageReturn = -2897.796142578125\n",
      "\t\t AverageEpisodeLength = 8546.599609375\n"
     ]
    },
    {
     "name": "stdout",
     "output_type": "stream",
     "text": [
      "382959 loss:0.4938834"
     ]
    },
    {
     "name": "stderr",
     "output_type": "stream",
     "text": [
      "INFO:absl: \n",
      "\t\t NumberOfEpisodes = 66\n",
      "\t\t EnvironmentSteps = 383001\n",
      "\t\t AverageReturn = -2897.796142578125\n",
      "\t\t AverageEpisodeLength = 8546.599609375\n"
     ]
    },
    {
     "name": "stdout",
     "output_type": "stream",
     "text": [
      "383949 loss:1.0028663"
     ]
    },
    {
     "name": "stderr",
     "output_type": "stream",
     "text": [
      "INFO:absl: \n",
      "\t\t NumberOfEpisodes = 66\n",
      "\t\t EnvironmentSteps = 384001\n",
      "\t\t AverageReturn = -2897.796142578125\n",
      "\t\t AverageEpisodeLength = 8546.599609375\n"
     ]
    },
    {
     "name": "stdout",
     "output_type": "stream",
     "text": [
      "384943 loss:0.5792146"
     ]
    },
    {
     "name": "stderr",
     "output_type": "stream",
     "text": [
      "INFO:absl: \n",
      "\t\t NumberOfEpisodes = 66\n",
      "\t\t EnvironmentSteps = 385001\n",
      "\t\t AverageReturn = -2897.796142578125\n",
      "\t\t AverageEpisodeLength = 8546.599609375\n"
     ]
    },
    {
     "name": "stdout",
     "output_type": "stream",
     "text": [
      "385988 loss:0.4528585"
     ]
    },
    {
     "name": "stderr",
     "output_type": "stream",
     "text": [
      "INFO:absl: \n",
      "\t\t NumberOfEpisodes = 66\n",
      "\t\t EnvironmentSteps = 386001\n",
      "\t\t AverageReturn = -2897.796142578125\n",
      "\t\t AverageEpisodeLength = 8546.599609375\n"
     ]
    },
    {
     "name": "stdout",
     "output_type": "stream",
     "text": [
      "386947 loss:0.4427049"
     ]
    },
    {
     "name": "stderr",
     "output_type": "stream",
     "text": [
      "INFO:absl: \n",
      "\t\t NumberOfEpisodes = 67\n",
      "\t\t EnvironmentSteps = 387001\n",
      "\t\t AverageReturn = -2682.87158203125\n",
      "\t\t AverageEpisodeLength = 8546.599609375\n"
     ]
    },
    {
     "name": "stdout",
     "output_type": "stream",
     "text": [
      "387943 loss:0.5846779"
     ]
    },
    {
     "name": "stderr",
     "output_type": "stream",
     "text": [
      "INFO:absl: \n",
      "\t\t NumberOfEpisodes = 67\n",
      "\t\t EnvironmentSteps = 388001\n",
      "\t\t AverageReturn = -2682.87158203125\n",
      "\t\t AverageEpisodeLength = 8546.599609375\n"
     ]
    },
    {
     "name": "stdout",
     "output_type": "stream",
     "text": [
      "388962 loss:1.0591735"
     ]
    },
    {
     "name": "stderr",
     "output_type": "stream",
     "text": [
      "INFO:absl: \n",
      "\t\t NumberOfEpisodes = 67\n",
      "\t\t EnvironmentSteps = 389001\n",
      "\t\t AverageReturn = -2682.87158203125\n",
      "\t\t AverageEpisodeLength = 8546.599609375\n"
     ]
    },
    {
     "name": "stdout",
     "output_type": "stream",
     "text": [
      "389976 loss:0.6476178"
     ]
    },
    {
     "name": "stderr",
     "output_type": "stream",
     "text": [
      "INFO:absl: \n",
      "\t\t NumberOfEpisodes = 67\n",
      "\t\t EnvironmentSteps = 390001\n",
      "\t\t AverageReturn = -2682.87158203125\n",
      "\t\t AverageEpisodeLength = 8546.599609375\n"
     ]
    },
    {
     "name": "stdout",
     "output_type": "stream",
     "text": [
      "390939 loss:0.6478236"
     ]
    },
    {
     "name": "stderr",
     "output_type": "stream",
     "text": [
      "INFO:absl: \n",
      "\t\t NumberOfEpisodes = 67\n",
      "\t\t EnvironmentSteps = 391001\n",
      "\t\t AverageReturn = -2682.87158203125\n",
      "\t\t AverageEpisodeLength = 8546.599609375\n"
     ]
    },
    {
     "name": "stdout",
     "output_type": "stream",
     "text": [
      "391980 loss:0.6984216"
     ]
    },
    {
     "name": "stderr",
     "output_type": "stream",
     "text": [
      "INFO:absl: \n",
      "\t\t NumberOfEpisodes = 67\n",
      "\t\t EnvironmentSteps = 392001\n",
      "\t\t AverageReturn = -2682.87158203125\n",
      "\t\t AverageEpisodeLength = 8546.599609375\n"
     ]
    },
    {
     "name": "stdout",
     "output_type": "stream",
     "text": [
      "392940 loss:0.57045"
     ]
    },
    {
     "name": "stderr",
     "output_type": "stream",
     "text": [
      "INFO:absl: \n",
      "\t\t NumberOfEpisodes = 67\n",
      "\t\t EnvironmentSteps = 393001\n",
      "\t\t AverageReturn = -2682.87158203125\n",
      "\t\t AverageEpisodeLength = 8546.599609375\n"
     ]
    },
    {
     "name": "stdout",
     "output_type": "stream",
     "text": [
      "393998 loss:0.7828945"
     ]
    },
    {
     "name": "stderr",
     "output_type": "stream",
     "text": [
      "INFO:absl: \n",
      "\t\t NumberOfEpisodes = 67\n",
      "\t\t EnvironmentSteps = 394001\n",
      "\t\t AverageReturn = -2682.87158203125\n",
      "\t\t AverageEpisodeLength = 8546.599609375\n"
     ]
    },
    {
     "name": "stdout",
     "output_type": "stream",
     "text": [
      "394979 loss:1.2490488"
     ]
    },
    {
     "name": "stderr",
     "output_type": "stream",
     "text": [
      "INFO:absl: \n",
      "\t\t NumberOfEpisodes = 67\n",
      "\t\t EnvironmentSteps = 395001\n",
      "\t\t AverageReturn = -2682.87158203125\n",
      "\t\t AverageEpisodeLength = 8546.599609375\n"
     ]
    },
    {
     "name": "stdout",
     "output_type": "stream",
     "text": [
      "395946 loss:0.8176679"
     ]
    },
    {
     "name": "stderr",
     "output_type": "stream",
     "text": [
      "INFO:absl: \n",
      "\t\t NumberOfEpisodes = 67\n",
      "\t\t EnvironmentSteps = 396001\n",
      "\t\t AverageReturn = -2682.87158203125\n",
      "\t\t AverageEpisodeLength = 8546.599609375\n"
     ]
    },
    {
     "name": "stdout",
     "output_type": "stream",
     "text": [
      "396991 loss:0.7436177"
     ]
    },
    {
     "name": "stderr",
     "output_type": "stream",
     "text": [
      "INFO:absl: \n",
      "\t\t NumberOfEpisodes = 68\n",
      "\t\t EnvironmentSteps = 397001\n",
      "\t\t AverageReturn = -2720.795654296875\n",
      "\t\t AverageEpisodeLength = 8546.599609375\n"
     ]
    },
    {
     "name": "stdout",
     "output_type": "stream",
     "text": [
      "397940 loss:0.4768946"
     ]
    },
    {
     "name": "stderr",
     "output_type": "stream",
     "text": [
      "INFO:absl: \n",
      "\t\t NumberOfEpisodes = 68\n",
      "\t\t EnvironmentSteps = 398001\n",
      "\t\t AverageReturn = -2720.795654296875\n",
      "\t\t AverageEpisodeLength = 8546.599609375\n"
     ]
    },
    {
     "name": "stdout",
     "output_type": "stream",
     "text": [
      "398970 loss:448.51840"
     ]
    },
    {
     "name": "stderr",
     "output_type": "stream",
     "text": [
      "INFO:absl: \n",
      "\t\t NumberOfEpisodes = 68\n",
      "\t\t EnvironmentSteps = 399001\n",
      "\t\t AverageReturn = -2720.795654296875\n",
      "\t\t AverageEpisodeLength = 8546.599609375\n"
     ]
    },
    {
     "name": "stdout",
     "output_type": "stream",
     "text": [
      "399943 loss:1.0680615"
     ]
    },
    {
     "name": "stderr",
     "output_type": "stream",
     "text": [
      "INFO:absl: \n",
      "\t\t NumberOfEpisodes = 68\n",
      "\t\t EnvironmentSteps = 400001\n",
      "\t\t AverageReturn = -2720.795654296875\n",
      "\t\t AverageEpisodeLength = 8546.599609375\n"
     ]
    },
    {
     "name": "stdout",
     "output_type": "stream",
     "text": [
      "400976 loss:0.4257684"
     ]
    },
    {
     "name": "stderr",
     "output_type": "stream",
     "text": [
      "INFO:absl: \n",
      "\t\t NumberOfEpisodes = 68\n",
      "\t\t EnvironmentSteps = 401001\n",
      "\t\t AverageReturn = -2720.795654296875\n",
      "\t\t AverageEpisodeLength = 8546.599609375\n"
     ]
    },
    {
     "name": "stdout",
     "output_type": "stream",
     "text": [
      "401999 loss:0.9034967"
     ]
    },
    {
     "name": "stderr",
     "output_type": "stream",
     "text": [
      "INFO:absl: \n",
      "\t\t NumberOfEpisodes = 68\n",
      "\t\t EnvironmentSteps = 402001\n",
      "\t\t AverageReturn = -2720.795654296875\n",
      "\t\t AverageEpisodeLength = 8546.599609375\n"
     ]
    },
    {
     "name": "stdout",
     "output_type": "stream",
     "text": [
      "402990 loss:0.8140804"
     ]
    },
    {
     "name": "stderr",
     "output_type": "stream",
     "text": [
      "INFO:absl: \n",
      "\t\t NumberOfEpisodes = 68\n",
      "\t\t EnvironmentSteps = 403001\n",
      "\t\t AverageReturn = -2720.795654296875\n",
      "\t\t AverageEpisodeLength = 8546.599609375\n"
     ]
    },
    {
     "name": "stdout",
     "output_type": "stream",
     "text": [
      "403956 loss:0.3737168"
     ]
    },
    {
     "name": "stderr",
     "output_type": "stream",
     "text": [
      "INFO:absl: \n",
      "\t\t NumberOfEpisodes = 68\n",
      "\t\t EnvironmentSteps = 404001\n",
      "\t\t AverageReturn = -2720.795654296875\n",
      "\t\t AverageEpisodeLength = 8546.599609375\n"
     ]
    },
    {
     "name": "stdout",
     "output_type": "stream",
     "text": [
      "404941 loss:1.4224594"
     ]
    },
    {
     "name": "stderr",
     "output_type": "stream",
     "text": [
      "INFO:absl: \n",
      "\t\t NumberOfEpisodes = 68\n",
      "\t\t EnvironmentSteps = 405001\n",
      "\t\t AverageReturn = -2720.795654296875\n",
      "\t\t AverageEpisodeLength = 8546.599609375\n"
     ]
    },
    {
     "name": "stdout",
     "output_type": "stream",
     "text": [
      "405968 loss:0.6092492"
     ]
    },
    {
     "name": "stderr",
     "output_type": "stream",
     "text": [
      "INFO:absl: \n",
      "\t\t NumberOfEpisodes = 68\n",
      "\t\t EnvironmentSteps = 406001\n",
      "\t\t AverageReturn = -2720.795654296875\n",
      "\t\t AverageEpisodeLength = 8546.599609375\n"
     ]
    },
    {
     "name": "stdout",
     "output_type": "stream",
     "text": [
      "406951 loss:0.8839247"
     ]
    },
    {
     "name": "stderr",
     "output_type": "stream",
     "text": [
      "INFO:absl: \n",
      "\t\t NumberOfEpisodes = 69\n",
      "\t\t EnvironmentSteps = 407001\n",
      "\t\t AverageReturn = -2918.05078125\n",
      "\t\t AverageEpisodeLength = 9287.099609375\n"
     ]
    },
    {
     "name": "stdout",
     "output_type": "stream",
     "text": [
      "407965 loss:0.57691"
     ]
    },
    {
     "name": "stderr",
     "output_type": "stream",
     "text": [
      "INFO:absl: \n",
      "\t\t NumberOfEpisodes = 69\n",
      "\t\t EnvironmentSteps = 408001\n",
      "\t\t AverageReturn = -2918.05078125\n",
      "\t\t AverageEpisodeLength = 9287.099609375\n"
     ]
    },
    {
     "name": "stdout",
     "output_type": "stream",
     "text": [
      "408972 loss:0.8555672"
     ]
    },
    {
     "name": "stderr",
     "output_type": "stream",
     "text": [
      "INFO:absl: \n",
      "\t\t NumberOfEpisodes = 69\n",
      "\t\t EnvironmentSteps = 409001\n",
      "\t\t AverageReturn = -2918.05078125\n",
      "\t\t AverageEpisodeLength = 9287.099609375\n"
     ]
    },
    {
     "name": "stdout",
     "output_type": "stream",
     "text": [
      "409942 loss:0.4990122"
     ]
    },
    {
     "name": "stderr",
     "output_type": "stream",
     "text": [
      "INFO:absl: \n",
      "\t\t NumberOfEpisodes = 69\n",
      "\t\t EnvironmentSteps = 410001\n",
      "\t\t AverageReturn = -2918.05078125\n",
      "\t\t AverageEpisodeLength = 9287.099609375\n"
     ]
    },
    {
     "name": "stdout",
     "output_type": "stream",
     "text": [
      "410971 loss:0.6910931"
     ]
    },
    {
     "name": "stderr",
     "output_type": "stream",
     "text": [
      "INFO:absl: \n",
      "\t\t NumberOfEpisodes = 69\n",
      "\t\t EnvironmentSteps = 411001\n",
      "\t\t AverageReturn = -2918.05078125\n",
      "\t\t AverageEpisodeLength = 9287.099609375\n"
     ]
    },
    {
     "name": "stdout",
     "output_type": "stream",
     "text": [
      "411961 loss:1.2636190"
     ]
    },
    {
     "name": "stderr",
     "output_type": "stream",
     "text": [
      "INFO:absl: \n",
      "\t\t NumberOfEpisodes = 69\n",
      "\t\t EnvironmentSteps = 412001\n",
      "\t\t AverageReturn = -2918.05078125\n",
      "\t\t AverageEpisodeLength = 9287.099609375\n"
     ]
    },
    {
     "name": "stdout",
     "output_type": "stream",
     "text": [
      "412966 loss:0.7439006"
     ]
    },
    {
     "name": "stderr",
     "output_type": "stream",
     "text": [
      "INFO:absl: \n",
      "\t\t NumberOfEpisodes = 69\n",
      "\t\t EnvironmentSteps = 413001\n",
      "\t\t AverageReturn = -2918.05078125\n",
      "\t\t AverageEpisodeLength = 9287.099609375\n"
     ]
    },
    {
     "name": "stdout",
     "output_type": "stream",
     "text": [
      "413937 loss:0.63833"
     ]
    },
    {
     "name": "stderr",
     "output_type": "stream",
     "text": [
      "INFO:absl: \n",
      "\t\t NumberOfEpisodes = 69\n",
      "\t\t EnvironmentSteps = 414001\n",
      "\t\t AverageReturn = -2918.05078125\n",
      "\t\t AverageEpisodeLength = 9287.099609375\n"
     ]
    },
    {
     "name": "stdout",
     "output_type": "stream",
     "text": [
      "414961 loss:0.4660293"
     ]
    },
    {
     "name": "stderr",
     "output_type": "stream",
     "text": [
      "INFO:absl: \n",
      "\t\t NumberOfEpisodes = 69\n",
      "\t\t EnvironmentSteps = 415001\n",
      "\t\t AverageReturn = -2918.05078125\n",
      "\t\t AverageEpisodeLength = 9287.099609375\n"
     ]
    },
    {
     "name": "stdout",
     "output_type": "stream",
     "text": [
      "415981 loss:1.0394789"
     ]
    },
    {
     "name": "stderr",
     "output_type": "stream",
     "text": [
      "INFO:absl: \n",
      "\t\t NumberOfEpisodes = 71\n",
      "\t\t EnvironmentSteps = 416001\n",
      "\t\t AverageReturn = -2544.54345703125\n",
      "\t\t AverageEpisodeLength = 8144.7001953125\n"
     ]
    },
    {
     "name": "stdout",
     "output_type": "stream",
     "text": [
      "416947 loss:0.5966502"
     ]
    },
    {
     "name": "stderr",
     "output_type": "stream",
     "text": [
      "INFO:absl: \n",
      "\t\t NumberOfEpisodes = 71\n",
      "\t\t EnvironmentSteps = 417001\n",
      "\t\t AverageReturn = -2544.54345703125\n",
      "\t\t AverageEpisodeLength = 8144.7001953125\n"
     ]
    },
    {
     "name": "stdout",
     "output_type": "stream",
     "text": [
      "417963 loss:1.2750867"
     ]
    },
    {
     "name": "stderr",
     "output_type": "stream",
     "text": [
      "INFO:absl: \n",
      "\t\t NumberOfEpisodes = 71\n",
      "\t\t EnvironmentSteps = 418001\n",
      "\t\t AverageReturn = -2544.54345703125\n",
      "\t\t AverageEpisodeLength = 8144.7001953125\n"
     ]
    },
    {
     "name": "stdout",
     "output_type": "stream",
     "text": [
      "418958 loss:0.5461283"
     ]
    },
    {
     "name": "stderr",
     "output_type": "stream",
     "text": [
      "INFO:absl: \n",
      "\t\t NumberOfEpisodes = 71\n",
      "\t\t EnvironmentSteps = 419001\n",
      "\t\t AverageReturn = -2544.54345703125\n",
      "\t\t AverageEpisodeLength = 8144.7001953125\n"
     ]
    },
    {
     "name": "stdout",
     "output_type": "stream",
     "text": [
      "419954 loss:0.9719791"
     ]
    },
    {
     "name": "stderr",
     "output_type": "stream",
     "text": [
      "INFO:absl: \n",
      "\t\t NumberOfEpisodes = 71\n",
      "\t\t EnvironmentSteps = 420001\n",
      "\t\t AverageReturn = -2544.54345703125\n",
      "\t\t AverageEpisodeLength = 8144.7001953125\n"
     ]
    },
    {
     "name": "stdout",
     "output_type": "stream",
     "text": [
      "420948 loss:0.8278422"
     ]
    },
    {
     "name": "stderr",
     "output_type": "stream",
     "text": [
      "INFO:absl: \n",
      "\t\t NumberOfEpisodes = 71\n",
      "\t\t EnvironmentSteps = 421001\n",
      "\t\t AverageReturn = -2544.54345703125\n",
      "\t\t AverageEpisodeLength = 8144.7001953125\n"
     ]
    },
    {
     "name": "stdout",
     "output_type": "stream",
     "text": [
      "421942 loss:1.1085796"
     ]
    },
    {
     "name": "stderr",
     "output_type": "stream",
     "text": [
      "INFO:absl: \n",
      "\t\t NumberOfEpisodes = 71\n",
      "\t\t EnvironmentSteps = 422001\n",
      "\t\t AverageReturn = -2544.54345703125\n",
      "\t\t AverageEpisodeLength = 8144.7001953125\n"
     ]
    },
    {
     "name": "stdout",
     "output_type": "stream",
     "text": [
      "422993 loss:1.2832173"
     ]
    },
    {
     "name": "stderr",
     "output_type": "stream",
     "text": [
      "INFO:absl: \n",
      "\t\t NumberOfEpisodes = 71\n",
      "\t\t EnvironmentSteps = 423001\n",
      "\t\t AverageReturn = -2544.54345703125\n",
      "\t\t AverageEpisodeLength = 8144.7001953125\n"
     ]
    },
    {
     "name": "stdout",
     "output_type": "stream",
     "text": [
      "423937 loss:1.0062881"
     ]
    },
    {
     "name": "stderr",
     "output_type": "stream",
     "text": [
      "INFO:absl: \n",
      "\t\t NumberOfEpisodes = 71\n",
      "\t\t EnvironmentSteps = 424001\n",
      "\t\t AverageReturn = -2544.54345703125\n",
      "\t\t AverageEpisodeLength = 8144.7001953125\n"
     ]
    },
    {
     "name": "stdout",
     "output_type": "stream",
     "text": [
      "424979 loss:0.7204970"
     ]
    },
    {
     "name": "stderr",
     "output_type": "stream",
     "text": [
      "INFO:absl: \n",
      "\t\t NumberOfEpisodes = 72\n",
      "\t\t EnvironmentSteps = 425001\n",
      "\t\t AverageReturn = -2611.416015625\n",
      "\t\t AverageEpisodeLength = 8043.2001953125\n"
     ]
    },
    {
     "name": "stdout",
     "output_type": "stream",
     "text": [
      "425981 loss:0.5284800"
     ]
    },
    {
     "name": "stderr",
     "output_type": "stream",
     "text": [
      "INFO:absl: \n",
      "\t\t NumberOfEpisodes = 72\n",
      "\t\t EnvironmentSteps = 426001\n",
      "\t\t AverageReturn = -2611.416015625\n",
      "\t\t AverageEpisodeLength = 8043.2001953125\n"
     ]
    },
    {
     "name": "stdout",
     "output_type": "stream",
     "text": [
      "426942 loss:0.7270409"
     ]
    },
    {
     "name": "stderr",
     "output_type": "stream",
     "text": [
      "INFO:absl: \n",
      "\t\t NumberOfEpisodes = 72\n",
      "\t\t EnvironmentSteps = 427001\n",
      "\t\t AverageReturn = -2611.416015625\n",
      "\t\t AverageEpisodeLength = 8043.2001953125\n"
     ]
    },
    {
     "name": "stdout",
     "output_type": "stream",
     "text": [
      "427957 loss:1.2634333"
     ]
    },
    {
     "name": "stderr",
     "output_type": "stream",
     "text": [
      "INFO:absl: \n",
      "\t\t NumberOfEpisodes = 72\n",
      "\t\t EnvironmentSteps = 428001\n",
      "\t\t AverageReturn = -2611.416015625\n",
      "\t\t AverageEpisodeLength = 8043.2001953125\n"
     ]
    },
    {
     "name": "stdout",
     "output_type": "stream",
     "text": [
      "428935 loss:1.2444132"
     ]
    },
    {
     "name": "stderr",
     "output_type": "stream",
     "text": [
      "INFO:absl: \n",
      "\t\t NumberOfEpisodes = 72\n",
      "\t\t EnvironmentSteps = 429001\n",
      "\t\t AverageReturn = -2611.416015625\n",
      "\t\t AverageEpisodeLength = 8043.2001953125\n"
     ]
    },
    {
     "name": "stdout",
     "output_type": "stream",
     "text": [
      "429943 loss:0.4841847"
     ]
    },
    {
     "name": "stderr",
     "output_type": "stream",
     "text": [
      "INFO:absl: \n",
      "\t\t NumberOfEpisodes = 72\n",
      "\t\t EnvironmentSteps = 430001\n",
      "\t\t AverageReturn = -2611.416015625\n",
      "\t\t AverageEpisodeLength = 8043.2001953125\n"
     ]
    },
    {
     "name": "stdout",
     "output_type": "stream",
     "text": [
      "430993 loss:0.8580342"
     ]
    },
    {
     "name": "stderr",
     "output_type": "stream",
     "text": [
      "INFO:absl: \n",
      "\t\t NumberOfEpisodes = 72\n",
      "\t\t EnvironmentSteps = 431001\n",
      "\t\t AverageReturn = -2611.416015625\n",
      "\t\t AverageEpisodeLength = 8043.2001953125\n"
     ]
    },
    {
     "name": "stdout",
     "output_type": "stream",
     "text": [
      "431939 loss:0.6106182"
     ]
    },
    {
     "name": "stderr",
     "output_type": "stream",
     "text": [
      "INFO:absl: \n",
      "\t\t NumberOfEpisodes = 72\n",
      "\t\t EnvironmentSteps = 432001\n",
      "\t\t AverageReturn = -2611.416015625\n",
      "\t\t AverageEpisodeLength = 8043.2001953125\n"
     ]
    },
    {
     "name": "stdout",
     "output_type": "stream",
     "text": [
      "432941 loss:1.0906940"
     ]
    },
    {
     "name": "stderr",
     "output_type": "stream",
     "text": [
      "INFO:absl: \n",
      "\t\t NumberOfEpisodes = 72\n",
      "\t\t EnvironmentSteps = 433001\n",
      "\t\t AverageReturn = -2611.416015625\n",
      "\t\t AverageEpisodeLength = 8043.2001953125\n"
     ]
    },
    {
     "name": "stdout",
     "output_type": "stream",
     "text": [
      "433961 loss:1.3759705"
     ]
    },
    {
     "name": "stderr",
     "output_type": "stream",
     "text": [
      "INFO:absl: \n",
      "\t\t NumberOfEpisodes = 72\n",
      "\t\t EnvironmentSteps = 434001\n",
      "\t\t AverageReturn = -2611.416015625\n",
      "\t\t AverageEpisodeLength = 8043.2001953125\n"
     ]
    },
    {
     "name": "stdout",
     "output_type": "stream",
     "text": [
      "434974 loss:0.7253623"
     ]
    },
    {
     "name": "stderr",
     "output_type": "stream",
     "text": [
      "INFO:absl: \n",
      "\t\t NumberOfEpisodes = 73\n",
      "\t\t EnvironmentSteps = 435001\n",
      "\t\t AverageReturn = -2843.856689453125\n",
      "\t\t AverageEpisodeLength = 8695.099609375\n"
     ]
    },
    {
     "name": "stdout",
     "output_type": "stream",
     "text": [
      "435998 loss:0.7188476"
     ]
    },
    {
     "name": "stderr",
     "output_type": "stream",
     "text": [
      "INFO:absl: \n",
      "\t\t NumberOfEpisodes = 73\n",
      "\t\t EnvironmentSteps = 436001\n",
      "\t\t AverageReturn = -2843.856689453125\n",
      "\t\t AverageEpisodeLength = 8695.099609375\n"
     ]
    },
    {
     "name": "stdout",
     "output_type": "stream",
     "text": [
      "436993 loss:0.6795074"
     ]
    },
    {
     "name": "stderr",
     "output_type": "stream",
     "text": [
      "INFO:absl: \n",
      "\t\t NumberOfEpisodes = 73\n",
      "\t\t EnvironmentSteps = 437001\n",
      "\t\t AverageReturn = -2843.856689453125\n",
      "\t\t AverageEpisodeLength = 8695.099609375\n"
     ]
    },
    {
     "name": "stdout",
     "output_type": "stream",
     "text": [
      "437959 loss:1.0751479"
     ]
    },
    {
     "name": "stderr",
     "output_type": "stream",
     "text": [
      "INFO:absl: \n",
      "\t\t NumberOfEpisodes = 73\n",
      "\t\t EnvironmentSteps = 438001\n",
      "\t\t AverageReturn = -2843.856689453125\n",
      "\t\t AverageEpisodeLength = 8695.099609375\n"
     ]
    },
    {
     "name": "stdout",
     "output_type": "stream",
     "text": [
      "438937 loss:1.3751853"
     ]
    },
    {
     "name": "stderr",
     "output_type": "stream",
     "text": [
      "INFO:absl: \n",
      "\t\t NumberOfEpisodes = 73\n",
      "\t\t EnvironmentSteps = 439001\n",
      "\t\t AverageReturn = -2843.856689453125\n",
      "\t\t AverageEpisodeLength = 8695.099609375\n"
     ]
    },
    {
     "name": "stdout",
     "output_type": "stream",
     "text": [
      "439966 loss:1.1060083"
     ]
    },
    {
     "name": "stderr",
     "output_type": "stream",
     "text": [
      "INFO:absl: \n",
      "\t\t NumberOfEpisodes = 73\n",
      "\t\t EnvironmentSteps = 440001\n",
      "\t\t AverageReturn = -2843.856689453125\n",
      "\t\t AverageEpisodeLength = 8695.099609375\n"
     ]
    },
    {
     "name": "stdout",
     "output_type": "stream",
     "text": [
      "440995 loss:0.8214646"
     ]
    },
    {
     "name": "stderr",
     "output_type": "stream",
     "text": [
      "INFO:absl: \n",
      "\t\t NumberOfEpisodes = 73\n",
      "\t\t EnvironmentSteps = 441001\n",
      "\t\t AverageReturn = -2843.856689453125\n",
      "\t\t AverageEpisodeLength = 8695.099609375\n"
     ]
    },
    {
     "name": "stdout",
     "output_type": "stream",
     "text": [
      "441970 loss:0.9430934"
     ]
    },
    {
     "name": "stderr",
     "output_type": "stream",
     "text": [
      "INFO:absl: \n",
      "\t\t NumberOfEpisodes = 73\n",
      "\t\t EnvironmentSteps = 442001\n",
      "\t\t AverageReturn = -2843.856689453125\n",
      "\t\t AverageEpisodeLength = 8695.099609375\n"
     ]
    },
    {
     "name": "stdout",
     "output_type": "stream",
     "text": [
      "442972 loss:1.3492983"
     ]
    },
    {
     "name": "stderr",
     "output_type": "stream",
     "text": [
      "INFO:absl: \n",
      "\t\t NumberOfEpisodes = 73\n",
      "\t\t EnvironmentSteps = 443001\n",
      "\t\t AverageReturn = -2843.856689453125\n",
      "\t\t AverageEpisodeLength = 8695.099609375\n"
     ]
    },
    {
     "name": "stdout",
     "output_type": "stream",
     "text": [
      "443971 loss:0.9279627"
     ]
    },
    {
     "name": "stderr",
     "output_type": "stream",
     "text": [
      "INFO:absl: \n",
      "\t\t NumberOfEpisodes = 73\n",
      "\t\t EnvironmentSteps = 444001\n",
      "\t\t AverageReturn = -2843.856689453125\n",
      "\t\t AverageEpisodeLength = 8695.099609375\n"
     ]
    },
    {
     "name": "stdout",
     "output_type": "stream",
     "text": [
      "444980 loss:0.8026910"
     ]
    },
    {
     "name": "stderr",
     "output_type": "stream",
     "text": [
      "INFO:absl: \n",
      "\t\t NumberOfEpisodes = 74\n",
      "\t\t EnvironmentSteps = 445001\n",
      "\t\t AverageReturn = -2860.497314453125\n",
      "\t\t AverageEpisodeLength = 8695.099609375\n"
     ]
    },
    {
     "name": "stdout",
     "output_type": "stream",
     "text": [
      "445938 loss:0.7077400"
     ]
    },
    {
     "name": "stderr",
     "output_type": "stream",
     "text": [
      "INFO:absl: \n",
      "\t\t NumberOfEpisodes = 74\n",
      "\t\t EnvironmentSteps = 446001\n",
      "\t\t AverageReturn = -2860.497314453125\n",
      "\t\t AverageEpisodeLength = 8695.099609375\n"
     ]
    },
    {
     "name": "stdout",
     "output_type": "stream",
     "text": [
      "446984 loss:0.8147893"
     ]
    },
    {
     "name": "stderr",
     "output_type": "stream",
     "text": [
      "INFO:absl: \n",
      "\t\t NumberOfEpisodes = 74\n",
      "\t\t EnvironmentSteps = 447001\n",
      "\t\t AverageReturn = -2860.497314453125\n",
      "\t\t AverageEpisodeLength = 8695.099609375\n"
     ]
    },
    {
     "name": "stdout",
     "output_type": "stream",
     "text": [
      "447963 loss:0.3700805"
     ]
    },
    {
     "name": "stderr",
     "output_type": "stream",
     "text": [
      "INFO:absl: \n",
      "\t\t NumberOfEpisodes = 74\n",
      "\t\t EnvironmentSteps = 448001\n",
      "\t\t AverageReturn = -2860.497314453125\n",
      "\t\t AverageEpisodeLength = 8695.099609375\n"
     ]
    },
    {
     "name": "stdout",
     "output_type": "stream",
     "text": [
      "448977 loss:0.7080945"
     ]
    },
    {
     "name": "stderr",
     "output_type": "stream",
     "text": [
      "INFO:absl: \n",
      "\t\t NumberOfEpisodes = 74\n",
      "\t\t EnvironmentSteps = 449001\n",
      "\t\t AverageReturn = -2860.497314453125\n",
      "\t\t AverageEpisodeLength = 8695.099609375\n"
     ]
    },
    {
     "name": "stdout",
     "output_type": "stream",
     "text": [
      "449991 loss:0.8482511"
     ]
    },
    {
     "name": "stderr",
     "output_type": "stream",
     "text": [
      "INFO:absl: \n",
      "\t\t NumberOfEpisodes = 74\n",
      "\t\t EnvironmentSteps = 450001\n",
      "\t\t AverageReturn = -2860.497314453125\n",
      "\t\t AverageEpisodeLength = 8695.099609375\n"
     ]
    },
    {
     "name": "stdout",
     "output_type": "stream",
     "text": [
      "450994 loss:0.6787511"
     ]
    },
    {
     "name": "stderr",
     "output_type": "stream",
     "text": [
      "INFO:absl: \n",
      "\t\t NumberOfEpisodes = 74\n",
      "\t\t EnvironmentSteps = 451001\n",
      "\t\t AverageReturn = -2860.497314453125\n",
      "\t\t AverageEpisodeLength = 8695.099609375\n"
     ]
    },
    {
     "name": "stdout",
     "output_type": "stream",
     "text": [
      "451949 loss:0.9120430"
     ]
    },
    {
     "name": "stderr",
     "output_type": "stream",
     "text": [
      "INFO:absl: \n",
      "\t\t NumberOfEpisodes = 74\n",
      "\t\t EnvironmentSteps = 452001\n",
      "\t\t AverageReturn = -2860.497314453125\n",
      "\t\t AverageEpisodeLength = 8695.099609375\n"
     ]
    },
    {
     "name": "stdout",
     "output_type": "stream",
     "text": [
      "452995 loss:1.07212"
     ]
    },
    {
     "name": "stderr",
     "output_type": "stream",
     "text": [
      "INFO:absl: \n",
      "\t\t NumberOfEpisodes = 74\n",
      "\t\t EnvironmentSteps = 453001\n",
      "\t\t AverageReturn = -2860.497314453125\n",
      "\t\t AverageEpisodeLength = 8695.099609375\n"
     ]
    },
    {
     "name": "stdout",
     "output_type": "stream",
     "text": [
      "453935 loss:0.8220910"
     ]
    },
    {
     "name": "stderr",
     "output_type": "stream",
     "text": [
      "INFO:absl: \n",
      "\t\t NumberOfEpisodes = 74\n",
      "\t\t EnvironmentSteps = 454001\n",
      "\t\t AverageReturn = -2860.497314453125\n",
      "\t\t AverageEpisodeLength = 8695.099609375\n"
     ]
    },
    {
     "name": "stdout",
     "output_type": "stream",
     "text": [
      "454951 loss:1.0419762"
     ]
    },
    {
     "name": "stderr",
     "output_type": "stream",
     "text": [
      "INFO:absl: \n",
      "\t\t NumberOfEpisodes = 75\n",
      "\t\t EnvironmentSteps = 455001\n",
      "\t\t AverageReturn = -2556.481689453125\n",
      "\t\t AverageEpisodeLength = 8725.0\n"
     ]
    },
    {
     "name": "stdout",
     "output_type": "stream",
     "text": [
      "455953 loss:1.03984"
     ]
    },
    {
     "name": "stderr",
     "output_type": "stream",
     "text": [
      "INFO:absl: \n",
      "\t\t NumberOfEpisodes = 75\n",
      "\t\t EnvironmentSteps = 456001\n",
      "\t\t AverageReturn = -2556.481689453125\n",
      "\t\t AverageEpisodeLength = 8725.0\n"
     ]
    },
    {
     "name": "stdout",
     "output_type": "stream",
     "text": [
      "456948 loss:1.2031641"
     ]
    },
    {
     "name": "stderr",
     "output_type": "stream",
     "text": [
      "INFO:absl: \n",
      "\t\t NumberOfEpisodes = 75\n",
      "\t\t EnvironmentSteps = 457001\n",
      "\t\t AverageReturn = -2556.481689453125\n",
      "\t\t AverageEpisodeLength = 8725.0\n"
     ]
    },
    {
     "name": "stdout",
     "output_type": "stream",
     "text": [
      "457936 loss:0.7068835"
     ]
    },
    {
     "name": "stderr",
     "output_type": "stream",
     "text": [
      "INFO:absl: \n",
      "\t\t NumberOfEpisodes = 75\n",
      "\t\t EnvironmentSteps = 458001\n",
      "\t\t AverageReturn = -2556.481689453125\n",
      "\t\t AverageEpisodeLength = 8725.0\n"
     ]
    },
    {
     "name": "stdout",
     "output_type": "stream",
     "text": [
      "458964 loss:0.5289718"
     ]
    },
    {
     "name": "stderr",
     "output_type": "stream",
     "text": [
      "INFO:absl: \n",
      "\t\t NumberOfEpisodes = 75\n",
      "\t\t EnvironmentSteps = 459001\n",
      "\t\t AverageReturn = -2556.481689453125\n",
      "\t\t AverageEpisodeLength = 8725.0\n"
     ]
    },
    {
     "name": "stdout",
     "output_type": "stream",
     "text": [
      "459999 loss:0.7658346"
     ]
    },
    {
     "name": "stderr",
     "output_type": "stream",
     "text": [
      "INFO:absl: \n",
      "\t\t NumberOfEpisodes = 75\n",
      "\t\t EnvironmentSteps = 460001\n",
      "\t\t AverageReturn = -2556.481689453125\n",
      "\t\t AverageEpisodeLength = 8725.0\n"
     ]
    },
    {
     "name": "stdout",
     "output_type": "stream",
     "text": [
      "460976 loss:0.7471307"
     ]
    },
    {
     "name": "stderr",
     "output_type": "stream",
     "text": [
      "INFO:absl: \n",
      "\t\t NumberOfEpisodes = 75\n",
      "\t\t EnvironmentSteps = 461001\n",
      "\t\t AverageReturn = -2556.481689453125\n",
      "\t\t AverageEpisodeLength = 8725.0\n"
     ]
    },
    {
     "name": "stdout",
     "output_type": "stream",
     "text": [
      "461976 loss:1.3942285"
     ]
    },
    {
     "name": "stderr",
     "output_type": "stream",
     "text": [
      "INFO:absl: \n",
      "\t\t NumberOfEpisodes = 75\n",
      "\t\t EnvironmentSteps = 462001\n",
      "\t\t AverageReturn = -2556.481689453125\n",
      "\t\t AverageEpisodeLength = 8725.0\n"
     ]
    },
    {
     "name": "stdout",
     "output_type": "stream",
     "text": [
      "462995 loss:0.6637203"
     ]
    },
    {
     "name": "stderr",
     "output_type": "stream",
     "text": [
      "INFO:absl: \n",
      "\t\t NumberOfEpisodes = 75\n",
      "\t\t EnvironmentSteps = 463001\n",
      "\t\t AverageReturn = -2556.481689453125\n",
      "\t\t AverageEpisodeLength = 8725.0\n"
     ]
    },
    {
     "name": "stdout",
     "output_type": "stream",
     "text": [
      "463967 loss:0.7393479"
     ]
    },
    {
     "name": "stderr",
     "output_type": "stream",
     "text": [
      "INFO:absl: \n",
      "\t\t NumberOfEpisodes = 75\n",
      "\t\t EnvironmentSteps = 464001\n",
      "\t\t AverageReturn = -2556.481689453125\n",
      "\t\t AverageEpisodeLength = 8725.0\n"
     ]
    },
    {
     "name": "stdout",
     "output_type": "stream",
     "text": [
      "464941 loss:1.3268974"
     ]
    },
    {
     "name": "stderr",
     "output_type": "stream",
     "text": [
      "INFO:absl: \n",
      "\t\t NumberOfEpisodes = 77\n",
      "\t\t EnvironmentSteps = 465001\n",
      "\t\t AverageReturn = -2380.676513671875\n",
      "\t\t AverageEpisodeLength = 7725.10009765625\n"
     ]
    },
    {
     "name": "stdout",
     "output_type": "stream",
     "text": [
      "465984 loss:0.5960124"
     ]
    },
    {
     "name": "stderr",
     "output_type": "stream",
     "text": [
      "INFO:absl: \n",
      "\t\t NumberOfEpisodes = 77\n",
      "\t\t EnvironmentSteps = 466001\n",
      "\t\t AverageReturn = -2380.676513671875\n",
      "\t\t AverageEpisodeLength = 7725.10009765625\n"
     ]
    },
    {
     "name": "stdout",
     "output_type": "stream",
     "text": [
      "466957 loss:1.3602817"
     ]
    },
    {
     "name": "stderr",
     "output_type": "stream",
     "text": [
      "INFO:absl: \n",
      "\t\t NumberOfEpisodes = 77\n",
      "\t\t EnvironmentSteps = 467001\n",
      "\t\t AverageReturn = -2380.676513671875\n",
      "\t\t AverageEpisodeLength = 7725.10009765625\n"
     ]
    },
    {
     "name": "stdout",
     "output_type": "stream",
     "text": [
      "467938 loss:1.2875631"
     ]
    },
    {
     "name": "stderr",
     "output_type": "stream",
     "text": [
      "INFO:absl: \n",
      "\t\t NumberOfEpisodes = 77\n",
      "\t\t EnvironmentSteps = 468001\n",
      "\t\t AverageReturn = -2380.676513671875\n",
      "\t\t AverageEpisodeLength = 7725.10009765625\n"
     ]
    },
    {
     "name": "stdout",
     "output_type": "stream",
     "text": [
      "468973 loss:0.4801382"
     ]
    },
    {
     "name": "stderr",
     "output_type": "stream",
     "text": [
      "INFO:absl: \n",
      "\t\t NumberOfEpisodes = 77\n",
      "\t\t EnvironmentSteps = 469001\n",
      "\t\t AverageReturn = -2380.676513671875\n",
      "\t\t AverageEpisodeLength = 7725.10009765625\n"
     ]
    },
    {
     "name": "stdout",
     "output_type": "stream",
     "text": [
      "469971 loss:0.6743175"
     ]
    },
    {
     "name": "stderr",
     "output_type": "stream",
     "text": [
      "INFO:absl: \n",
      "\t\t NumberOfEpisodes = 77\n",
      "\t\t EnvironmentSteps = 470001\n",
      "\t\t AverageReturn = -2380.676513671875\n",
      "\t\t AverageEpisodeLength = 7725.10009765625\n"
     ]
    },
    {
     "name": "stdout",
     "output_type": "stream",
     "text": [
      "470970 loss:0.9960122"
     ]
    },
    {
     "name": "stderr",
     "output_type": "stream",
     "text": [
      "INFO:absl: \n",
      "\t\t NumberOfEpisodes = 77\n",
      "\t\t EnvironmentSteps = 471001\n",
      "\t\t AverageReturn = -2380.676513671875\n",
      "\t\t AverageEpisodeLength = 7725.10009765625\n"
     ]
    },
    {
     "name": "stdout",
     "output_type": "stream",
     "text": [
      "471964 loss:0.7285622"
     ]
    },
    {
     "name": "stderr",
     "output_type": "stream",
     "text": [
      "INFO:absl: \n",
      "\t\t NumberOfEpisodes = 77\n",
      "\t\t EnvironmentSteps = 472001\n",
      "\t\t AverageReturn = -2380.676513671875\n",
      "\t\t AverageEpisodeLength = 7725.10009765625\n"
     ]
    },
    {
     "name": "stdout",
     "output_type": "stream",
     "text": [
      "472984 loss:0.5203937"
     ]
    },
    {
     "name": "stderr",
     "output_type": "stream",
     "text": [
      "INFO:absl: \n",
      "\t\t NumberOfEpisodes = 77\n",
      "\t\t EnvironmentSteps = 473001\n",
      "\t\t AverageReturn = -2380.676513671875\n",
      "\t\t AverageEpisodeLength = 7725.10009765625\n"
     ]
    },
    {
     "name": "stdout",
     "output_type": "stream",
     "text": [
      "473969 loss:0.6876049"
     ]
    },
    {
     "name": "stderr",
     "output_type": "stream",
     "text": [
      "INFO:absl: \n",
      "\t\t NumberOfEpisodes = 77\n",
      "\t\t EnvironmentSteps = 474001\n",
      "\t\t AverageReturn = -2380.676513671875\n",
      "\t\t AverageEpisodeLength = 7725.10009765625\n"
     ]
    },
    {
     "name": "stdout",
     "output_type": "stream",
     "text": [
      "474936 loss:0.61417"
     ]
    },
    {
     "name": "stderr",
     "output_type": "stream",
     "text": [
      "INFO:absl: \n",
      "\t\t NumberOfEpisodes = 78\n",
      "\t\t EnvironmentSteps = 475001\n",
      "\t\t AverageReturn = -2289.92578125\n",
      "\t\t AverageEpisodeLength = 7725.10009765625\n"
     ]
    },
    {
     "name": "stdout",
     "output_type": "stream",
     "text": [
      "475953 loss:2.2070000"
     ]
    },
    {
     "name": "stderr",
     "output_type": "stream",
     "text": [
      "INFO:absl: \n",
      "\t\t NumberOfEpisodes = 78\n",
      "\t\t EnvironmentSteps = 476001\n",
      "\t\t AverageReturn = -2289.92578125\n",
      "\t\t AverageEpisodeLength = 7725.10009765625\n"
     ]
    },
    {
     "name": "stdout",
     "output_type": "stream",
     "text": [
      "476950 loss:1.0560418"
     ]
    },
    {
     "name": "stderr",
     "output_type": "stream",
     "text": [
      "INFO:absl: \n",
      "\t\t NumberOfEpisodes = 78\n",
      "\t\t EnvironmentSteps = 477001\n",
      "\t\t AverageReturn = -2289.92578125\n",
      "\t\t AverageEpisodeLength = 7725.10009765625\n"
     ]
    },
    {
     "name": "stdout",
     "output_type": "stream",
     "text": [
      "477945 loss:0.9809922"
     ]
    },
    {
     "name": "stderr",
     "output_type": "stream",
     "text": [
      "INFO:absl: \n",
      "\t\t NumberOfEpisodes = 78\n",
      "\t\t EnvironmentSteps = 478001\n",
      "\t\t AverageReturn = -2289.92578125\n",
      "\t\t AverageEpisodeLength = 7725.10009765625\n"
     ]
    },
    {
     "name": "stdout",
     "output_type": "stream",
     "text": [
      "478985 loss:1.6621671"
     ]
    },
    {
     "name": "stderr",
     "output_type": "stream",
     "text": [
      "INFO:absl: \n",
      "\t\t NumberOfEpisodes = 78\n",
      "\t\t EnvironmentSteps = 479001\n",
      "\t\t AverageReturn = -2289.92578125\n",
      "\t\t AverageEpisodeLength = 7725.10009765625\n"
     ]
    },
    {
     "name": "stdout",
     "output_type": "stream",
     "text": [
      "479941 loss:1.6849788"
     ]
    },
    {
     "name": "stderr",
     "output_type": "stream",
     "text": [
      "INFO:absl: \n",
      "\t\t NumberOfEpisodes = 78\n",
      "\t\t EnvironmentSteps = 480001\n",
      "\t\t AverageReturn = -2289.92578125\n",
      "\t\t AverageEpisodeLength = 7725.10009765625\n"
     ]
    },
    {
     "name": "stdout",
     "output_type": "stream",
     "text": [
      "480985 loss:1.2923546"
     ]
    },
    {
     "name": "stderr",
     "output_type": "stream",
     "text": [
      "INFO:absl: \n",
      "\t\t NumberOfEpisodes = 79\n",
      "\t\t EnvironmentSteps = 481001\n",
      "\t\t AverageReturn = -2171.28955078125\n",
      "\t\t AverageEpisodeLength = 7357.39990234375\n"
     ]
    },
    {
     "name": "stdout",
     "output_type": "stream",
     "text": [
      "481977 loss:0.57081"
     ]
    },
    {
     "name": "stderr",
     "output_type": "stream",
     "text": [
      "INFO:absl: \n",
      "\t\t NumberOfEpisodes = 79\n",
      "\t\t EnvironmentSteps = 482001\n",
      "\t\t AverageReturn = -2171.28955078125\n",
      "\t\t AverageEpisodeLength = 7357.39990234375\n"
     ]
    },
    {
     "name": "stdout",
     "output_type": "stream",
     "text": [
      "482985 loss:0.6046639"
     ]
    },
    {
     "name": "stderr",
     "output_type": "stream",
     "text": [
      "INFO:absl: \n",
      "\t\t NumberOfEpisodes = 79\n",
      "\t\t EnvironmentSteps = 483001\n",
      "\t\t AverageReturn = -2171.28955078125\n",
      "\t\t AverageEpisodeLength = 7357.39990234375\n"
     ]
    },
    {
     "name": "stdout",
     "output_type": "stream",
     "text": [
      "483991 loss:1.2924674"
     ]
    },
    {
     "name": "stderr",
     "output_type": "stream",
     "text": [
      "INFO:absl: \n",
      "\t\t NumberOfEpisodes = 79\n",
      "\t\t EnvironmentSteps = 484001\n",
      "\t\t AverageReturn = -2171.28955078125\n",
      "\t\t AverageEpisodeLength = 7357.39990234375\n"
     ]
    },
    {
     "name": "stdout",
     "output_type": "stream",
     "text": [
      "484984 loss:0.5574454"
     ]
    },
    {
     "name": "stderr",
     "output_type": "stream",
     "text": [
      "INFO:absl: \n",
      "\t\t NumberOfEpisodes = 79\n",
      "\t\t EnvironmentSteps = 485001\n",
      "\t\t AverageReturn = -2171.28955078125\n",
      "\t\t AverageEpisodeLength = 7357.39990234375\n"
     ]
    },
    {
     "name": "stdout",
     "output_type": "stream",
     "text": [
      "485965 loss:0.7478019"
     ]
    },
    {
     "name": "stderr",
     "output_type": "stream",
     "text": [
      "INFO:absl: \n",
      "\t\t NumberOfEpisodes = 79\n",
      "\t\t EnvironmentSteps = 486001\n",
      "\t\t AverageReturn = -2171.28955078125\n",
      "\t\t AverageEpisodeLength = 7357.39990234375\n"
     ]
    },
    {
     "name": "stdout",
     "output_type": "stream",
     "text": [
      "486940 loss:1.2362460"
     ]
    },
    {
     "name": "stderr",
     "output_type": "stream",
     "text": [
      "INFO:absl: \n",
      "\t\t NumberOfEpisodes = 79\n",
      "\t\t EnvironmentSteps = 487001\n",
      "\t\t AverageReturn = -2171.28955078125\n",
      "\t\t AverageEpisodeLength = 7357.39990234375\n"
     ]
    },
    {
     "name": "stdout",
     "output_type": "stream",
     "text": [
      "487975 loss:1.5596906"
     ]
    },
    {
     "name": "stderr",
     "output_type": "stream",
     "text": [
      "INFO:absl: \n",
      "\t\t NumberOfEpisodes = 79\n",
      "\t\t EnvironmentSteps = 488001\n",
      "\t\t AverageReturn = -2171.28955078125\n",
      "\t\t AverageEpisodeLength = 7357.39990234375\n"
     ]
    },
    {
     "name": "stdout",
     "output_type": "stream",
     "text": [
      "488941 loss:1.0847957"
     ]
    },
    {
     "name": "stderr",
     "output_type": "stream",
     "text": [
      "INFO:absl: \n",
      "\t\t NumberOfEpisodes = 79\n",
      "\t\t EnvironmentSteps = 489001\n",
      "\t\t AverageReturn = -2171.28955078125\n",
      "\t\t AverageEpisodeLength = 7357.39990234375\n"
     ]
    },
    {
     "name": "stdout",
     "output_type": "stream",
     "text": [
      "489946 loss:0.7851196"
     ]
    },
    {
     "name": "stderr",
     "output_type": "stream",
     "text": [
      "INFO:absl: \n",
      "\t\t NumberOfEpisodes = 79\n",
      "\t\t EnvironmentSteps = 490001\n",
      "\t\t AverageReturn = -2171.28955078125\n",
      "\t\t AverageEpisodeLength = 7357.39990234375\n"
     ]
    },
    {
     "name": "stdout",
     "output_type": "stream",
     "text": [
      "490959 loss:0.9956031"
     ]
    },
    {
     "name": "stderr",
     "output_type": "stream",
     "text": [
      "INFO:absl: \n",
      "\t\t NumberOfEpisodes = 80\n",
      "\t\t EnvironmentSteps = 491001\n",
      "\t\t AverageReturn = -2233.992919921875\n",
      "\t\t AverageEpisodeLength = 7534.2998046875\n"
     ]
    },
    {
     "name": "stdout",
     "output_type": "stream",
     "text": [
      "491997 loss:0.5660860"
     ]
    },
    {
     "name": "stderr",
     "output_type": "stream",
     "text": [
      "INFO:absl: \n",
      "\t\t NumberOfEpisodes = 80\n",
      "\t\t EnvironmentSteps = 492001\n",
      "\t\t AverageReturn = -2233.992919921875\n",
      "\t\t AverageEpisodeLength = 7534.2998046875\n"
     ]
    },
    {
     "name": "stdout",
     "output_type": "stream",
     "text": [
      "492979 loss:0.5465596"
     ]
    },
    {
     "name": "stderr",
     "output_type": "stream",
     "text": [
      "INFO:absl: \n",
      "\t\t NumberOfEpisodes = 80\n",
      "\t\t EnvironmentSteps = 493001\n",
      "\t\t AverageReturn = -2233.992919921875\n",
      "\t\t AverageEpisodeLength = 7534.2998046875\n"
     ]
    },
    {
     "name": "stdout",
     "output_type": "stream",
     "text": [
      "493962 loss:0.6829936"
     ]
    },
    {
     "name": "stderr",
     "output_type": "stream",
     "text": [
      "INFO:absl: \n",
      "\t\t NumberOfEpisodes = 80\n",
      "\t\t EnvironmentSteps = 494001\n",
      "\t\t AverageReturn = -2233.992919921875\n",
      "\t\t AverageEpisodeLength = 7534.2998046875\n"
     ]
    },
    {
     "name": "stdout",
     "output_type": "stream",
     "text": [
      "494977 loss:0.6833721"
     ]
    },
    {
     "name": "stderr",
     "output_type": "stream",
     "text": [
      "INFO:absl: \n",
      "\t\t NumberOfEpisodes = 80\n",
      "\t\t EnvironmentSteps = 495001\n",
      "\t\t AverageReturn = -2233.992919921875\n",
      "\t\t AverageEpisodeLength = 7534.2998046875\n"
     ]
    },
    {
     "name": "stdout",
     "output_type": "stream",
     "text": [
      "495950 loss:1.2081270"
     ]
    },
    {
     "name": "stderr",
     "output_type": "stream",
     "text": [
      "INFO:absl: \n",
      "\t\t NumberOfEpisodes = 80\n",
      "\t\t EnvironmentSteps = 496001\n",
      "\t\t AverageReturn = -2233.992919921875\n",
      "\t\t AverageEpisodeLength = 7534.2998046875\n"
     ]
    },
    {
     "name": "stdout",
     "output_type": "stream",
     "text": [
      "496947 loss:0.8644898"
     ]
    },
    {
     "name": "stderr",
     "output_type": "stream",
     "text": [
      "INFO:absl: \n",
      "\t\t NumberOfEpisodes = 80\n",
      "\t\t EnvironmentSteps = 497001\n",
      "\t\t AverageReturn = -2233.992919921875\n",
      "\t\t AverageEpisodeLength = 7534.2998046875\n"
     ]
    },
    {
     "name": "stdout",
     "output_type": "stream",
     "text": [
      "497964 loss:0.9287765"
     ]
    },
    {
     "name": "stderr",
     "output_type": "stream",
     "text": [
      "INFO:absl: \n",
      "\t\t NumberOfEpisodes = 80\n",
      "\t\t EnvironmentSteps = 498001\n",
      "\t\t AverageReturn = -2233.992919921875\n",
      "\t\t AverageEpisodeLength = 7534.2998046875\n"
     ]
    },
    {
     "name": "stdout",
     "output_type": "stream",
     "text": [
      "498984 loss:0.8688259"
     ]
    },
    {
     "name": "stderr",
     "output_type": "stream",
     "text": [
      "INFO:absl: \n",
      "\t\t NumberOfEpisodes = 80\n",
      "\t\t EnvironmentSteps = 499001\n",
      "\t\t AverageReturn = -2233.992919921875\n",
      "\t\t AverageEpisodeLength = 7534.2998046875\n"
     ]
    },
    {
     "name": "stdout",
     "output_type": "stream",
     "text": [
      "499999 loss:0.3590486"
     ]
    }
   ],
   "source": [
    "from tf_agents.utils.common import function\n",
    "\n",
    "agent.train = common.function(agent.train)\n",
    "collect_driver.run = function(collect_driver.run)\n",
    "\n",
    "# Reset the train step\n",
    "agent.train_step_counter.assign(0)\n",
    "\n",
    "\n",
    "\n",
    "time_step = None\n",
    "policy_state = agent.collect_policy.get_initial_state(train_env.batch_size)\n",
    "#iterator = iter(dataset)\n",
    "loss = []\n",
    "for iteration in range(num_iterations):\n",
    "    time_step, policy_state = collect_driver.run(time_step, policy_state)\n",
    "    trajectories, buffer_info = next(iterator)\n",
    "    train_loss = agent.train(trajectories)\n",
    "    loss.append(train_loss.loss.numpy())\n",
    "    #t_env_f.render()\n",
    "    print(\"\\r{} loss:{:.5f}\".format(\n",
    "        iteration, train_loss.loss.numpy()), end=\"\")\n",
    "    if iteration % 1000 == 0:\n",
    "        log_metrics(train_metrics)"
   ]
  },
  {
   "cell_type": "code",
   "execution_count": null,
   "metadata": {},
   "outputs": [],
   "source": [
    "import matplotlib.pyplot as plt\n",
    "\n",
    "x = range(0, num_iterations)\n",
    "plt.plot(x, loss)\n"
   ]
  },
  {
   "cell_type": "code",
   "execution_count": null,
   "metadata": {},
   "outputs": [],
   "source": [
    "import imageio\n",
    "import base64\n",
    "import IPython\n",
    "def embed_mp4(filename):\n",
    "  \"\"\"Embeds an mp4 file in the notebook.\"\"\"\n",
    "  video = open(filename,'rb').read()\n",
    "  b64 = base64.b64encode(video)\n",
    "  tag = '''\n",
    "  <video width=\"640\" height=\"480\" controls>\n",
    "    <source src=\"data:video/mp4;base64,{0}\" type=\"video/mp4\">\n",
    "  Your browser does not support the video tag.\n",
    "  </video>'''.format(b64.decode())\n",
    "\n",
    "  return IPython.display.HTML(tag)"
   ]
  },
  {
   "cell_type": "code",
   "execution_count": null,
   "metadata": {},
   "outputs": [],
   "source": [
    "def create_policy_eval_video(policy, filename, num_episodes=1, fps=30):\n",
    "  filename = filename + \".mp4\"\n",
    "  with imageio.get_writer(filename, fps=fps) as video:\n",
    "    for _ in range(num_episodes):\n",
    "        time_step = eval_tf_env.reset()\n",
    "        eval_py_env.render()\n",
    "        print(time_step)\n",
    "        video.append_data(eval_py_env.render())\n",
    "        while not time_step.is_last():\n",
    "            action_step = policy.action(time_step)\n",
    "            time_step = eval_tf_env.step(action_step.action)\n",
    "            video.append_data(eval_py_env.render())\n",
    "            \n",
    "  return embed_mp4(filename)\n",
    "\n",
    "\n",
    "\n",
    "\n",
    "#create_policy_eval_video(agent.policy, \"trained-agent\")"
   ]
  },
  {
   "cell_type": "code",
   "execution_count": null,
   "metadata": {},
   "outputs": [],
   "source": [
    "\n",
    "policy = agent.policy\n",
    "for _ in range(1):\n",
    "    time_step = t_tf_env.reset() #eval_tf_env.reset()\n",
    "#     print(time_step,'\\n \\n')\n",
    "#     print(train_env.time_step_spec())\n",
    "    t_env_f.render()\n",
    "    \n",
    "    while not time_step.is_last():\n",
    "        action_step = policy.action(time_step)\n",
    "        time_step = t_tf_env.step(action_step.action)\n",
    "        t_env_f.render()\n",
    "\n",
    "#     action_step = policy.action(time_step)\n",
    "#     time_step = t_tf_env.step(action_step.action)\n",
    "#     t_env_f.render()\n"
   ]
  },
  {
   "cell_type": "code",
   "execution_count": null,
   "metadata": {},
   "outputs": [],
   "source": []
  }
 ],
 "metadata": {
  "kernelspec": {
   "display_name": "Python 3",
   "language": "python",
   "name": "python3"
  },
  "language_info": {
   "codemirror_mode": {
    "name": "ipython",
    "version": 3
   },
   "file_extension": ".py",
   "mimetype": "text/x-python",
   "name": "python",
   "nbconvert_exporter": "python",
   "pygments_lexer": "ipython3",
   "version": "3.6.10"
  },
  "varInspector": {
   "cols": {
    "lenName": 16,
    "lenType": 16,
    "lenVar": 40
   },
   "kernels_config": {
    "python": {
     "delete_cmd_postfix": "",
     "delete_cmd_prefix": "del ",
     "library": "var_list.py",
     "varRefreshCmd": "print(var_dic_list())"
    },
    "r": {
     "delete_cmd_postfix": ") ",
     "delete_cmd_prefix": "rm(",
     "library": "var_list.r",
     "varRefreshCmd": "cat(var_dic_list()) "
    }
   },
   "types_to_exclude": [
    "module",
    "function",
    "builtin_function_or_method",
    "instance",
    "_Feature"
   ],
   "window_display": false
  }
 },
 "nbformat": 4,
 "nbformat_minor": 4
}
