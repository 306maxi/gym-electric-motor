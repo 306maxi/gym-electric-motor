{
 "cells": [
  {
   "cell_type": "code",
   "execution_count": 2,
   "metadata": {},
   "outputs": [],
   "source": [
    "from gym_electric_motor.reference_generators import WienerProcessReferenceGenerator\n",
    "from gym_electric_motor.visualization import MotorDashboard\n",
    "import gym_electric_motor as gem\n",
    "\n",
    "env = gem.make('emotor-dc-series-disc-v1',max_episode_steps=10000,\n",
    "        state_filter=['i'],\n",
    "        visualization=MotorDashboard(update_period=2e-1, visu_period=1, plotted_variables=['omega', 'i', 'u']),\n",
    "        converter='Disc-4QC',\n",
    "        load_parameter=dict(a=0, b=.1, c=1.1, j_load=0.4),\n",
    "        ode_solver='euler', solver_kwargs={},\n",
    "        reference_generator=WienerProcessReferenceGenerator(reference_state='i',\n",
    "                                                            sigma_range=(5e-4,\n",
    "                                                                         5e-3)))\n",
    "env.reset()\n",
    "for i in range(1000):\n",
    "    env.step(env.action_space.sample())\n",
    "env.render()"
   ]
  },
  {
   "cell_type": "code",
   "execution_count": null,
   "metadata": {},
   "outputs": [],
   "source": []
  }
 ],
 "metadata": {
  "kernelspec": {
   "display_name": "Python 3",
   "language": "python",
   "name": "python3"
  },
  "language_info": {
   "codemirror_mode": {
    "name": "ipython",
    "version": 3
   },
   "file_extension": ".py",
   "mimetype": "text/x-python",
   "name": "python",
   "nbconvert_exporter": "python",
   "pygments_lexer": "ipython3",
   "version": "3.6.10"
  }
 },
 "nbformat": 4,
 "nbformat_minor": 4
}
